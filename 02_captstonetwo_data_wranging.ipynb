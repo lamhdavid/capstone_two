{
 "cells": [
  {
   "cell_type": "markdown",
   "metadata": {},
   "source": [
    "# 2.0 Import world happiness data and packages"
   ]
  },
  {
   "cell_type": "code",
   "execution_count": 574,
   "metadata": {},
   "outputs": [],
   "source": [
    "import pandas as pd\n",
    "import numpy as np\n",
    "import matplotlib.pyplot as plt\n",
    "import seaborn as sns\n",
    "import os"
   ]
  },
  {
   "cell_type": "code",
   "execution_count": 575,
   "metadata": {},
   "outputs": [],
   "source": [
    "# Import world happiness report 2021 data\n",
    "\n",
    "whr_2021 = pd.read_csv('world-happiness-report-2021.csv')"
   ]
  },
  {
   "cell_type": "code",
   "execution_count": 576,
   "metadata": {},
   "outputs": [],
   "source": [
    "# Import World happiness report data - Historical\n",
    "\n",
    "whr_historical = pd.read_csv('world-happiness-report.csv')"
   ]
  },
  {
   "cell_type": "markdown",
   "metadata": {},
   "source": [
    "## 2.0.1 Info on where to find data definitions\n",
    "\n",
    "### The data definition for the following metrics found in the two world happiness report data sets can be found in the same github repo as this jupyter notebook. The name of the file is 'Appendix1WHR2021C2'\n",
    "\n",
    " * Ladder Score\n",
    " * Logged GDP per capita\n",
    " * Social support\n",
    " * Health life expectancy\n",
    " * Freedom to make life choices\n",
    " * Generosity\n",
    " * Perceptions of corruption\n",
    " * Ladder score in Dystopia"
   ]
  },
  {
   "cell_type": "markdown",
   "metadata": {},
   "source": [
    "# 2.1 Data exploration of World Happiness Report data\n",
    "\n",
    "## 2.1.1 Check info for dataset"
   ]
  },
  {
   "cell_type": "markdown",
   "metadata": {},
   "source": [
    "There does not appear to be any missing data in this data set. The target variable for our model will be the Ladder score which is the Happiness score defined as:\n",
    "\n",
    " * Happiness score or subjective well-being (variable name ladder): The survey measure of SWB is from the Feb 26, 2021 release of the Gallup World Poll (GWP) covering years from 2005 to 2020. Unless stated otherwise, it is the na- tional average response to the question of life evaluations. The English wording of the question is “Please imagine a ladder, with steps numbered from 0 at the bottom to 10 at the top. The top of the ladder represents the best possible life for you and the bottom of the ladder represents the worst possible life for you. On which step of the ladder would you say you personally feel you stand at this time?” This measure is also referred to as Cantril life ladder, or just life ladder in our analysis.\n",
    " \n",
    "The report covers 149 countries which have a Happiness score. We will focus on these countries"
   ]
  },
  {
   "cell_type": "code",
   "execution_count": 577,
   "metadata": {},
   "outputs": [
    {
     "name": "stdout",
     "output_type": "stream",
     "text": [
      "<class 'pandas.core.frame.DataFrame'>\n",
      "RangeIndex: 149 entries, 0 to 148\n",
      "Data columns (total 20 columns):\n",
      " #   Column                                      Non-Null Count  Dtype  \n",
      "---  ------                                      --------------  -----  \n",
      " 0   Country name                                149 non-null    object \n",
      " 1   Regional indicator                          149 non-null    object \n",
      " 2   Ladder score                                149 non-null    float64\n",
      " 3   Standard error of ladder score              149 non-null    float64\n",
      " 4   upperwhisker                                149 non-null    float64\n",
      " 5   lowerwhisker                                149 non-null    float64\n",
      " 6   Logged GDP per capita                       149 non-null    float64\n",
      " 7   Social support                              149 non-null    float64\n",
      " 8   Healthy life expectancy                     149 non-null    float64\n",
      " 9   Freedom to make life choices                149 non-null    float64\n",
      " 10  Generosity                                  149 non-null    float64\n",
      " 11  Perceptions of corruption                   149 non-null    float64\n",
      " 12  Ladder score in Dystopia                    149 non-null    float64\n",
      " 13  Explained by: Log GDP per capita            149 non-null    float64\n",
      " 14  Explained by: Social support                149 non-null    float64\n",
      " 15  Explained by: Healthy life expectancy       149 non-null    float64\n",
      " 16  Explained by: Freedom to make life choices  149 non-null    float64\n",
      " 17  Explained by: Generosity                    149 non-null    float64\n",
      " 18  Explained by: Perceptions of corruption     149 non-null    float64\n",
      " 19  Dystopia + residual                         149 non-null    float64\n",
      "dtypes: float64(18), object(2)\n",
      "memory usage: 23.4+ KB\n"
     ]
    }
   ],
   "source": [
    "# Explore the whr_2021 dataset\n",
    "\n",
    "whr_2021.info()\n"
   ]
  },
  {
   "cell_type": "markdown",
   "metadata": {},
   "source": [
    "## 2.1.2 Filter WHR 2021 dataset for feature columns\n",
    "\n",
    "Need to exclude columns with the word 'Explained' in it, as these are not features. They appear to be model results."
   ]
  },
  {
   "cell_type": "code",
   "execution_count": 578,
   "metadata": {
    "scrolled": false
   },
   "outputs": [
    {
     "name": "stdout",
     "output_type": "stream",
     "text": [
      "<class 'pandas.core.frame.DataFrame'>\n",
      "RangeIndex: 149 entries, 0 to 148\n",
      "Data columns (total 9 columns):\n",
      " #   Column                        Non-Null Count  Dtype  \n",
      "---  ------                        --------------  -----  \n",
      " 0   Country name                  149 non-null    object \n",
      " 1   Regional indicator            149 non-null    object \n",
      " 2   Ladder score                  149 non-null    float64\n",
      " 3   Logged GDP per capita         149 non-null    float64\n",
      " 4   Social support                149 non-null    float64\n",
      " 5   Healthy life expectancy       149 non-null    float64\n",
      " 6   Freedom to make life choices  149 non-null    float64\n",
      " 7   Generosity                    149 non-null    float64\n",
      " 8   Perceptions of corruption     149 non-null    float64\n",
      "dtypes: float64(7), object(2)\n",
      "memory usage: 10.6+ KB\n"
     ]
    }
   ],
   "source": [
    "whr_2021_filt = whr_2021.loc[:, ['Country name','Regional indicator', 'Ladder score', 'Logged GDP per capita', 'Social support', 'Healthy life expectancy', 'Freedom to make life choices', 'Generosity', 'Perceptions of corruption']]\n",
    "whr_2021_filt.info()"
   ]
  },
  {
   "cell_type": "markdown",
   "metadata": {},
   "source": [
    "## 2.1.3 Obtain summary statistics on numeric variables and plot histogram"
   ]
  },
  {
   "cell_type": "code",
   "execution_count": 579,
   "metadata": {},
   "outputs": [
    {
     "data": {
      "text/html": [
       "<div>\n",
       "<style scoped>\n",
       "    .dataframe tbody tr th:only-of-type {\n",
       "        vertical-align: middle;\n",
       "    }\n",
       "\n",
       "    .dataframe tbody tr th {\n",
       "        vertical-align: top;\n",
       "    }\n",
       "\n",
       "    .dataframe thead th {\n",
       "        text-align: right;\n",
       "    }\n",
       "</style>\n",
       "<table border=\"1\" class=\"dataframe\">\n",
       "  <thead>\n",
       "    <tr style=\"text-align: right;\">\n",
       "      <th></th>\n",
       "      <th>Ladder score</th>\n",
       "      <th>Logged GDP per capita</th>\n",
       "      <th>Social support</th>\n",
       "      <th>Healthy life expectancy</th>\n",
       "      <th>Freedom to make life choices</th>\n",
       "      <th>Generosity</th>\n",
       "      <th>Perceptions of corruption</th>\n",
       "    </tr>\n",
       "  </thead>\n",
       "  <tbody>\n",
       "    <tr>\n",
       "      <th>count</th>\n",
       "      <td>149.000000</td>\n",
       "      <td>149.000000</td>\n",
       "      <td>149.000000</td>\n",
       "      <td>149.000000</td>\n",
       "      <td>149.000000</td>\n",
       "      <td>149.000000</td>\n",
       "      <td>149.000000</td>\n",
       "    </tr>\n",
       "    <tr>\n",
       "      <th>mean</th>\n",
       "      <td>5.532839</td>\n",
       "      <td>9.432208</td>\n",
       "      <td>0.814745</td>\n",
       "      <td>64.992799</td>\n",
       "      <td>0.791597</td>\n",
       "      <td>-0.015134</td>\n",
       "      <td>0.727450</td>\n",
       "    </tr>\n",
       "    <tr>\n",
       "      <th>std</th>\n",
       "      <td>1.073924</td>\n",
       "      <td>1.158601</td>\n",
       "      <td>0.114889</td>\n",
       "      <td>6.762043</td>\n",
       "      <td>0.113332</td>\n",
       "      <td>0.150657</td>\n",
       "      <td>0.179226</td>\n",
       "    </tr>\n",
       "    <tr>\n",
       "      <th>min</th>\n",
       "      <td>2.523000</td>\n",
       "      <td>6.635000</td>\n",
       "      <td>0.463000</td>\n",
       "      <td>48.478000</td>\n",
       "      <td>0.382000</td>\n",
       "      <td>-0.288000</td>\n",
       "      <td>0.082000</td>\n",
       "    </tr>\n",
       "    <tr>\n",
       "      <th>25%</th>\n",
       "      <td>4.852000</td>\n",
       "      <td>8.541000</td>\n",
       "      <td>0.750000</td>\n",
       "      <td>59.802000</td>\n",
       "      <td>0.718000</td>\n",
       "      <td>-0.126000</td>\n",
       "      <td>0.667000</td>\n",
       "    </tr>\n",
       "    <tr>\n",
       "      <th>50%</th>\n",
       "      <td>5.534000</td>\n",
       "      <td>9.569000</td>\n",
       "      <td>0.832000</td>\n",
       "      <td>66.603000</td>\n",
       "      <td>0.804000</td>\n",
       "      <td>-0.036000</td>\n",
       "      <td>0.781000</td>\n",
       "    </tr>\n",
       "    <tr>\n",
       "      <th>75%</th>\n",
       "      <td>6.255000</td>\n",
       "      <td>10.421000</td>\n",
       "      <td>0.905000</td>\n",
       "      <td>69.600000</td>\n",
       "      <td>0.877000</td>\n",
       "      <td>0.079000</td>\n",
       "      <td>0.845000</td>\n",
       "    </tr>\n",
       "    <tr>\n",
       "      <th>max</th>\n",
       "      <td>7.842000</td>\n",
       "      <td>11.647000</td>\n",
       "      <td>0.983000</td>\n",
       "      <td>76.953000</td>\n",
       "      <td>0.970000</td>\n",
       "      <td>0.542000</td>\n",
       "      <td>0.939000</td>\n",
       "    </tr>\n",
       "  </tbody>\n",
       "</table>\n",
       "</div>"
      ],
      "text/plain": [
       "       Ladder score  Logged GDP per capita  Social support  \\\n",
       "count    149.000000             149.000000      149.000000   \n",
       "mean       5.532839               9.432208        0.814745   \n",
       "std        1.073924               1.158601        0.114889   \n",
       "min        2.523000               6.635000        0.463000   \n",
       "25%        4.852000               8.541000        0.750000   \n",
       "50%        5.534000               9.569000        0.832000   \n",
       "75%        6.255000              10.421000        0.905000   \n",
       "max        7.842000              11.647000        0.983000   \n",
       "\n",
       "       Healthy life expectancy  Freedom to make life choices  Generosity  \\\n",
       "count               149.000000                    149.000000  149.000000   \n",
       "mean                 64.992799                      0.791597   -0.015134   \n",
       "std                   6.762043                      0.113332    0.150657   \n",
       "min                  48.478000                      0.382000   -0.288000   \n",
       "25%                  59.802000                      0.718000   -0.126000   \n",
       "50%                  66.603000                      0.804000   -0.036000   \n",
       "75%                  69.600000                      0.877000    0.079000   \n",
       "max                  76.953000                      0.970000    0.542000   \n",
       "\n",
       "       Perceptions of corruption  \n",
       "count                 149.000000  \n",
       "mean                    0.727450  \n",
       "std                     0.179226  \n",
       "min                     0.082000  \n",
       "25%                     0.667000  \n",
       "50%                     0.781000  \n",
       "75%                     0.845000  \n",
       "max                     0.939000  "
      ]
     },
     "execution_count": 579,
     "metadata": {},
     "output_type": "execute_result"
    }
   ],
   "source": [
    "whr_2021_filt.describe()"
   ]
  },
  {
   "cell_type": "code",
   "execution_count": 580,
   "metadata": {
    "scrolled": true
   },
   "outputs": [
    {
     "data": {
      "text/plain": [
       "array([[<AxesSubplot:title={'center':'Ladder score'}>,\n",
       "        <AxesSubplot:title={'center':'Logged GDP per capita'}>,\n",
       "        <AxesSubplot:title={'center':'Social support'}>],\n",
       "       [<AxesSubplot:title={'center':'Healthy life expectancy'}>,\n",
       "        <AxesSubplot:title={'center':'Freedom to make life choices'}>,\n",
       "        <AxesSubplot:title={'center':'Generosity'}>],\n",
       "       [<AxesSubplot:title={'center':'Perceptions of corruption'}>,\n",
       "        <AxesSubplot:>, <AxesSubplot:>]], dtype=object)"
      ]
     },
     "execution_count": 580,
     "metadata": {},
     "output_type": "execute_result"
    },
    {
     "data": {
      "image/png": "[encoded data removed]",
      "text/plain": [
       "<Figure size 1080x720 with 9 Axes>"
      ]
     },
     "metadata": {
      "needs_background": "light"
     },
     "output_type": "display_data"
    }
   ],
   "source": [
    "whr_2021_filt.hist(bins = 20, histtype='step', figsize = (15,10))"
   ]
  },
  {
   "cell_type": "markdown",
   "metadata": {},
   "source": [
    "Ladder score (Happiness Score) appears to be normally distributed. Same with Logged GDP per capita. The other variables appear to have skew. Need to look into how to address this."
   ]
  },
  {
   "cell_type": "markdown",
   "metadata": {},
   "source": [
    "## 2.1.4 Additional analysis on filtered WHR dataset"
   ]
  },
  {
   "cell_type": "code",
   "execution_count": 581,
   "metadata": {
    "scrolled": true
   },
   "outputs": [
    {
     "data": {
      "text/html": [
       "<div>\n",
       "<style scoped>\n",
       "    .dataframe tbody tr th:only-of-type {\n",
       "        vertical-align: middle;\n",
       "    }\n",
       "\n",
       "    .dataframe tbody tr th {\n",
       "        vertical-align: top;\n",
       "    }\n",
       "\n",
       "    .dataframe thead th {\n",
       "        text-align: right;\n",
       "    }\n",
       "</style>\n",
       "<table border=\"1\" class=\"dataframe\">\n",
       "  <thead>\n",
       "    <tr style=\"text-align: right;\">\n",
       "      <th></th>\n",
       "      <th>Country name</th>\n",
       "      <th>Regional indicator</th>\n",
       "      <th>Ladder score</th>\n",
       "      <th>Logged GDP per capita</th>\n",
       "      <th>Social support</th>\n",
       "      <th>Healthy life expectancy</th>\n",
       "      <th>Freedom to make life choices</th>\n",
       "      <th>Generosity</th>\n",
       "      <th>Perceptions of corruption</th>\n",
       "    </tr>\n",
       "  </thead>\n",
       "  <tbody>\n",
       "    <tr>\n",
       "      <th>0</th>\n",
       "      <td>Finland</td>\n",
       "      <td>Western Europe</td>\n",
       "      <td>7.842</td>\n",
       "      <td>10.775</td>\n",
       "      <td>0.954</td>\n",
       "      <td>72.0</td>\n",
       "      <td>0.949</td>\n",
       "      <td>-0.098</td>\n",
       "      <td>0.186</td>\n",
       "    </tr>\n",
       "    <tr>\n",
       "      <th>1</th>\n",
       "      <td>Denmark</td>\n",
       "      <td>Western Europe</td>\n",
       "      <td>7.620</td>\n",
       "      <td>10.933</td>\n",
       "      <td>0.954</td>\n",
       "      <td>72.7</td>\n",
       "      <td>0.946</td>\n",
       "      <td>0.030</td>\n",
       "      <td>0.179</td>\n",
       "    </tr>\n",
       "    <tr>\n",
       "      <th>2</th>\n",
       "      <td>Switzerland</td>\n",
       "      <td>Western Europe</td>\n",
       "      <td>7.571</td>\n",
       "      <td>11.117</td>\n",
       "      <td>0.942</td>\n",
       "      <td>74.4</td>\n",
       "      <td>0.919</td>\n",
       "      <td>0.025</td>\n",
       "      <td>0.292</td>\n",
       "    </tr>\n",
       "    <tr>\n",
       "      <th>3</th>\n",
       "      <td>Iceland</td>\n",
       "      <td>Western Europe</td>\n",
       "      <td>7.554</td>\n",
       "      <td>10.878</td>\n",
       "      <td>0.983</td>\n",
       "      <td>73.0</td>\n",
       "      <td>0.955</td>\n",
       "      <td>0.160</td>\n",
       "      <td>0.673</td>\n",
       "    </tr>\n",
       "    <tr>\n",
       "      <th>4</th>\n",
       "      <td>Netherlands</td>\n",
       "      <td>Western Europe</td>\n",
       "      <td>7.464</td>\n",
       "      <td>10.932</td>\n",
       "      <td>0.942</td>\n",
       "      <td>72.4</td>\n",
       "      <td>0.913</td>\n",
       "      <td>0.175</td>\n",
       "      <td>0.338</td>\n",
       "    </tr>\n",
       "  </tbody>\n",
       "</table>\n",
       "</div>"
      ],
      "text/plain": [
       "  Country name Regional indicator  Ladder score  Logged GDP per capita  \\\n",
       "0      Finland     Western Europe         7.842                 10.775   \n",
       "1      Denmark     Western Europe         7.620                 10.933   \n",
       "2  Switzerland     Western Europe         7.571                 11.117   \n",
       "3      Iceland     Western Europe         7.554                 10.878   \n",
       "4  Netherlands     Western Europe         7.464                 10.932   \n",
       "\n",
       "   Social support  Healthy life expectancy  Freedom to make life choices  \\\n",
       "0           0.954                     72.0                         0.949   \n",
       "1           0.954                     72.7                         0.946   \n",
       "2           0.942                     74.4                         0.919   \n",
       "3           0.983                     73.0                         0.955   \n",
       "4           0.942                     72.4                         0.913   \n",
       "\n",
       "   Generosity  Perceptions of corruption  \n",
       "0      -0.098                      0.186  \n",
       "1       0.030                      0.179  \n",
       "2       0.025                      0.292  \n",
       "3       0.160                      0.673  \n",
       "4       0.175                      0.338  "
      ]
     },
     "execution_count": 581,
     "metadata": {},
     "output_type": "execute_result"
    }
   ],
   "source": [
    "whr_2021_filt.head()"
   ]
  },
  {
   "cell_type": "code",
   "execution_count": 582,
   "metadata": {},
   "outputs": [
    {
     "data": {
      "text/plain": [
       "1"
      ]
     },
     "execution_count": 582,
     "metadata": {},
     "output_type": "execute_result"
    }
   ],
   "source": [
    "# Country name is unique\n",
    "\n",
    "whr_2021_filt['Country name'].value_counts().max()"
   ]
  },
  {
   "cell_type": "code",
   "execution_count": 583,
   "metadata": {},
   "outputs": [
    {
     "data": {
      "text/plain": [
       "True"
      ]
     },
     "execution_count": 583,
     "metadata": {},
     "output_type": "execute_result"
    }
   ],
   "source": [
    "# Another way to verify that we have 149 unique country names\n",
    "\n",
    "len(whr_2021_filt['Country name'].unique()) == len(whr_2021_filt['Country name'])"
   ]
  },
  {
   "cell_type": "markdown",
   "metadata": {},
   "source": [
    "Country name appears to be unique.\n",
    "\n",
    "Below we can see the distribution of countries across region. This might be useful later"
   ]
  },
  {
   "cell_type": "code",
   "execution_count": 584,
   "metadata": {},
   "outputs": [
    {
     "data": {
      "text/plain": [
       "Sub-Saharan Africa                    36\n",
       "Western Europe                        21\n",
       "Latin America and Caribbean           20\n",
       "Middle East and North Africa          17\n",
       "Central and Eastern Europe            17\n",
       "Commonwealth of Independent States    12\n",
       "Southeast Asia                         9\n",
       "South Asia                             7\n",
       "East Asia                              6\n",
       "North America and ANZ                  4\n",
       "Name: Regional indicator, dtype: int64"
      ]
     },
     "execution_count": 584,
     "metadata": {},
     "output_type": "execute_result"
    }
   ],
   "source": [
    "# count unique values of Regioal indicator\n",
    "\n",
    "whr_2021_filt['Regional indicator'].value_counts()"
   ]
  },
  {
   "cell_type": "markdown",
   "metadata": {},
   "source": [
    "# 2.2 Importing third party datasets"
   ]
  },
  {
   "cell_type": "markdown",
   "metadata": {},
   "source": [
    "## 2.2.0 Questions we have around world happiness\n",
    "\n",
    "We have 7 variables that are continous. Upon inspecting, it appears that this is the correct data type for these variables\n",
    "\n",
    "### Additional datasets\n",
    "\n",
    "In addition to these 7 variables found in the world happiness report, we would like to include data from other sources to see if it can help explain and predict the Happiness score.\n",
    "\n",
    "Questions we have are:\n",
    "\n",
    "1. Does income inequality impact the happiness score? Added column 'gini'\n",
    "2. Does income per capital have an impact on happiness score? Can money buy happiness?\n",
    "3. Does Fertility impact the happiness score? does having more or less kids make a society happier?\n",
    "4. Does child mortality explain a country's happiness score?\n",
    "5. Does labour force participation impact happiness score?\n",
    "\n",
    "We use data from gapminder.org to enhance our data set to answer these questions"
   ]
  },
  {
   "cell_type": "markdown",
   "metadata": {},
   "source": [
    "## 2.2.1 Income inequality: Gini dataset\n",
    "\n",
    "\n",
    "### 1. Does income inequality impact happiness score? add gini data\n",
    "\n",
    "description:Gini shows income inequality in a society. A higher number means more inequality.\n",
    "source_url:http://gapm.io/ddgini"
   ]
  },
  {
   "cell_type": "markdown",
   "metadata": {},
   "source": [
    "### 2.2.1.1 Import gini dataset and conduct summary analysis"
   ]
  },
  {
   "cell_type": "code",
   "execution_count": 585,
   "metadata": {},
   "outputs": [],
   "source": [
    "gini = pd.read_csv('gini.csv')"
   ]
  },
  {
   "cell_type": "code",
   "execution_count": 586,
   "metadata": {
    "scrolled": true
   },
   "outputs": [
    {
     "data": {
      "text/html": [
       "<div>\n",
       "<style scoped>\n",
       "    .dataframe tbody tr th:only-of-type {\n",
       "        vertical-align: middle;\n",
       "    }\n",
       "\n",
       "    .dataframe tbody tr th {\n",
       "        vertical-align: top;\n",
       "    }\n",
       "\n",
       "    .dataframe thead th {\n",
       "        text-align: right;\n",
       "    }\n",
       "</style>\n",
       "<table border=\"1\" class=\"dataframe\">\n",
       "  <thead>\n",
       "    <tr style=\"text-align: right;\">\n",
       "      <th></th>\n",
       "      <th>country</th>\n",
       "      <th>1799</th>\n",
       "      <th>1800</th>\n",
       "      <th>1801</th>\n",
       "      <th>1802</th>\n",
       "      <th>1803</th>\n",
       "      <th>1804</th>\n",
       "      <th>1805</th>\n",
       "      <th>1806</th>\n",
       "      <th>1807</th>\n",
       "      <th>...</th>\n",
       "      <th>2030</th>\n",
       "      <th>2031</th>\n",
       "      <th>2032</th>\n",
       "      <th>2033</th>\n",
       "      <th>2034</th>\n",
       "      <th>2035</th>\n",
       "      <th>2036</th>\n",
       "      <th>2037</th>\n",
       "      <th>2038</th>\n",
       "      <th>2039</th>\n",
       "    </tr>\n",
       "  </thead>\n",
       "  <tbody>\n",
       "    <tr>\n",
       "      <th>0</th>\n",
       "      <td>Afghanistan</td>\n",
       "      <td>30.5</td>\n",
       "      <td>30.5</td>\n",
       "      <td>30.5</td>\n",
       "      <td>30.5</td>\n",
       "      <td>30.5</td>\n",
       "      <td>30.5</td>\n",
       "      <td>30.5</td>\n",
       "      <td>30.5</td>\n",
       "      <td>30.5</td>\n",
       "      <td>...</td>\n",
       "      <td>36.8</td>\n",
       "      <td>36.8</td>\n",
       "      <td>36.8</td>\n",
       "      <td>36.8</td>\n",
       "      <td>36.8</td>\n",
       "      <td>36.8</td>\n",
       "      <td>36.8</td>\n",
       "      <td>36.8</td>\n",
       "      <td>36.8</td>\n",
       "      <td>36.8</td>\n",
       "    </tr>\n",
       "    <tr>\n",
       "      <th>1</th>\n",
       "      <td>Angola</td>\n",
       "      <td>57.2</td>\n",
       "      <td>57.2</td>\n",
       "      <td>57.2</td>\n",
       "      <td>57.2</td>\n",
       "      <td>57.2</td>\n",
       "      <td>57.2</td>\n",
       "      <td>57.2</td>\n",
       "      <td>57.2</td>\n",
       "      <td>57.2</td>\n",
       "      <td>...</td>\n",
       "      <td>42.6</td>\n",
       "      <td>42.6</td>\n",
       "      <td>42.6</td>\n",
       "      <td>42.6</td>\n",
       "      <td>42.6</td>\n",
       "      <td>42.6</td>\n",
       "      <td>42.6</td>\n",
       "      <td>42.6</td>\n",
       "      <td>42.6</td>\n",
       "      <td>42.6</td>\n",
       "    </tr>\n",
       "    <tr>\n",
       "      <th>2</th>\n",
       "      <td>Albania</td>\n",
       "      <td>38.9</td>\n",
       "      <td>38.9</td>\n",
       "      <td>38.9</td>\n",
       "      <td>38.9</td>\n",
       "      <td>38.9</td>\n",
       "      <td>38.9</td>\n",
       "      <td>38.9</td>\n",
       "      <td>38.9</td>\n",
       "      <td>38.9</td>\n",
       "      <td>...</td>\n",
       "      <td>29.0</td>\n",
       "      <td>29.0</td>\n",
       "      <td>29.0</td>\n",
       "      <td>29.0</td>\n",
       "      <td>29.0</td>\n",
       "      <td>29.0</td>\n",
       "      <td>29.0</td>\n",
       "      <td>29.0</td>\n",
       "      <td>29.0</td>\n",
       "      <td>29.0</td>\n",
       "    </tr>\n",
       "    <tr>\n",
       "      <th>3</th>\n",
       "      <td>Andorra</td>\n",
       "      <td>40.0</td>\n",
       "      <td>40.0</td>\n",
       "      <td>40.0</td>\n",
       "      <td>40.0</td>\n",
       "      <td>40.0</td>\n",
       "      <td>40.0</td>\n",
       "      <td>40.0</td>\n",
       "      <td>40.0</td>\n",
       "      <td>40.0</td>\n",
       "      <td>...</td>\n",
       "      <td>40.0</td>\n",
       "      <td>40.0</td>\n",
       "      <td>40.0</td>\n",
       "      <td>40.0</td>\n",
       "      <td>40.0</td>\n",
       "      <td>40.0</td>\n",
       "      <td>40.0</td>\n",
       "      <td>40.0</td>\n",
       "      <td>40.0</td>\n",
       "      <td>40.0</td>\n",
       "    </tr>\n",
       "    <tr>\n",
       "      <th>4</th>\n",
       "      <td>United Arab Emirates</td>\n",
       "      <td>40.0</td>\n",
       "      <td>40.0</td>\n",
       "      <td>40.0</td>\n",
       "      <td>40.0</td>\n",
       "      <td>40.0</td>\n",
       "      <td>40.0</td>\n",
       "      <td>40.0</td>\n",
       "      <td>40.0</td>\n",
       "      <td>40.0</td>\n",
       "      <td>...</td>\n",
       "      <td>40.0</td>\n",
       "      <td>40.0</td>\n",
       "      <td>40.0</td>\n",
       "      <td>40.0</td>\n",
       "      <td>40.0</td>\n",
       "      <td>40.0</td>\n",
       "      <td>40.0</td>\n",
       "      <td>40.0</td>\n",
       "      <td>40.0</td>\n",
       "      <td>40.0</td>\n",
       "    </tr>\n",
       "  </tbody>\n",
       "</table>\n",
       "<p>5 rows × 242 columns</p>\n",
       "</div>"
      ],
      "text/plain": [
       "                country  1799  1800  1801  1802  1803  1804  1805  1806  1807  \\\n",
       "0           Afghanistan  30.5  30.5  30.5  30.5  30.5  30.5  30.5  30.5  30.5   \n",
       "1                Angola  57.2  57.2  57.2  57.2  57.2  57.2  57.2  57.2  57.2   \n",
       "2               Albania  38.9  38.9  38.9  38.9  38.9  38.9  38.9  38.9  38.9   \n",
       "3               Andorra  40.0  40.0  40.0  40.0  40.0  40.0  40.0  40.0  40.0   \n",
       "4  United Arab Emirates  40.0  40.0  40.0  40.0  40.0  40.0  40.0  40.0  40.0   \n",
       "\n",
       "   ...  2030  2031  2032  2033  2034  2035  2036  2037  2038  2039  \n",
       "0  ...  36.8  36.8  36.8  36.8  36.8  36.8  36.8  36.8  36.8  36.8  \n",
       "1  ...  42.6  42.6  42.6  42.6  42.6  42.6  42.6  42.6  42.6  42.6  \n",
       "2  ...  29.0  29.0  29.0  29.0  29.0  29.0  29.0  29.0  29.0  29.0  \n",
       "3  ...  40.0  40.0  40.0  40.0  40.0  40.0  40.0  40.0  40.0  40.0  \n",
       "4  ...  40.0  40.0  40.0  40.0  40.0  40.0  40.0  40.0  40.0  40.0  \n",
       "\n",
       "[5 rows x 242 columns]"
      ]
     },
     "execution_count": 586,
     "metadata": {},
     "output_type": "execute_result"
    }
   ],
   "source": [
    "# Data with gini index which measures income inequality in a country\n",
    "\n",
    "gini.head()"
   ]
  },
  {
   "cell_type": "code",
   "execution_count": 587,
   "metadata": {},
   "outputs": [
    {
     "data": {
      "text/html": [
       "<div>\n",
       "<style scoped>\n",
       "    .dataframe tbody tr th:only-of-type {\n",
       "        vertical-align: middle;\n",
       "    }\n",
       "\n",
       "    .dataframe tbody tr th {\n",
       "        vertical-align: top;\n",
       "    }\n",
       "\n",
       "    .dataframe thead th {\n",
       "        text-align: right;\n",
       "    }\n",
       "</style>\n",
       "<table border=\"1\" class=\"dataframe\">\n",
       "  <thead>\n",
       "    <tr style=\"text-align: right;\">\n",
       "      <th></th>\n",
       "      <th>count</th>\n",
       "      <th>%</th>\n",
       "    </tr>\n",
       "  </thead>\n",
       "  <tbody>\n",
       "    <tr>\n",
       "      <th>0</th>\n",
       "      <td>0</td>\n",
       "      <td>0.0</td>\n",
       "    </tr>\n",
       "    <tr>\n",
       "      <th>146</th>\n",
       "      <td>0</td>\n",
       "      <td>0.0</td>\n",
       "    </tr>\n",
       "    <tr>\n",
       "      <th>124</th>\n",
       "      <td>0</td>\n",
       "      <td>0.0</td>\n",
       "    </tr>\n",
       "    <tr>\n",
       "      <th>125</th>\n",
       "      <td>0</td>\n",
       "      <td>0.0</td>\n",
       "    </tr>\n",
       "    <tr>\n",
       "      <th>126</th>\n",
       "      <td>0</td>\n",
       "      <td>0.0</td>\n",
       "    </tr>\n",
       "  </tbody>\n",
       "</table>\n",
       "</div>"
      ],
      "text/plain": [
       "     count    %\n",
       "0        0  0.0\n",
       "146      0  0.0\n",
       "124      0  0.0\n",
       "125      0  0.0\n",
       "126      0  0.0"
      ]
     },
     "execution_count": 587,
     "metadata": {},
     "output_type": "execute_result"
    }
   ],
   "source": [
    "missing_gini_data = pd.concat([gini.isnull().sum(axis=1), 100 * gini.isnull().mean(axis=1)], axis=1)\n",
    "missing_gini_data.columns = ['count', '%']\n",
    "missing_gini_data.sort_values(by = 'count', ascending=False).head()"
   ]
  },
  {
   "cell_type": "markdown",
   "metadata": {},
   "source": [
    "There is no missing data in the gini datset"
   ]
  },
  {
   "cell_type": "code",
   "execution_count": 588,
   "metadata": {
    "scrolled": true
   },
   "outputs": [
    {
     "data": {
      "text/plain": [
       "count    195.000000\n",
       "mean      38.850769\n",
       "std        7.378433\n",
       "min       25.000000\n",
       "25%       33.500000\n",
       "50%       39.100000\n",
       "75%       42.750000\n",
       "max       63.000000\n",
       "Name: 2020, dtype: float64"
      ]
     },
     "execution_count": 588,
     "metadata": {},
     "output_type": "execute_result"
    }
   ],
   "source": [
    "# get summary statistics from gini\n",
    "\n",
    "gini['2020'].describe()"
   ]
  },
  {
   "cell_type": "code",
   "execution_count": 589,
   "metadata": {},
   "outputs": [
    {
     "name": "stdout",
     "output_type": "stream",
     "text": [
      "<class 'pandas.core.frame.DataFrame'>\n",
      "RangeIndex: 195 entries, 0 to 194\n",
      "Columns: 242 entries, country to 2039\n",
      "dtypes: float64(241), object(1)\n",
      "memory usage: 368.8+ KB\n"
     ]
    }
   ],
   "source": [
    "# get info on gini dataset\n",
    "gini.info()"
   ]
  },
  {
   "cell_type": "markdown",
   "metadata": {},
   "source": [
    "### 2.2.1.2 Merge gini dataset onto world happiness report dataset"
   ]
  },
  {
   "cell_type": "code",
   "execution_count": 590,
   "metadata": {},
   "outputs": [],
   "source": [
    "index_master = whr_2021_filt.loc[:,'Country name']\n",
    "gini_index = gini.loc[:, ['country']]"
   ]
  },
  {
   "cell_type": "code",
   "execution_count": 591,
   "metadata": {},
   "outputs": [],
   "source": [
    "merged_index = pd.merge(index_master, gini_index, left_on= 'Country name', right_on = 'country', how='left')"
   ]
  },
  {
   "cell_type": "markdown",
   "metadata": {},
   "source": [
    "We can see below the rows that didn't carry over from the gini datset. We need to verify that these values in Country Name indeed do not exist in the gini dataset. For Taiwan and Hong Kong it would make sense that it is not part of the gini dataset as classifying these territories as countries is a contentious issue and as a result they may not have gini data on them."
   ]
  },
  {
   "cell_type": "code",
   "execution_count": 592,
   "metadata": {
    "scrolled": true
   },
   "outputs": [
    {
     "data": {
      "text/html": [
       "<div>\n",
       "<style scoped>\n",
       "    .dataframe tbody tr th:only-of-type {\n",
       "        vertical-align: middle;\n",
       "    }\n",
       "\n",
       "    .dataframe tbody tr th {\n",
       "        vertical-align: top;\n",
       "    }\n",
       "\n",
       "    .dataframe thead th {\n",
       "        text-align: right;\n",
       "    }\n",
       "</style>\n",
       "<table border=\"1\" class=\"dataframe\">\n",
       "  <thead>\n",
       "    <tr style=\"text-align: right;\">\n",
       "      <th></th>\n",
       "      <th>Country name</th>\n",
       "      <th>country</th>\n",
       "    </tr>\n",
       "  </thead>\n",
       "  <tbody>\n",
       "    <tr>\n",
       "      <th>23</th>\n",
       "      <td>Taiwan Province of China</td>\n",
       "      <td>NaN</td>\n",
       "    </tr>\n",
       "    <tr>\n",
       "      <th>32</th>\n",
       "      <td>Kosovo</td>\n",
       "      <td>NaN</td>\n",
       "    </tr>\n",
       "    <tr>\n",
       "      <th>33</th>\n",
       "      <td>Slovakia</td>\n",
       "      <td>NaN</td>\n",
       "    </tr>\n",
       "    <tr>\n",
       "      <th>66</th>\n",
       "      <td>Kyrgyzstan</td>\n",
       "      <td>NaN</td>\n",
       "    </tr>\n",
       "    <tr>\n",
       "      <th>73</th>\n",
       "      <td>North Cyprus</td>\n",
       "      <td>NaN</td>\n",
       "    </tr>\n",
       "    <tr>\n",
       "      <th>76</th>\n",
       "      <td>Hong Kong S.A.R. of China</td>\n",
       "      <td>NaN</td>\n",
       "    </tr>\n",
       "    <tr>\n",
       "      <th>82</th>\n",
       "      <td>Congo (Brazzaville)</td>\n",
       "      <td>NaN</td>\n",
       "    </tr>\n",
       "    <tr>\n",
       "      <th>84</th>\n",
       "      <td>Ivory Coast</td>\n",
       "      <td>NaN</td>\n",
       "    </tr>\n",
       "    <tr>\n",
       "      <th>99</th>\n",
       "      <td>Laos</td>\n",
       "      <td>NaN</td>\n",
       "    </tr>\n",
       "    <tr>\n",
       "      <th>124</th>\n",
       "      <td>Palestinian Territories</td>\n",
       "      <td>NaN</td>\n",
       "    </tr>\n",
       "    <tr>\n",
       "      <th>129</th>\n",
       "      <td>Swaziland</td>\n",
       "      <td>NaN</td>\n",
       "    </tr>\n",
       "  </tbody>\n",
       "</table>\n",
       "</div>"
      ],
      "text/plain": [
       "                  Country name country\n",
       "23    Taiwan Province of China     NaN\n",
       "32                      Kosovo     NaN\n",
       "33                    Slovakia     NaN\n",
       "66                  Kyrgyzstan     NaN\n",
       "73                North Cyprus     NaN\n",
       "76   Hong Kong S.A.R. of China     NaN\n",
       "82         Congo (Brazzaville)     NaN\n",
       "84                 Ivory Coast     NaN\n",
       "99                        Laos     NaN\n",
       "124    Palestinian Territories     NaN\n",
       "129                  Swaziland     NaN"
      ]
     },
     "execution_count": 592,
     "metadata": {},
     "output_type": "execute_result"
    }
   ],
   "source": [
    "# find values that didn't carry over to the world happiness report dataset\n",
    "\n",
    "merged_index.loc[merged_index.country.isnull(), :]"
   ]
  },
  {
   "cell_type": "markdown",
   "metadata": {},
   "source": [
    "### 2.2.1.3 Check if these countries exist in gini dataset. \n",
    "\n",
    "This is a manual way as we check each country individually. Look for a better way to do this."
   ]
  },
  {
   "cell_type": "code",
   "execution_count": 593,
   "metadata": {},
   "outputs": [
    {
     "data": {
      "text/plain": [
       "0"
      ]
     },
     "execution_count": 593,
     "metadata": {},
     "output_type": "execute_result"
    }
   ],
   "source": [
    "# Taiwan doesn't exist in the gini dataset\n",
    "\n",
    "gini_index['country'].str.contains('Taiwan').sum()"
   ]
  },
  {
   "cell_type": "code",
   "execution_count": 594,
   "metadata": {},
   "outputs": [
    {
     "data": {
      "text/plain": [
       "0"
      ]
     },
     "execution_count": 594,
     "metadata": {},
     "output_type": "execute_result"
    }
   ],
   "source": [
    "# Kosovo doesn't exist in the gini dataset\n",
    "\n",
    "gini_index['country'].str.contains('Kosovo').sum()"
   ]
  },
  {
   "cell_type": "code",
   "execution_count": 595,
   "metadata": {},
   "outputs": [
    {
     "data": {
      "text/plain": [
       "0"
      ]
     },
     "execution_count": 595,
     "metadata": {},
     "output_type": "execute_result"
    }
   ],
   "source": [
    "# Kyrgystan doesn't exist in the gini dataset\n",
    "\n",
    "gini_index['country'].str.contains('Kyrgystan').sum()"
   ]
  },
  {
   "cell_type": "code",
   "execution_count": 596,
   "metadata": {},
   "outputs": [
    {
     "data": {
      "text/plain": [
       "0"
      ]
     },
     "execution_count": 596,
     "metadata": {},
     "output_type": "execute_result"
    }
   ],
   "source": [
    "# Hong Kong doesn't exist in the gini datset\n",
    "\n",
    "gini_index['country'].str.contains('Hong Kong').sum()"
   ]
  },
  {
   "cell_type": "code",
   "execution_count": 597,
   "metadata": {
    "scrolled": true
   },
   "outputs": [
    {
     "data": {
      "text/plain": [
       "0"
      ]
     },
     "execution_count": 597,
     "metadata": {},
     "output_type": "execute_result"
    }
   ],
   "source": [
    "# Ivory Coast doesn't exist in the gini dataset\n",
    "\n",
    "gini_index['country'].str.contains('Ivory').sum()"
   ]
  },
  {
   "cell_type": "code",
   "execution_count": 598,
   "metadata": {},
   "outputs": [
    {
     "data": {
      "text/plain": [
       "0"
      ]
     },
     "execution_count": 598,
     "metadata": {},
     "output_type": "execute_result"
    }
   ],
   "source": [
    "# Laos doesn't exist in the gini dataset\n",
    "\n",
    "gini_index['country'].str.contains('Laos').sum()"
   ]
  },
  {
   "cell_type": "code",
   "execution_count": 599,
   "metadata": {},
   "outputs": [
    {
     "data": {
      "text/plain": [
       "0"
      ]
     },
     "execution_count": 599,
     "metadata": {},
     "output_type": "execute_result"
    }
   ],
   "source": [
    "# Swaziland doesn't exist in the gini dataset\n",
    "\n",
    "gini_index['country'].str.contains('swazi').sum()"
   ]
  },
  {
   "cell_type": "code",
   "execution_count": 600,
   "metadata": {},
   "outputs": [
    {
     "data": {
      "text/plain": [
       "1"
      ]
     },
     "execution_count": 600,
     "metadata": {},
     "output_type": "execute_result"
    }
   ],
   "source": [
    "# Palestinian Territories exists in the gini dataset\n",
    "\n",
    "gini_index['country'].str.contains('Palestin').sum()"
   ]
  },
  {
   "cell_type": "code",
   "execution_count": 601,
   "metadata": {},
   "outputs": [
    {
     "data": {
      "text/html": [
       "<div>\n",
       "<style scoped>\n",
       "    .dataframe tbody tr th:only-of-type {\n",
       "        vertical-align: middle;\n",
       "    }\n",
       "\n",
       "    .dataframe tbody tr th {\n",
       "        vertical-align: top;\n",
       "    }\n",
       "\n",
       "    .dataframe thead th {\n",
       "        text-align: right;\n",
       "    }\n",
       "</style>\n",
       "<table border=\"1\" class=\"dataframe\">\n",
       "  <thead>\n",
       "    <tr style=\"text-align: right;\">\n",
       "      <th></th>\n",
       "      <th>country</th>\n",
       "    </tr>\n",
       "  </thead>\n",
       "  <tbody>\n",
       "    <tr>\n",
       "      <th>145</th>\n",
       "      <td>Palestine</td>\n",
       "    </tr>\n",
       "  </tbody>\n",
       "</table>\n",
       "</div>"
      ],
      "text/plain": [
       "       country\n",
       "145  Palestine"
      ]
     },
     "execution_count": 601,
     "metadata": {},
     "output_type": "execute_result"
    }
   ],
   "source": [
    "# show line in gini data with Palestine\n",
    "\n",
    "gini_index.loc[gini_index['country'].str.contains('Palestin'),:]"
   ]
  },
  {
   "cell_type": "code",
   "execution_count": 602,
   "metadata": {},
   "outputs": [
    {
     "data": {
      "text/plain": [
       "0               Afghanistan\n",
       "1                    Angola\n",
       "2                   Albania\n",
       "3                   Andorra\n",
       "4      United Arab Emirates\n",
       "               ...         \n",
       "190                   Samoa\n",
       "191                   Yemen\n",
       "192            South Africa\n",
       "193                  Zambia\n",
       "194                Zimbabwe\n",
       "Name: country, Length: 195, dtype: object"
      ]
     },
     "execution_count": 602,
     "metadata": {},
     "output_type": "execute_result"
    }
   ],
   "source": [
    "# replace Palestine with Palestinian Territories in the gini dataset\n",
    "\n",
    "gini_index.country.replace({\"Palestine : Palestinian Territories\"})"
   ]
  },
  {
   "cell_type": "code",
   "execution_count": 603,
   "metadata": {},
   "outputs": [
    {
     "data": {
      "text/plain": [
       "2"
      ]
     },
     "execution_count": 603,
     "metadata": {},
     "output_type": "execute_result"
    }
   ],
   "source": [
    "# Congo exists in the gini dataset\n",
    "\n",
    "gini_index['country'].str.contains('Congo').sum()"
   ]
  },
  {
   "cell_type": "code",
   "execution_count": 604,
   "metadata": {
    "scrolled": true
   },
   "outputs": [
    {
     "data": {
      "text/html": [
       "<div>\n",
       "<style scoped>\n",
       "    .dataframe tbody tr th:only-of-type {\n",
       "        vertical-align: middle;\n",
       "    }\n",
       "\n",
       "    .dataframe tbody tr th {\n",
       "        vertical-align: top;\n",
       "    }\n",
       "\n",
       "    .dataframe thead th {\n",
       "        text-align: right;\n",
       "    }\n",
       "</style>\n",
       "<table border=\"1\" class=\"dataframe\">\n",
       "  <thead>\n",
       "    <tr style=\"text-align: right;\">\n",
       "      <th></th>\n",
       "      <th>country</th>\n",
       "    </tr>\n",
       "  </thead>\n",
       "  <tbody>\n",
       "    <tr>\n",
       "      <th>35</th>\n",
       "      <td>Congo, Dem. Rep.</td>\n",
       "    </tr>\n",
       "    <tr>\n",
       "      <th>36</th>\n",
       "      <td>Congo, Rep.</td>\n",
       "    </tr>\n",
       "  </tbody>\n",
       "</table>\n",
       "</div>"
      ],
      "text/plain": [
       "             country\n",
       "35  Congo, Dem. Rep.\n",
       "36       Congo, Rep."
      ]
     },
     "execution_count": 604,
     "metadata": {},
     "output_type": "execute_result"
    }
   ],
   "source": [
    "# Show rows with Congo\n",
    "\n",
    "gini_index.loc[gini_index['country'].str.contains('Congo'),:]"
   ]
  },
  {
   "cell_type": "markdown",
   "metadata": {},
   "source": [
    "We find that Palestine and Congo, Rep. does exist in gini dataset. Congo (Brazzaville) is equivalent to Congo, Rep. according to [wikipedia](https://en.wikipedia.org/wiki/Republic_of_the_Congo)"
   ]
  },
  {
   "cell_type": "markdown",
   "metadata": {},
   "source": [
    "### 2.2.1.4 Fix country name for Congo and Palestine"
   ]
  },
  {
   "cell_type": "code",
   "execution_count": 605,
   "metadata": {},
   "outputs": [],
   "source": [
    "# Create replicate of gini dataset for cleaning\n",
    "\n",
    "gini_clean = gini"
   ]
  },
  {
   "cell_type": "code",
   "execution_count": 669,
   "metadata": {},
   "outputs": [],
   "source": [
    "# fixed name for Congo and Palestine to match world happiness report country name\n",
    "\n",
    "gini_clean['country'] = gini_test.country.replace({'Congo, Rep.' : 'Congo (Brazzaville)'})\n",
    "gini_clean['country'] = gini_test.country.replace({'Palestine' : 'Palestinian Territories'})"
   ]
  },
  {
   "cell_type": "code",
   "execution_count": 670,
   "metadata": {
    "scrolled": true
   },
   "outputs": [
    {
     "data": {
      "text/html": [
       "<div>\n",
       "<style scoped>\n",
       "    .dataframe tbody tr th:only-of-type {\n",
       "        vertical-align: middle;\n",
       "    }\n",
       "\n",
       "    .dataframe tbody tr th {\n",
       "        vertical-align: top;\n",
       "    }\n",
       "\n",
       "    .dataframe thead th {\n",
       "        text-align: right;\n",
       "    }\n",
       "</style>\n",
       "<table border=\"1\" class=\"dataframe\">\n",
       "  <thead>\n",
       "    <tr style=\"text-align: right;\">\n",
       "      <th></th>\n",
       "      <th>country</th>\n",
       "      <th>1799</th>\n",
       "      <th>1800</th>\n",
       "      <th>1801</th>\n",
       "      <th>1802</th>\n",
       "      <th>1803</th>\n",
       "      <th>1804</th>\n",
       "      <th>1805</th>\n",
       "      <th>1806</th>\n",
       "      <th>1807</th>\n",
       "      <th>...</th>\n",
       "      <th>2030</th>\n",
       "      <th>2031</th>\n",
       "      <th>2032</th>\n",
       "      <th>2033</th>\n",
       "      <th>2034</th>\n",
       "      <th>2035</th>\n",
       "      <th>2036</th>\n",
       "      <th>2037</th>\n",
       "      <th>2038</th>\n",
       "      <th>2039</th>\n",
       "    </tr>\n",
       "  </thead>\n",
       "  <tbody>\n",
       "    <tr>\n",
       "      <th>35</th>\n",
       "      <td>Congo, Dem. Rep.</td>\n",
       "      <td>40.4</td>\n",
       "      <td>40.4</td>\n",
       "      <td>40.4</td>\n",
       "      <td>40.4</td>\n",
       "      <td>40.4</td>\n",
       "      <td>40.4</td>\n",
       "      <td>40.4</td>\n",
       "      <td>40.4</td>\n",
       "      <td>40.4</td>\n",
       "      <td>...</td>\n",
       "      <td>42.1</td>\n",
       "      <td>42.1</td>\n",
       "      <td>42.1</td>\n",
       "      <td>42.1</td>\n",
       "      <td>42.1</td>\n",
       "      <td>42.1</td>\n",
       "      <td>42.1</td>\n",
       "      <td>42.1</td>\n",
       "      <td>42.1</td>\n",
       "      <td>42.1</td>\n",
       "    </tr>\n",
       "    <tr>\n",
       "      <th>36</th>\n",
       "      <td>Congo (Brazzaville)</td>\n",
       "      <td>56.4</td>\n",
       "      <td>56.4</td>\n",
       "      <td>56.4</td>\n",
       "      <td>56.4</td>\n",
       "      <td>56.4</td>\n",
       "      <td>56.4</td>\n",
       "      <td>56.4</td>\n",
       "      <td>56.4</td>\n",
       "      <td>56.4</td>\n",
       "      <td>...</td>\n",
       "      <td>48.9</td>\n",
       "      <td>48.9</td>\n",
       "      <td>48.9</td>\n",
       "      <td>48.9</td>\n",
       "      <td>48.9</td>\n",
       "      <td>48.9</td>\n",
       "      <td>48.9</td>\n",
       "      <td>48.9</td>\n",
       "      <td>48.9</td>\n",
       "      <td>48.9</td>\n",
       "    </tr>\n",
       "    <tr>\n",
       "      <th>145</th>\n",
       "      <td>Palestinian Territories</td>\n",
       "      <td>34.0</td>\n",
       "      <td>34.0</td>\n",
       "      <td>34.0</td>\n",
       "      <td>34.0</td>\n",
       "      <td>34.0</td>\n",
       "      <td>34.0</td>\n",
       "      <td>34.0</td>\n",
       "      <td>34.0</td>\n",
       "      <td>34.0</td>\n",
       "      <td>...</td>\n",
       "      <td>33.7</td>\n",
       "      <td>33.7</td>\n",
       "      <td>33.7</td>\n",
       "      <td>33.7</td>\n",
       "      <td>33.7</td>\n",
       "      <td>33.7</td>\n",
       "      <td>33.7</td>\n",
       "      <td>33.7</td>\n",
       "      <td>33.7</td>\n",
       "      <td>33.7</td>\n",
       "    </tr>\n",
       "  </tbody>\n",
       "</table>\n",
       "<p>3 rows × 242 columns</p>\n",
       "</div>"
      ],
      "text/plain": [
       "                     country  1799  1800  1801  1802  1803  1804  1805  1806  \\\n",
       "35          Congo, Dem. Rep.  40.4  40.4  40.4  40.4  40.4  40.4  40.4  40.4   \n",
       "36       Congo (Brazzaville)  56.4  56.4  56.4  56.4  56.4  56.4  56.4  56.4   \n",
       "145  Palestinian Territories  34.0  34.0  34.0  34.0  34.0  34.0  34.0  34.0   \n",
       "\n",
       "     1807  ...  2030  2031  2032  2033  2034  2035  2036  2037  2038  2039  \n",
       "35   40.4  ...  42.1  42.1  42.1  42.1  42.1  42.1  42.1  42.1  42.1  42.1  \n",
       "36   56.4  ...  48.9  48.9  48.9  48.9  48.9  48.9  48.9  48.9  48.9  48.9  \n",
       "145  34.0  ...  33.7  33.7  33.7  33.7  33.7  33.7  33.7  33.7  33.7  33.7  \n",
       "\n",
       "[3 rows x 242 columns]"
      ]
     },
     "execution_count": 670,
     "metadata": {},
     "output_type": "execute_result"
    }
   ],
   "source": [
    "# confirm change\n",
    "\n",
    "searchfor = ['Congo', 'Palest']\n",
    "\n",
    "gini_clean.loc[gini_test.country.str.contains('|'.join(searchfor))]"
   ]
  },
  {
   "cell_type": "markdown",
   "metadata": {},
   "source": [
    "### 2.2.1.5 Merge clean gini data with world happiness report\n",
    "\n",
    "We only bring over the data for 2020 for now. Although we know that if we need to bring data for additional years, it is possible"
   ]
  },
  {
   "cell_type": "code",
   "execution_count": 671,
   "metadata": {
    "scrolled": true
   },
   "outputs": [
    {
     "data": {
      "text/html": [
       "<div>\n",
       "<style scoped>\n",
       "    .dataframe tbody tr th:only-of-type {\n",
       "        vertical-align: middle;\n",
       "    }\n",
       "\n",
       "    .dataframe tbody tr th {\n",
       "        vertical-align: top;\n",
       "    }\n",
       "\n",
       "    .dataframe thead th {\n",
       "        text-align: right;\n",
       "    }\n",
       "</style>\n",
       "<table border=\"1\" class=\"dataframe\">\n",
       "  <thead>\n",
       "    <tr style=\"text-align: right;\">\n",
       "      <th></th>\n",
       "      <th>country</th>\n",
       "      <th>2020</th>\n",
       "    </tr>\n",
       "  </thead>\n",
       "  <tbody>\n",
       "    <tr>\n",
       "      <th>0</th>\n",
       "      <td>Afghanistan</td>\n",
       "      <td>36.8</td>\n",
       "    </tr>\n",
       "    <tr>\n",
       "      <th>1</th>\n",
       "      <td>Angola</td>\n",
       "      <td>42.6</td>\n",
       "    </tr>\n",
       "    <tr>\n",
       "      <th>2</th>\n",
       "      <td>Albania</td>\n",
       "      <td>29.0</td>\n",
       "    </tr>\n",
       "    <tr>\n",
       "      <th>3</th>\n",
       "      <td>Andorra</td>\n",
       "      <td>40.0</td>\n",
       "    </tr>\n",
       "    <tr>\n",
       "      <th>4</th>\n",
       "      <td>United Arab Emirates</td>\n",
       "      <td>40.0</td>\n",
       "    </tr>\n",
       "  </tbody>\n",
       "</table>\n",
       "</div>"
      ],
      "text/plain": [
       "                country  2020\n",
       "0           Afghanistan  36.8\n",
       "1                Angola  42.6\n",
       "2               Albania  29.0\n",
       "3               Andorra  40.0\n",
       "4  United Arab Emirates  40.0"
      ]
     },
     "execution_count": 671,
     "metadata": {},
     "output_type": "execute_result"
    }
   ],
   "source": [
    "# filter gini_clean for 2020 data.\n",
    "\n",
    "gini_2021 = gini_clean.loc[:, ['country', '2020']]\n",
    "gini_2021.head()"
   ]
  },
  {
   "cell_type": "code",
   "execution_count": 672,
   "metadata": {},
   "outputs": [],
   "source": [
    "# Join WHR 2021 data with new gini dataset\n",
    "\n",
    "whr2021_gini = pd.merge(whr_2021_filt, gini_2021, left_on= 'Country name', right_on = 'country', how='left').drop(['country'], axis=1).rename(columns = {'2020' : 'gini'})"
   ]
  },
  {
   "cell_type": "code",
   "execution_count": 610,
   "metadata": {},
   "outputs": [
    {
     "data": {
      "text/html": [
       "<div>\n",
       "<style scoped>\n",
       "    .dataframe tbody tr th:only-of-type {\n",
       "        vertical-align: middle;\n",
       "    }\n",
       "\n",
       "    .dataframe tbody tr th {\n",
       "        vertical-align: top;\n",
       "    }\n",
       "\n",
       "    .dataframe thead th {\n",
       "        text-align: right;\n",
       "    }\n",
       "</style>\n",
       "<table border=\"1\" class=\"dataframe\">\n",
       "  <thead>\n",
       "    <tr style=\"text-align: right;\">\n",
       "      <th></th>\n",
       "      <th>Country name</th>\n",
       "      <th>Regional indicator</th>\n",
       "      <th>Ladder score</th>\n",
       "      <th>Logged GDP per capita</th>\n",
       "      <th>Social support</th>\n",
       "      <th>Healthy life expectancy</th>\n",
       "      <th>Freedom to make life choices</th>\n",
       "      <th>Generosity</th>\n",
       "      <th>Perceptions of corruption</th>\n",
       "      <th>gini</th>\n",
       "    </tr>\n",
       "  </thead>\n",
       "  <tbody>\n",
       "    <tr>\n",
       "      <th>0</th>\n",
       "      <td>Finland</td>\n",
       "      <td>Western Europe</td>\n",
       "      <td>7.842</td>\n",
       "      <td>10.775</td>\n",
       "      <td>0.954</td>\n",
       "      <td>72.000</td>\n",
       "      <td>0.949</td>\n",
       "      <td>-0.098</td>\n",
       "      <td>0.186</td>\n",
       "      <td>27.1</td>\n",
       "    </tr>\n",
       "    <tr>\n",
       "      <th>1</th>\n",
       "      <td>Denmark</td>\n",
       "      <td>Western Europe</td>\n",
       "      <td>7.620</td>\n",
       "      <td>10.933</td>\n",
       "      <td>0.954</td>\n",
       "      <td>72.700</td>\n",
       "      <td>0.946</td>\n",
       "      <td>0.030</td>\n",
       "      <td>0.179</td>\n",
       "      <td>28.2</td>\n",
       "    </tr>\n",
       "    <tr>\n",
       "      <th>2</th>\n",
       "      <td>Switzerland</td>\n",
       "      <td>Western Europe</td>\n",
       "      <td>7.571</td>\n",
       "      <td>11.117</td>\n",
       "      <td>0.942</td>\n",
       "      <td>74.400</td>\n",
       "      <td>0.919</td>\n",
       "      <td>0.025</td>\n",
       "      <td>0.292</td>\n",
       "      <td>32.3</td>\n",
       "    </tr>\n",
       "    <tr>\n",
       "      <th>3</th>\n",
       "      <td>Iceland</td>\n",
       "      <td>Western Europe</td>\n",
       "      <td>7.554</td>\n",
       "      <td>10.878</td>\n",
       "      <td>0.983</td>\n",
       "      <td>73.000</td>\n",
       "      <td>0.955</td>\n",
       "      <td>0.160</td>\n",
       "      <td>0.673</td>\n",
       "      <td>27.8</td>\n",
       "    </tr>\n",
       "    <tr>\n",
       "      <th>4</th>\n",
       "      <td>Netherlands</td>\n",
       "      <td>Western Europe</td>\n",
       "      <td>7.464</td>\n",
       "      <td>10.932</td>\n",
       "      <td>0.942</td>\n",
       "      <td>72.400</td>\n",
       "      <td>0.913</td>\n",
       "      <td>0.175</td>\n",
       "      <td>0.338</td>\n",
       "      <td>28.2</td>\n",
       "    </tr>\n",
       "    <tr>\n",
       "      <th>...</th>\n",
       "      <td>...</td>\n",
       "      <td>...</td>\n",
       "      <td>...</td>\n",
       "      <td>...</td>\n",
       "      <td>...</td>\n",
       "      <td>...</td>\n",
       "      <td>...</td>\n",
       "      <td>...</td>\n",
       "      <td>...</td>\n",
       "      <td>...</td>\n",
       "    </tr>\n",
       "    <tr>\n",
       "      <th>144</th>\n",
       "      <td>Lesotho</td>\n",
       "      <td>Sub-Saharan Africa</td>\n",
       "      <td>3.512</td>\n",
       "      <td>7.926</td>\n",
       "      <td>0.787</td>\n",
       "      <td>48.700</td>\n",
       "      <td>0.715</td>\n",
       "      <td>-0.131</td>\n",
       "      <td>0.915</td>\n",
       "      <td>54.2</td>\n",
       "    </tr>\n",
       "    <tr>\n",
       "      <th>145</th>\n",
       "      <td>Botswana</td>\n",
       "      <td>Sub-Saharan Africa</td>\n",
       "      <td>3.467</td>\n",
       "      <td>9.782</td>\n",
       "      <td>0.784</td>\n",
       "      <td>59.269</td>\n",
       "      <td>0.824</td>\n",
       "      <td>-0.246</td>\n",
       "      <td>0.801</td>\n",
       "      <td>60.5</td>\n",
       "    </tr>\n",
       "    <tr>\n",
       "      <th>146</th>\n",
       "      <td>Rwanda</td>\n",
       "      <td>Sub-Saharan Africa</td>\n",
       "      <td>3.415</td>\n",
       "      <td>7.676</td>\n",
       "      <td>0.552</td>\n",
       "      <td>61.400</td>\n",
       "      <td>0.897</td>\n",
       "      <td>0.061</td>\n",
       "      <td>0.167</td>\n",
       "      <td>45.1</td>\n",
       "    </tr>\n",
       "    <tr>\n",
       "      <th>147</th>\n",
       "      <td>Zimbabwe</td>\n",
       "      <td>Sub-Saharan Africa</td>\n",
       "      <td>3.145</td>\n",
       "      <td>7.943</td>\n",
       "      <td>0.750</td>\n",
       "      <td>56.201</td>\n",
       "      <td>0.677</td>\n",
       "      <td>-0.047</td>\n",
       "      <td>0.821</td>\n",
       "      <td>43.2</td>\n",
       "    </tr>\n",
       "    <tr>\n",
       "      <th>148</th>\n",
       "      <td>Afghanistan</td>\n",
       "      <td>South Asia</td>\n",
       "      <td>2.523</td>\n",
       "      <td>7.695</td>\n",
       "      <td>0.463</td>\n",
       "      <td>52.493</td>\n",
       "      <td>0.382</td>\n",
       "      <td>-0.102</td>\n",
       "      <td>0.924</td>\n",
       "      <td>36.8</td>\n",
       "    </tr>\n",
       "  </tbody>\n",
       "</table>\n",
       "<p>149 rows × 10 columns</p>\n",
       "</div>"
      ],
      "text/plain": [
       "    Country name  Regional indicator  Ladder score  Logged GDP per capita  \\\n",
       "0        Finland      Western Europe         7.842                 10.775   \n",
       "1        Denmark      Western Europe         7.620                 10.933   \n",
       "2    Switzerland      Western Europe         7.571                 11.117   \n",
       "3        Iceland      Western Europe         7.554                 10.878   \n",
       "4    Netherlands      Western Europe         7.464                 10.932   \n",
       "..           ...                 ...           ...                    ...   \n",
       "144      Lesotho  Sub-Saharan Africa         3.512                  7.926   \n",
       "145     Botswana  Sub-Saharan Africa         3.467                  9.782   \n",
       "146       Rwanda  Sub-Saharan Africa         3.415                  7.676   \n",
       "147     Zimbabwe  Sub-Saharan Africa         3.145                  7.943   \n",
       "148  Afghanistan          South Asia         2.523                  7.695   \n",
       "\n",
       "     Social support  Healthy life expectancy  Freedom to make life choices  \\\n",
       "0             0.954                   72.000                         0.949   \n",
       "1             0.954                   72.700                         0.946   \n",
       "2             0.942                   74.400                         0.919   \n",
       "3             0.983                   73.000                         0.955   \n",
       "4             0.942                   72.400                         0.913   \n",
       "..              ...                      ...                           ...   \n",
       "144           0.787                   48.700                         0.715   \n",
       "145           0.784                   59.269                         0.824   \n",
       "146           0.552                   61.400                         0.897   \n",
       "147           0.750                   56.201                         0.677   \n",
       "148           0.463                   52.493                         0.382   \n",
       "\n",
       "     Generosity  Perceptions of corruption  gini  \n",
       "0        -0.098                      0.186  27.1  \n",
       "1         0.030                      0.179  28.2  \n",
       "2         0.025                      0.292  32.3  \n",
       "3         0.160                      0.673  27.8  \n",
       "4         0.175                      0.338  28.2  \n",
       "..          ...                        ...   ...  \n",
       "144      -0.131                      0.915  54.2  \n",
       "145      -0.246                      0.801  60.5  \n",
       "146       0.061                      0.167  45.1  \n",
       "147      -0.047                      0.821  43.2  \n",
       "148      -0.102                      0.924  36.8  \n",
       "\n",
       "[149 rows x 10 columns]"
      ]
     },
     "execution_count": 610,
     "metadata": {},
     "output_type": "execute_result"
    }
   ],
   "source": [
    "whr2021_gini"
   ]
  },
  {
   "cell_type": "code",
   "execution_count": 673,
   "metadata": {},
   "outputs": [
    {
     "data": {
      "text/html": [
       "<div>\n",
       "<style scoped>\n",
       "    .dataframe tbody tr th:only-of-type {\n",
       "        vertical-align: middle;\n",
       "    }\n",
       "\n",
       "    .dataframe tbody tr th {\n",
       "        vertical-align: top;\n",
       "    }\n",
       "\n",
       "    .dataframe thead th {\n",
       "        text-align: right;\n",
       "    }\n",
       "</style>\n",
       "<table border=\"1\" class=\"dataframe\">\n",
       "  <thead>\n",
       "    <tr style=\"text-align: right;\">\n",
       "      <th></th>\n",
       "      <th>Country name</th>\n",
       "      <th>Regional indicator</th>\n",
       "      <th>Ladder score</th>\n",
       "      <th>Logged GDP per capita</th>\n",
       "      <th>Social support</th>\n",
       "      <th>Healthy life expectancy</th>\n",
       "      <th>Freedom to make life choices</th>\n",
       "      <th>Generosity</th>\n",
       "      <th>Perceptions of corruption</th>\n",
       "      <th>gini</th>\n",
       "    </tr>\n",
       "  </thead>\n",
       "  <tbody>\n",
       "    <tr>\n",
       "      <th>23</th>\n",
       "      <td>Taiwan Province of China</td>\n",
       "      <td>East Asia</td>\n",
       "      <td>6.584</td>\n",
       "      <td>10.871</td>\n",
       "      <td>0.898</td>\n",
       "      <td>69.600</td>\n",
       "      <td>0.784</td>\n",
       "      <td>-0.070</td>\n",
       "      <td>0.721</td>\n",
       "      <td>NaN</td>\n",
       "    </tr>\n",
       "    <tr>\n",
       "      <th>32</th>\n",
       "      <td>Kosovo</td>\n",
       "      <td>Central and Eastern Europe</td>\n",
       "      <td>6.372</td>\n",
       "      <td>9.318</td>\n",
       "      <td>0.821</td>\n",
       "      <td>63.813</td>\n",
       "      <td>0.869</td>\n",
       "      <td>0.257</td>\n",
       "      <td>0.917</td>\n",
       "      <td>NaN</td>\n",
       "    </tr>\n",
       "    <tr>\n",
       "      <th>33</th>\n",
       "      <td>Slovakia</td>\n",
       "      <td>Central and Eastern Europe</td>\n",
       "      <td>6.331</td>\n",
       "      <td>10.369</td>\n",
       "      <td>0.936</td>\n",
       "      <td>69.201</td>\n",
       "      <td>0.766</td>\n",
       "      <td>-0.124</td>\n",
       "      <td>0.911</td>\n",
       "      <td>NaN</td>\n",
       "    </tr>\n",
       "    <tr>\n",
       "      <th>66</th>\n",
       "      <td>Kyrgyzstan</td>\n",
       "      <td>Commonwealth of Independent States</td>\n",
       "      <td>5.744</td>\n",
       "      <td>8.538</td>\n",
       "      <td>0.893</td>\n",
       "      <td>64.401</td>\n",
       "      <td>0.935</td>\n",
       "      <td>0.119</td>\n",
       "      <td>0.908</td>\n",
       "      <td>NaN</td>\n",
       "    </tr>\n",
       "    <tr>\n",
       "      <th>73</th>\n",
       "      <td>North Cyprus</td>\n",
       "      <td>Western Europe</td>\n",
       "      <td>5.536</td>\n",
       "      <td>10.576</td>\n",
       "      <td>0.820</td>\n",
       "      <td>73.898</td>\n",
       "      <td>0.795</td>\n",
       "      <td>0.012</td>\n",
       "      <td>0.626</td>\n",
       "      <td>NaN</td>\n",
       "    </tr>\n",
       "    <tr>\n",
       "      <th>76</th>\n",
       "      <td>Hong Kong S.A.R. of China</td>\n",
       "      <td>East Asia</td>\n",
       "      <td>5.477</td>\n",
       "      <td>11.000</td>\n",
       "      <td>0.836</td>\n",
       "      <td>76.820</td>\n",
       "      <td>0.717</td>\n",
       "      <td>0.067</td>\n",
       "      <td>0.403</td>\n",
       "      <td>NaN</td>\n",
       "    </tr>\n",
       "    <tr>\n",
       "      <th>84</th>\n",
       "      <td>Ivory Coast</td>\n",
       "      <td>Sub-Saharan Africa</td>\n",
       "      <td>5.306</td>\n",
       "      <td>8.551</td>\n",
       "      <td>0.644</td>\n",
       "      <td>50.114</td>\n",
       "      <td>0.741</td>\n",
       "      <td>-0.016</td>\n",
       "      <td>0.794</td>\n",
       "      <td>NaN</td>\n",
       "    </tr>\n",
       "    <tr>\n",
       "      <th>99</th>\n",
       "      <td>Laos</td>\n",
       "      <td>Southeast Asia</td>\n",
       "      <td>5.030</td>\n",
       "      <td>8.947</td>\n",
       "      <td>0.728</td>\n",
       "      <td>58.968</td>\n",
       "      <td>0.910</td>\n",
       "      <td>0.123</td>\n",
       "      <td>0.658</td>\n",
       "      <td>NaN</td>\n",
       "    </tr>\n",
       "    <tr>\n",
       "      <th>129</th>\n",
       "      <td>Swaziland</td>\n",
       "      <td>Sub-Saharan Africa</td>\n",
       "      <td>4.308</td>\n",
       "      <td>9.065</td>\n",
       "      <td>0.770</td>\n",
       "      <td>50.833</td>\n",
       "      <td>0.647</td>\n",
       "      <td>-0.185</td>\n",
       "      <td>0.708</td>\n",
       "      <td>NaN</td>\n",
       "    </tr>\n",
       "  </tbody>\n",
       "</table>\n",
       "</div>"
      ],
      "text/plain": [
       "                  Country name                  Regional indicator  \\\n",
       "23    Taiwan Province of China                           East Asia   \n",
       "32                      Kosovo          Central and Eastern Europe   \n",
       "33                    Slovakia          Central and Eastern Europe   \n",
       "66                  Kyrgyzstan  Commonwealth of Independent States   \n",
       "73                North Cyprus                      Western Europe   \n",
       "76   Hong Kong S.A.R. of China                           East Asia   \n",
       "84                 Ivory Coast                  Sub-Saharan Africa   \n",
       "99                        Laos                      Southeast Asia   \n",
       "129                  Swaziland                  Sub-Saharan Africa   \n",
       "\n",
       "     Ladder score  Logged GDP per capita  Social support  \\\n",
       "23          6.584                 10.871           0.898   \n",
       "32          6.372                  9.318           0.821   \n",
       "33          6.331                 10.369           0.936   \n",
       "66          5.744                  8.538           0.893   \n",
       "73          5.536                 10.576           0.820   \n",
       "76          5.477                 11.000           0.836   \n",
       "84          5.306                  8.551           0.644   \n",
       "99          5.030                  8.947           0.728   \n",
       "129         4.308                  9.065           0.770   \n",
       "\n",
       "     Healthy life expectancy  Freedom to make life choices  Generosity  \\\n",
       "23                    69.600                         0.784      -0.070   \n",
       "32                    63.813                         0.869       0.257   \n",
       "33                    69.201                         0.766      -0.124   \n",
       "66                    64.401                         0.935       0.119   \n",
       "73                    73.898                         0.795       0.012   \n",
       "76                    76.820                         0.717       0.067   \n",
       "84                    50.114                         0.741      -0.016   \n",
       "99                    58.968                         0.910       0.123   \n",
       "129                   50.833                         0.647      -0.185   \n",
       "\n",
       "     Perceptions of corruption  gini  \n",
       "23                       0.721   NaN  \n",
       "32                       0.917   NaN  \n",
       "33                       0.911   NaN  \n",
       "66                       0.908   NaN  \n",
       "73                       0.626   NaN  \n",
       "76                       0.403   NaN  \n",
       "84                       0.794   NaN  \n",
       "99                       0.658   NaN  \n",
       "129                      0.708   NaN  "
      ]
     },
     "execution_count": 673,
     "metadata": {},
     "output_type": "execute_result"
    }
   ],
   "source": [
    "# Check that the rows with missing gini values are as expected.\n",
    "\n",
    "whr2021_gini.loc[whr2021_gini.gini.isnull(), :]"
   ]
  },
  {
   "cell_type": "code",
   "execution_count": 674,
   "metadata": {},
   "outputs": [
    {
     "name": "stdout",
     "output_type": "stream",
     "text": [
      "<class 'pandas.core.frame.DataFrame'>\n",
      "Int64Index: 140 entries, 0 to 148\n",
      "Data columns (total 10 columns):\n",
      " #   Column                        Non-Null Count  Dtype  \n",
      "---  ------                        --------------  -----  \n",
      " 0   Country name                  140 non-null    object \n",
      " 1   Regional indicator            140 non-null    object \n",
      " 2   Ladder score                  140 non-null    float64\n",
      " 3   Logged GDP per capita         140 non-null    float64\n",
      " 4   Social support                140 non-null    float64\n",
      " 5   Healthy life expectancy       140 non-null    float64\n",
      " 6   Freedom to make life choices  140 non-null    float64\n",
      " 7   Generosity                    140 non-null    float64\n",
      " 8   Perceptions of corruption     140 non-null    float64\n",
      " 9   gini                          140 non-null    float64\n",
      "dtypes: float64(8), object(2)\n",
      "memory usage: 12.0+ KB\n"
     ]
    }
   ],
   "source": [
    "# remove countries with no gini data from whr_2021 data\n",
    "\n",
    "whr2021_clean = whr2021_gini.loc[~whr2021_gini.gini.isnull(), :]\n",
    "whr2021_clean.info()"
   ]
  },
  {
   "cell_type": "markdown",
   "metadata": {},
   "source": [
    "## 2.2.2 Income per capita dataset\n",
    "\n",
    "\n",
    "### 2. Does income per capital have an impact on happiness score? Can money buy happiness? Add income per capita data\n",
    "\n",
    "description:Gross domestic product per person adjusted for differences in purchasing power (in international dollars, fixed 2011 prices, PPP based on 2011 ICP).\n",
    "source:Gapminder based on World Bank, A. Maddison, M. Lindgren, IMF & more.\n",
    "source_url:http://gapm.io/dgdppc"
   ]
  },
  {
   "cell_type": "markdown",
   "metadata": {},
   "source": [
    "### 2.2.2.1 Import data and conduct analysis for income per capita"
   ]
  },
  {
   "cell_type": "code",
   "execution_count": 741,
   "metadata": {},
   "outputs": [],
   "source": [
    "income_per_capita = pd.read_csv('income_per_person_gdppercapita_ppp_inflation_adjusted.csv')"
   ]
  },
  {
   "cell_type": "code",
   "execution_count": 742,
   "metadata": {},
   "outputs": [
    {
     "data": {
      "text/html": [
       "<div>\n",
       "<style scoped>\n",
       "    .dataframe tbody tr th:only-of-type {\n",
       "        vertical-align: middle;\n",
       "    }\n",
       "\n",
       "    .dataframe tbody tr th {\n",
       "        vertical-align: top;\n",
       "    }\n",
       "\n",
       "    .dataframe thead th {\n",
       "        text-align: right;\n",
       "    }\n",
       "</style>\n",
       "<table border=\"1\" class=\"dataframe\">\n",
       "  <thead>\n",
       "    <tr style=\"text-align: right;\">\n",
       "      <th></th>\n",
       "      <th>country</th>\n",
       "      <th>1799</th>\n",
       "      <th>1800</th>\n",
       "      <th>1801</th>\n",
       "      <th>1802</th>\n",
       "      <th>1803</th>\n",
       "      <th>1804</th>\n",
       "      <th>1805</th>\n",
       "      <th>1806</th>\n",
       "      <th>1807</th>\n",
       "      <th>...</th>\n",
       "      <th>2030</th>\n",
       "      <th>2031</th>\n",
       "      <th>2032</th>\n",
       "      <th>2033</th>\n",
       "      <th>2034</th>\n",
       "      <th>2035</th>\n",
       "      <th>2036</th>\n",
       "      <th>2037</th>\n",
       "      <th>2038</th>\n",
       "      <th>2039</th>\n",
       "    </tr>\n",
       "  </thead>\n",
       "  <tbody>\n",
       "    <tr>\n",
       "      <th>0</th>\n",
       "      <td>Afghanistan</td>\n",
       "      <td>603</td>\n",
       "      <td>603</td>\n",
       "      <td>603</td>\n",
       "      <td>603</td>\n",
       "      <td>603</td>\n",
       "      <td>603</td>\n",
       "      <td>603</td>\n",
       "      <td>603</td>\n",
       "      <td>603</td>\n",
       "      <td>...</td>\n",
       "      <td>2550</td>\n",
       "      <td>2600</td>\n",
       "      <td>2660</td>\n",
       "      <td>2710</td>\n",
       "      <td>2770</td>\n",
       "      <td>2820</td>\n",
       "      <td>2880</td>\n",
       "      <td>2940</td>\n",
       "      <td>3000</td>\n",
       "      <td>3060</td>\n",
       "    </tr>\n",
       "    <tr>\n",
       "      <th>1</th>\n",
       "      <td>Angola</td>\n",
       "      <td>618</td>\n",
       "      <td>620</td>\n",
       "      <td>623</td>\n",
       "      <td>626</td>\n",
       "      <td>628</td>\n",
       "      <td>631</td>\n",
       "      <td>634</td>\n",
       "      <td>637</td>\n",
       "      <td>640</td>\n",
       "      <td>...</td>\n",
       "      <td>6110</td>\n",
       "      <td>6230</td>\n",
       "      <td>6350</td>\n",
       "      <td>6480</td>\n",
       "      <td>6610</td>\n",
       "      <td>6750</td>\n",
       "      <td>6880</td>\n",
       "      <td>7020</td>\n",
       "      <td>7170</td>\n",
       "      <td>7310</td>\n",
       "    </tr>\n",
       "    <tr>\n",
       "      <th>2</th>\n",
       "      <td>Albania</td>\n",
       "      <td>667</td>\n",
       "      <td>667</td>\n",
       "      <td>667</td>\n",
       "      <td>667</td>\n",
       "      <td>667</td>\n",
       "      <td>668</td>\n",
       "      <td>668</td>\n",
       "      <td>668</td>\n",
       "      <td>668</td>\n",
       "      <td>...</td>\n",
       "      <td>19.4k</td>\n",
       "      <td>19.8k</td>\n",
       "      <td>20.2k</td>\n",
       "      <td>20.6k</td>\n",
       "      <td>21k</td>\n",
       "      <td>21.5k</td>\n",
       "      <td>21.9k</td>\n",
       "      <td>22.3k</td>\n",
       "      <td>22.8k</td>\n",
       "      <td>23.3k</td>\n",
       "    </tr>\n",
       "    <tr>\n",
       "      <th>3</th>\n",
       "      <td>Andorra</td>\n",
       "      <td>1200</td>\n",
       "      <td>1200</td>\n",
       "      <td>1200</td>\n",
       "      <td>1200</td>\n",
       "      <td>1210</td>\n",
       "      <td>1210</td>\n",
       "      <td>1210</td>\n",
       "      <td>1210</td>\n",
       "      <td>1220</td>\n",
       "      <td>...</td>\n",
       "      <td>73.6k</td>\n",
       "      <td>75.1k</td>\n",
       "      <td>76.7k</td>\n",
       "      <td>78.3k</td>\n",
       "      <td>79.8k</td>\n",
       "      <td>81.5k</td>\n",
       "      <td>83.1k</td>\n",
       "      <td>84.8k</td>\n",
       "      <td>86.5k</td>\n",
       "      <td>88.3k</td>\n",
       "    </tr>\n",
       "    <tr>\n",
       "      <th>4</th>\n",
       "      <td>United Arab Emirates</td>\n",
       "      <td>998</td>\n",
       "      <td>1000</td>\n",
       "      <td>1010</td>\n",
       "      <td>1010</td>\n",
       "      <td>1010</td>\n",
       "      <td>1020</td>\n",
       "      <td>1020</td>\n",
       "      <td>1020</td>\n",
       "      <td>1030</td>\n",
       "      <td>...</td>\n",
       "      <td>66.8k</td>\n",
       "      <td>68.1k</td>\n",
       "      <td>69.4k</td>\n",
       "      <td>70.8k</td>\n",
       "      <td>72.2k</td>\n",
       "      <td>73.7k</td>\n",
       "      <td>75.2k</td>\n",
       "      <td>76.7k</td>\n",
       "      <td>78.3k</td>\n",
       "      <td>79.9k</td>\n",
       "    </tr>\n",
       "  </tbody>\n",
       "</table>\n",
       "<p>5 rows × 242 columns</p>\n",
       "</div>"
      ],
      "text/plain": [
       "                country  1799  1800  1801  1802  1803  1804  1805  1806  1807  \\\n",
       "0           Afghanistan   603   603   603   603   603   603   603   603   603   \n",
       "1                Angola   618   620   623   626   628   631   634   637   640   \n",
       "2               Albania   667   667   667   667   667   668   668   668   668   \n",
       "3               Andorra  1200  1200  1200  1200  1210  1210  1210  1210  1220   \n",
       "4  United Arab Emirates   998  1000  1010  1010  1010  1020  1020  1020  1030   \n",
       "\n",
       "   ...   2030   2031   2032   2033   2034   2035   2036   2037   2038   2039  \n",
       "0  ...   2550   2600   2660   2710   2770   2820   2880   2940   3000   3060  \n",
       "1  ...   6110   6230   6350   6480   6610   6750   6880   7020   7170   7310  \n",
       "2  ...  19.4k  19.8k  20.2k  20.6k    21k  21.5k  21.9k  22.3k  22.8k  23.3k  \n",
       "3  ...  73.6k  75.1k  76.7k  78.3k  79.8k  81.5k  83.1k  84.8k  86.5k  88.3k  \n",
       "4  ...  66.8k  68.1k  69.4k  70.8k  72.2k  73.7k  75.2k  76.7k  78.3k  79.9k  \n",
       "\n",
       "[5 rows x 242 columns]"
      ]
     },
     "execution_count": 742,
     "metadata": {},
     "output_type": "execute_result"
    }
   ],
   "source": [
    "income_per_capita.head()"
   ]
  },
  {
   "cell_type": "code",
   "execution_count": 743,
   "metadata": {},
   "outputs": [
    {
     "name": "stdout",
     "output_type": "stream",
     "text": [
      "<class 'pandas.core.frame.DataFrame'>\n",
      "RangeIndex: 195 entries, 0 to 194\n",
      "Columns: 242 entries, country to 2039\n",
      "dtypes: int64(85), object(157)\n",
      "memory usage: 368.8+ KB\n"
     ]
    }
   ],
   "source": [
    "income_per_capita.info()"
   ]
  },
  {
   "cell_type": "markdown",
   "metadata": {},
   "source": [
    "There doesn't appear to be any missing data but lets verify like we did with the gini"
   ]
  },
  {
   "cell_type": "code",
   "execution_count": 744,
   "metadata": {
    "scrolled": true
   },
   "outputs": [
    {
     "data": {
      "text/html": [
       "<div>\n",
       "<style scoped>\n",
       "    .dataframe tbody tr th:only-of-type {\n",
       "        vertical-align: middle;\n",
       "    }\n",
       "\n",
       "    .dataframe tbody tr th {\n",
       "        vertical-align: top;\n",
       "    }\n",
       "\n",
       "    .dataframe thead th {\n",
       "        text-align: right;\n",
       "    }\n",
       "</style>\n",
       "<table border=\"1\" class=\"dataframe\">\n",
       "  <thead>\n",
       "    <tr style=\"text-align: right;\">\n",
       "      <th></th>\n",
       "      <th>count</th>\n",
       "      <th>%</th>\n",
       "    </tr>\n",
       "  </thead>\n",
       "  <tbody>\n",
       "    <tr>\n",
       "      <th>0</th>\n",
       "      <td>0</td>\n",
       "      <td>0.0</td>\n",
       "    </tr>\n",
       "    <tr>\n",
       "      <th>146</th>\n",
       "      <td>0</td>\n",
       "      <td>0.0</td>\n",
       "    </tr>\n",
       "    <tr>\n",
       "      <th>124</th>\n",
       "      <td>0</td>\n",
       "      <td>0.0</td>\n",
       "    </tr>\n",
       "    <tr>\n",
       "      <th>125</th>\n",
       "      <td>0</td>\n",
       "      <td>0.0</td>\n",
       "    </tr>\n",
       "    <tr>\n",
       "      <th>126</th>\n",
       "      <td>0</td>\n",
       "      <td>0.0</td>\n",
       "    </tr>\n",
       "  </tbody>\n",
       "</table>\n",
       "</div>"
      ],
      "text/plain": [
       "     count    %\n",
       "0        0  0.0\n",
       "146      0  0.0\n",
       "124      0  0.0\n",
       "125      0  0.0\n",
       "126      0  0.0"
      ]
     },
     "execution_count": 744,
     "metadata": {},
     "output_type": "execute_result"
    }
   ],
   "source": [
    "missing_income_data = pd.concat([income_per_capita.isnull().sum(axis=1), 100 * income_per_capita.isnull().mean(axis=1)], axis=1)\n",
    "missing_income_data.columns = ['count', '%']\n",
    "missing_income_data.sort_values(by = 'count', ascending=False).head()"
   ]
  },
  {
   "cell_type": "markdown",
   "metadata": {},
   "source": [
    "### 2.2.2.2 Merge whr2021_clean dataset with income dataset"
   ]
  },
  {
   "cell_type": "code",
   "execution_count": 745,
   "metadata": {},
   "outputs": [],
   "source": [
    "income_filtered = income_per_capita.loc[:, ['country', '2020']]"
   ]
  },
  {
   "cell_type": "markdown",
   "metadata": {},
   "source": [
    "We can see here that similar to gini, we do not have missing data by rows for the income per capital dataset. Since we got both gini and income per capita data from gapminder.org, it appears that this source has some clean data"
   ]
  },
  {
   "cell_type": "code",
   "execution_count": 746,
   "metadata": {},
   "outputs": [],
   "source": [
    "whr2021_gini_income = pd.merge(whr2021_clean, income_filtered, left_on = 'Country name', right_on = 'country', how='left' )"
   ]
  },
  {
   "cell_type": "code",
   "execution_count": 747,
   "metadata": {
    "scrolled": true
   },
   "outputs": [
    {
     "name": "stdout",
     "output_type": "stream",
     "text": [
      "<class 'pandas.core.frame.DataFrame'>\n",
      "Int64Index: 140 entries, 0 to 139\n",
      "Data columns (total 12 columns):\n",
      " #   Column                        Non-Null Count  Dtype  \n",
      "---  ------                        --------------  -----  \n",
      " 0   Country name                  140 non-null    object \n",
      " 1   Regional indicator            140 non-null    object \n",
      " 2   Ladder score                  140 non-null    float64\n",
      " 3   Logged GDP per capita         140 non-null    float64\n",
      " 4   Social support                140 non-null    float64\n",
      " 5   Healthy life expectancy       140 non-null    float64\n",
      " 6   Freedom to make life choices  140 non-null    float64\n",
      " 7   Generosity                    140 non-null    float64\n",
      " 8   Perceptions of corruption     140 non-null    float64\n",
      " 9   gini                          140 non-null    float64\n",
      " 10  country                       138 non-null    object \n",
      " 11  2020                          138 non-null    object \n",
      "dtypes: float64(8), object(4)\n",
      "memory usage: 14.2+ KB\n"
     ]
    }
   ],
   "source": [
    "whr2021_gini_income.info()"
   ]
  },
  {
   "cell_type": "markdown",
   "metadata": {},
   "source": [
    "There appears to be 2 missing values that didn't carry over from the income dataset, and it looks like it's the usual culprit."
   ]
  },
  {
   "cell_type": "code",
   "execution_count": 748,
   "metadata": {
    "scrolled": true
   },
   "outputs": [
    {
     "data": {
      "text/html": [
       "<div>\n",
       "<style scoped>\n",
       "    .dataframe tbody tr th:only-of-type {\n",
       "        vertical-align: middle;\n",
       "    }\n",
       "\n",
       "    .dataframe tbody tr th {\n",
       "        vertical-align: top;\n",
       "    }\n",
       "\n",
       "    .dataframe thead th {\n",
       "        text-align: right;\n",
       "    }\n",
       "</style>\n",
       "<table border=\"1\" class=\"dataframe\">\n",
       "  <thead>\n",
       "    <tr style=\"text-align: right;\">\n",
       "      <th></th>\n",
       "      <th>Country name</th>\n",
       "      <th>Regional indicator</th>\n",
       "      <th>Ladder score</th>\n",
       "      <th>Logged GDP per capita</th>\n",
       "      <th>Social support</th>\n",
       "      <th>Healthy life expectancy</th>\n",
       "      <th>Freedom to make life choices</th>\n",
       "      <th>Generosity</th>\n",
       "      <th>Perceptions of corruption</th>\n",
       "      <th>gini</th>\n",
       "      <th>country</th>\n",
       "      <th>2020</th>\n",
       "    </tr>\n",
       "  </thead>\n",
       "  <tbody>\n",
       "    <tr>\n",
       "      <th>76</th>\n",
       "      <td>Congo (Brazzaville)</td>\n",
       "      <td>Sub-Saharan Africa</td>\n",
       "      <td>5.342</td>\n",
       "      <td>8.117</td>\n",
       "      <td>0.636</td>\n",
       "      <td>58.221</td>\n",
       "      <td>0.695</td>\n",
       "      <td>-0.068</td>\n",
       "      <td>0.745</td>\n",
       "      <td>48.9</td>\n",
       "      <td>NaN</td>\n",
       "      <td>NaN</td>\n",
       "    </tr>\n",
       "    <tr>\n",
       "      <th>116</th>\n",
       "      <td>Palestinian Territories</td>\n",
       "      <td>Middle East and North Africa</td>\n",
       "      <td>4.517</td>\n",
       "      <td>8.485</td>\n",
       "      <td>0.826</td>\n",
       "      <td>62.250</td>\n",
       "      <td>0.653</td>\n",
       "      <td>-0.163</td>\n",
       "      <td>0.821</td>\n",
       "      <td>33.7</td>\n",
       "      <td>NaN</td>\n",
       "      <td>NaN</td>\n",
       "    </tr>\n",
       "  </tbody>\n",
       "</table>\n",
       "</div>"
      ],
      "text/plain": [
       "                Country name            Regional indicator  Ladder score  \\\n",
       "76       Congo (Brazzaville)            Sub-Saharan Africa         5.342   \n",
       "116  Palestinian Territories  Middle East and North Africa         4.517   \n",
       "\n",
       "     Logged GDP per capita  Social support  Healthy life expectancy  \\\n",
       "76                   8.117           0.636                   58.221   \n",
       "116                  8.485           0.826                   62.250   \n",
       "\n",
       "     Freedom to make life choices  Generosity  Perceptions of corruption  \\\n",
       "76                          0.695      -0.068                      0.745   \n",
       "116                         0.653      -0.163                      0.821   \n",
       "\n",
       "     gini country 2020  \n",
       "76   48.9     NaN  NaN  \n",
       "116  33.7     NaN  NaN  "
      ]
     },
     "execution_count": 748,
     "metadata": {},
     "output_type": "execute_result"
    }
   ],
   "source": [
    "whr2021_gini_income.loc[whr2021_gini_income['2020'].isnull(), :]"
   ]
  },
  {
   "cell_type": "markdown",
   "metadata": {},
   "source": [
    "### 2.2.2.3 Fix country name for Congo (Brazzaville) and Palestinian Territories in the Income dataset\n",
    "\n",
    "Fix the data in the income dataset and redo the merge"
   ]
  },
  {
   "cell_type": "code",
   "execution_count": 749,
   "metadata": {},
   "outputs": [],
   "source": [
    "income_filtered['country'] = income_filtered.country.replace({'Congo, Rep.' : 'Congo (Brazzaville)'})\n",
    "income_filtered['country'] = income_filtered.country.replace({'Palestine' : 'Palestinian Territories'})"
   ]
  },
  {
   "cell_type": "code",
   "execution_count": 750,
   "metadata": {},
   "outputs": [],
   "source": [
    "whr2021_gini_income_clean = pd.merge(whr2021_clean, income_filtered, left_on = 'Country name', right_on = 'country', how='left' ).drop(columns='country').rename(columns = {'2020':'income_per_capita'})"
   ]
  },
  {
   "cell_type": "code",
   "execution_count": 751,
   "metadata": {},
   "outputs": [
    {
     "data": {
      "text/html": [
       "<div>\n",
       "<style scoped>\n",
       "    .dataframe tbody tr th:only-of-type {\n",
       "        vertical-align: middle;\n",
       "    }\n",
       "\n",
       "    .dataframe tbody tr th {\n",
       "        vertical-align: top;\n",
       "    }\n",
       "\n",
       "    .dataframe thead th {\n",
       "        text-align: right;\n",
       "    }\n",
       "</style>\n",
       "<table border=\"1\" class=\"dataframe\">\n",
       "  <thead>\n",
       "    <tr style=\"text-align: right;\">\n",
       "      <th></th>\n",
       "      <th>Country name</th>\n",
       "      <th>Regional indicator</th>\n",
       "      <th>Ladder score</th>\n",
       "      <th>Logged GDP per capita</th>\n",
       "      <th>Social support</th>\n",
       "      <th>Healthy life expectancy</th>\n",
       "      <th>Freedom to make life choices</th>\n",
       "      <th>Generosity</th>\n",
       "      <th>Perceptions of corruption</th>\n",
       "      <th>gini</th>\n",
       "      <th>income_per_capita</th>\n",
       "    </tr>\n",
       "  </thead>\n",
       "  <tbody>\n",
       "  </tbody>\n",
       "</table>\n",
       "</div>"
      ],
      "text/plain": [
       "Empty DataFrame\n",
       "Columns: [Country name, Regional indicator, Ladder score, Logged GDP per capita, Social support, Healthy life expectancy, Freedom to make life choices, Generosity, Perceptions of corruption, gini, income_per_capita]\n",
       "Index: []"
      ]
     },
     "execution_count": 751,
     "metadata": {},
     "output_type": "execute_result"
    }
   ],
   "source": [
    "whr2021_gini_income_clean.loc[whr2021_gini_income_clean['income_per_capita'].isnull(), :]"
   ]
  },
  {
   "cell_type": "markdown",
   "metadata": {},
   "source": [
    "### 2.2.2.4 Income Per capita data type fix\n",
    "\n",
    "income_per_capita appears to be an object. Certain values has the letter k to indicate thousands in the income per capita data. We need to remove the K and convert these into values into thousands by multiplying by 1000"
   ]
  },
  {
   "cell_type": "code",
   "execution_count": 752,
   "metadata": {},
   "outputs": [
    {
     "name": "stdout",
     "output_type": "stream",
     "text": [
      "<class 'pandas.core.frame.DataFrame'>\n",
      "Int64Index: 140 entries, 0 to 139\n",
      "Data columns (total 11 columns):\n",
      " #   Column                        Non-Null Count  Dtype  \n",
      "---  ------                        --------------  -----  \n",
      " 0   Country name                  140 non-null    object \n",
      " 1   Regional indicator            140 non-null    object \n",
      " 2   Ladder score                  140 non-null    float64\n",
      " 3   Logged GDP per capita         140 non-null    float64\n",
      " 4   Social support                140 non-null    float64\n",
      " 5   Healthy life expectancy       140 non-null    float64\n",
      " 6   Freedom to make life choices  140 non-null    float64\n",
      " 7   Generosity                    140 non-null    float64\n",
      " 8   Perceptions of corruption     140 non-null    float64\n",
      " 9   gini                          140 non-null    float64\n",
      " 10  income_per_capita             140 non-null    object \n",
      "dtypes: float64(8), object(3)\n",
      "memory usage: 13.1+ KB\n"
     ]
    }
   ],
   "source": [
    "whr2021_gini_income_clean.info()"
   ]
  },
  {
   "cell_type": "code",
   "execution_count": 753,
   "metadata": {},
   "outputs": [
    {
     "data": {
      "text/plain": [
       "3150     2\n",
       "2580     2\n",
       "47.8k    2\n",
       "18.3k    2\n",
       "5080     2\n",
       "        ..\n",
       "27.2k    1\n",
       "26.6k    1\n",
       "31.7k    1\n",
       "23.8k    1\n",
       "1850     1\n",
       "Name: income_per_capita, Length: 133, dtype: int64"
      ]
     },
     "execution_count": 753,
     "metadata": {},
     "output_type": "execute_result"
    }
   ],
   "source": [
    "whr2021_gini_income_clean.income_per_capita.value_counts()"
   ]
  },
  {
   "cell_type": "code",
   "execution_count": 754,
   "metadata": {},
   "outputs": [
    {
     "data": {
      "text/html": [
       "<div>\n",
       "<style scoped>\n",
       "    .dataframe tbody tr th:only-of-type {\n",
       "        vertical-align: middle;\n",
       "    }\n",
       "\n",
       "    .dataframe tbody tr th {\n",
       "        vertical-align: top;\n",
       "    }\n",
       "\n",
       "    .dataframe thead th {\n",
       "        text-align: right;\n",
       "    }\n",
       "</style>\n",
       "<table border=\"1\" class=\"dataframe\">\n",
       "  <thead>\n",
       "    <tr style=\"text-align: right;\">\n",
       "      <th></th>\n",
       "      <th>Country name</th>\n",
       "      <th>Regional indicator</th>\n",
       "      <th>Ladder score</th>\n",
       "      <th>Logged GDP per capita</th>\n",
       "      <th>Social support</th>\n",
       "      <th>Healthy life expectancy</th>\n",
       "      <th>Freedom to make life choices</th>\n",
       "      <th>Generosity</th>\n",
       "      <th>Perceptions of corruption</th>\n",
       "      <th>gini</th>\n",
       "      <th>income_per_capita</th>\n",
       "    </tr>\n",
       "  </thead>\n",
       "  <tbody>\n",
       "    <tr>\n",
       "      <th>0</th>\n",
       "      <td>Finland</td>\n",
       "      <td>Western Europe</td>\n",
       "      <td>7.842</td>\n",
       "      <td>10.775</td>\n",
       "      <td>0.954</td>\n",
       "      <td>72.000</td>\n",
       "      <td>0.949</td>\n",
       "      <td>-0.098</td>\n",
       "      <td>0.186</td>\n",
       "      <td>27.1</td>\n",
       "      <td>43.5k</td>\n",
       "    </tr>\n",
       "    <tr>\n",
       "      <th>1</th>\n",
       "      <td>Denmark</td>\n",
       "      <td>Western Europe</td>\n",
       "      <td>7.620</td>\n",
       "      <td>10.933</td>\n",
       "      <td>0.954</td>\n",
       "      <td>72.700</td>\n",
       "      <td>0.946</td>\n",
       "      <td>0.030</td>\n",
       "      <td>0.179</td>\n",
       "      <td>28.2</td>\n",
       "      <td>49.5k</td>\n",
       "    </tr>\n",
       "    <tr>\n",
       "      <th>2</th>\n",
       "      <td>Switzerland</td>\n",
       "      <td>Western Europe</td>\n",
       "      <td>7.571</td>\n",
       "      <td>11.117</td>\n",
       "      <td>0.942</td>\n",
       "      <td>74.400</td>\n",
       "      <td>0.919</td>\n",
       "      <td>0.025</td>\n",
       "      <td>0.292</td>\n",
       "      <td>32.3</td>\n",
       "      <td>59.3k</td>\n",
       "    </tr>\n",
       "    <tr>\n",
       "      <th>3</th>\n",
       "      <td>Iceland</td>\n",
       "      <td>Western Europe</td>\n",
       "      <td>7.554</td>\n",
       "      <td>10.878</td>\n",
       "      <td>0.983</td>\n",
       "      <td>73.000</td>\n",
       "      <td>0.955</td>\n",
       "      <td>0.160</td>\n",
       "      <td>0.673</td>\n",
       "      <td>27.8</td>\n",
       "      <td>47.8k</td>\n",
       "    </tr>\n",
       "    <tr>\n",
       "      <th>4</th>\n",
       "      <td>Netherlands</td>\n",
       "      <td>Western Europe</td>\n",
       "      <td>7.464</td>\n",
       "      <td>10.932</td>\n",
       "      <td>0.942</td>\n",
       "      <td>72.400</td>\n",
       "      <td>0.913</td>\n",
       "      <td>0.175</td>\n",
       "      <td>0.338</td>\n",
       "      <td>28.2</td>\n",
       "      <td>51.8k</td>\n",
       "    </tr>\n",
       "    <tr>\n",
       "      <th>...</th>\n",
       "      <td>...</td>\n",
       "      <td>...</td>\n",
       "      <td>...</td>\n",
       "      <td>...</td>\n",
       "      <td>...</td>\n",
       "      <td>...</td>\n",
       "      <td>...</td>\n",
       "      <td>...</td>\n",
       "      <td>...</td>\n",
       "      <td>...</td>\n",
       "      <td>...</td>\n",
       "    </tr>\n",
       "    <tr>\n",
       "      <th>113</th>\n",
       "      <td>Tunisia</td>\n",
       "      <td>Middle East and North Africa</td>\n",
       "      <td>4.596</td>\n",
       "      <td>9.266</td>\n",
       "      <td>0.691</td>\n",
       "      <td>67.201</td>\n",
       "      <td>0.656</td>\n",
       "      <td>-0.201</td>\n",
       "      <td>0.870</td>\n",
       "      <td>35.8</td>\n",
       "      <td>11.5k</td>\n",
       "    </tr>\n",
       "    <tr>\n",
       "      <th>114</th>\n",
       "      <td>Lebanon</td>\n",
       "      <td>Middle East and North Africa</td>\n",
       "      <td>4.584</td>\n",
       "      <td>9.626</td>\n",
       "      <td>0.848</td>\n",
       "      <td>67.355</td>\n",
       "      <td>0.525</td>\n",
       "      <td>-0.073</td>\n",
       "      <td>0.898</td>\n",
       "      <td>31.8</td>\n",
       "      <td>12.3k</td>\n",
       "    </tr>\n",
       "    <tr>\n",
       "      <th>120</th>\n",
       "      <td>Sri Lanka</td>\n",
       "      <td>South Asia</td>\n",
       "      <td>4.325</td>\n",
       "      <td>9.470</td>\n",
       "      <td>0.827</td>\n",
       "      <td>67.299</td>\n",
       "      <td>0.841</td>\n",
       "      <td>0.079</td>\n",
       "      <td>0.863</td>\n",
       "      <td>39.8</td>\n",
       "      <td>12.8k</td>\n",
       "    </tr>\n",
       "    <tr>\n",
       "      <th>122</th>\n",
       "      <td>Egypt</td>\n",
       "      <td>Middle East and North Africa</td>\n",
       "      <td>4.283</td>\n",
       "      <td>9.367</td>\n",
       "      <td>0.750</td>\n",
       "      <td>61.998</td>\n",
       "      <td>0.749</td>\n",
       "      <td>-0.182</td>\n",
       "      <td>0.795</td>\n",
       "      <td>31.8</td>\n",
       "      <td>12.2k</td>\n",
       "    </tr>\n",
       "    <tr>\n",
       "      <th>136</th>\n",
       "      <td>Botswana</td>\n",
       "      <td>Sub-Saharan Africa</td>\n",
       "      <td>3.467</td>\n",
       "      <td>9.782</td>\n",
       "      <td>0.784</td>\n",
       "      <td>59.269</td>\n",
       "      <td>0.824</td>\n",
       "      <td>-0.246</td>\n",
       "      <td>0.801</td>\n",
       "      <td>60.5</td>\n",
       "      <td>17.9k</td>\n",
       "    </tr>\n",
       "  </tbody>\n",
       "</table>\n",
       "<p>85 rows × 11 columns</p>\n",
       "</div>"
      ],
      "text/plain": [
       "    Country name            Regional indicator  Ladder score  \\\n",
       "0        Finland                Western Europe         7.842   \n",
       "1        Denmark                Western Europe         7.620   \n",
       "2    Switzerland                Western Europe         7.571   \n",
       "3        Iceland                Western Europe         7.554   \n",
       "4    Netherlands                Western Europe         7.464   \n",
       "..           ...                           ...           ...   \n",
       "113      Tunisia  Middle East and North Africa         4.596   \n",
       "114      Lebanon  Middle East and North Africa         4.584   \n",
       "120    Sri Lanka                    South Asia         4.325   \n",
       "122        Egypt  Middle East and North Africa         4.283   \n",
       "136     Botswana            Sub-Saharan Africa         3.467   \n",
       "\n",
       "     Logged GDP per capita  Social support  Healthy life expectancy  \\\n",
       "0                   10.775           0.954                   72.000   \n",
       "1                   10.933           0.954                   72.700   \n",
       "2                   11.117           0.942                   74.400   \n",
       "3                   10.878           0.983                   73.000   \n",
       "4                   10.932           0.942                   72.400   \n",
       "..                     ...             ...                      ...   \n",
       "113                  9.266           0.691                   67.201   \n",
       "114                  9.626           0.848                   67.355   \n",
       "120                  9.470           0.827                   67.299   \n",
       "122                  9.367           0.750                   61.998   \n",
       "136                  9.782           0.784                   59.269   \n",
       "\n",
       "     Freedom to make life choices  Generosity  Perceptions of corruption  \\\n",
       "0                           0.949      -0.098                      0.186   \n",
       "1                           0.946       0.030                      0.179   \n",
       "2                           0.919       0.025                      0.292   \n",
       "3                           0.955       0.160                      0.673   \n",
       "4                           0.913       0.175                      0.338   \n",
       "..                            ...         ...                        ...   \n",
       "113                         0.656      -0.201                      0.870   \n",
       "114                         0.525      -0.073                      0.898   \n",
       "120                         0.841       0.079                      0.863   \n",
       "122                         0.749      -0.182                      0.795   \n",
       "136                         0.824      -0.246                      0.801   \n",
       "\n",
       "     gini income_per_capita  \n",
       "0    27.1             43.5k  \n",
       "1    28.2             49.5k  \n",
       "2    32.3             59.3k  \n",
       "3    27.8             47.8k  \n",
       "4    28.2             51.8k  \n",
       "..    ...               ...  \n",
       "113  35.8             11.5k  \n",
       "114  31.8             12.3k  \n",
       "120  39.8             12.8k  \n",
       "122  31.8             12.2k  \n",
       "136  60.5             17.9k  \n",
       "\n",
       "[85 rows x 11 columns]"
      ]
     },
     "execution_count": 754,
     "metadata": {},
     "output_type": "execute_result"
    }
   ],
   "source": [
    "whr2021_gini_income_clean[whr2021_gini_income_clean.income_per_capita.str.contains('k|K')]"
   ]
  },
  {
   "cell_type": "code",
   "execution_count": 771,
   "metadata": {},
   "outputs": [],
   "source": [
    "dirty_income = whr2021_gini_income_clean.income_per_capita"
   ]
  },
  {
   "cell_type": "code",
   "execution_count": 772,
   "metadata": {},
   "outputs": [
    {
     "data": {
      "text/plain": [
       "pandas.core.series.Series"
      ]
     },
     "execution_count": 772,
     "metadata": {},
     "output_type": "execute_result"
    }
   ],
   "source": [
    "type(dirty_income)"
   ]
  },
  {
   "cell_type": "code",
   "execution_count": 776,
   "metadata": {},
   "outputs": [
    {
     "data": {
      "text/plain": [
       "0      43.5k\n",
       "1      49.5k\n",
       "2      59.3k\n",
       "3      47.8k\n",
       "4      51.8k\n",
       "       ...  \n",
       "135     2970\n",
       "136    17.9k\n",
       "137     2360\n",
       "138     2420\n",
       "139     1850\n",
       "Name: income_per_capita, Length: 140, dtype: object"
      ]
     },
     "execution_count": 776,
     "metadata": {},
     "output_type": "execute_result"
    }
   ],
   "source": [
    "dirty_income"
   ]
  },
  {
   "cell_type": "code",
   "execution_count": 777,
   "metadata": {},
   "outputs": [],
   "source": [
    "# remove the values with k and replace with three zeroes and also identify indices that contained k for mask\n",
    "\n",
    "nok_income = dirty_income.str.replace('k', '')\n",
    "mask = dirty_income.str.contains('k')"
   ]
  },
  {
   "cell_type": "code",
   "execution_count": 778,
   "metadata": {
    "scrolled": true
   },
   "outputs": [
    {
     "data": {
      "text/plain": [
       "count    85.000000\n",
       "mean     30.808235\n",
       "std      18.361562\n",
       "min      10.100000\n",
       "25%      16.200000\n",
       "50%      26.600000\n",
       "75%      41.100000\n",
       "max      95.800000\n",
       "Name: income_per_capita, dtype: float64"
      ]
     },
     "execution_count": 778,
     "metadata": {},
     "output_type": "execute_result"
    }
   ],
   "source": [
    "# after removing k, convert object to float\n",
    "nok_income = nok_income.astype(float)\n",
    "nok_income[mask].describe()"
   ]
  },
  {
   "cell_type": "code",
   "execution_count": 779,
   "metadata": {
    "scrolled": true
   },
   "outputs": [
    {
     "data": {
      "text/plain": [
       "0      43500.0\n",
       "1      49500.0\n",
       "2      59300.0\n",
       "3      47800.0\n",
       "4      51800.0\n",
       "        ...   \n",
       "113    11500.0\n",
       "114    12300.0\n",
       "120    12800.0\n",
       "122    12200.0\n",
       "136    17900.0\n",
       "Name: income_per_capita, Length: 85, dtype: float64"
      ]
     },
     "execution_count": 779,
     "metadata": {},
     "output_type": "execute_result"
    }
   ],
   "source": [
    "# multiply nok_income by 1000\n",
    "\n",
    "nok_income[mask] = nok_income[mask] * 1000\n",
    "nok_income[mask]"
   ]
  },
  {
   "cell_type": "code",
   "execution_count": 783,
   "metadata": {},
   "outputs": [
    {
     "data": {
      "text/plain": [
       "7      95800.0\n",
       "30     91400.0\n",
       "14     75700.0\n",
       "5      68200.0\n",
       "23     65100.0\n",
       "        ...   \n",
       "134     1240.0\n",
       "106     1220.0\n",
       "111     1110.0\n",
       "88       991.0\n",
       "130      613.0\n",
       "Name: income_per_capita, Length: 140, dtype: float64"
      ]
     },
     "execution_count": 783,
     "metadata": {},
     "output_type": "execute_result"
    }
   ],
   "source": [
    "nok_income.sort_values(ascending=False)"
   ]
  },
  {
   "cell_type": "code",
   "execution_count": 784,
   "metadata": {},
   "outputs": [
    {
     "data": {
      "text/plain": [
       "count      140.000000\n",
       "mean     20392.242857\n",
       "std      19374.211059\n",
       "min        613.000000\n",
       "25%       4707.500000\n",
       "50%      14200.000000\n",
       "75%      31625.000000\n",
       "max      95800.000000\n",
       "Name: income_per_capita, dtype: float64"
      ]
     },
     "execution_count": 784,
     "metadata": {},
     "output_type": "execute_result"
    }
   ],
   "source": [
    "# check distribution again to see if it's accurate\n",
    "nok_income.describe()"
   ]
  },
  {
   "cell_type": "code",
   "execution_count": 785,
   "metadata": {},
   "outputs": [],
   "source": [
    "# merge with whr2021_gini_income_clean data set to create whr2021_clean_v2\n",
    "\n",
    "whr2021_clean_v2 = pd.concat([whr2021_gini_income_clean.drop(columns = 'income_per_capita'), nok_income], axis=1)"
   ]
  },
  {
   "cell_type": "code",
   "execution_count": 786,
   "metadata": {},
   "outputs": [
    {
     "data": {
      "text/html": [
       "<div>\n",
       "<style scoped>\n",
       "    .dataframe tbody tr th:only-of-type {\n",
       "        vertical-align: middle;\n",
       "    }\n",
       "\n",
       "    .dataframe tbody tr th {\n",
       "        vertical-align: top;\n",
       "    }\n",
       "\n",
       "    .dataframe thead th {\n",
       "        text-align: right;\n",
       "    }\n",
       "</style>\n",
       "<table border=\"1\" class=\"dataframe\">\n",
       "  <thead>\n",
       "    <tr style=\"text-align: right;\">\n",
       "      <th></th>\n",
       "      <th>Country name</th>\n",
       "      <th>Regional indicator</th>\n",
       "      <th>Ladder score</th>\n",
       "      <th>Logged GDP per capita</th>\n",
       "      <th>Social support</th>\n",
       "      <th>Healthy life expectancy</th>\n",
       "      <th>Freedom to make life choices</th>\n",
       "      <th>Generosity</th>\n",
       "      <th>Perceptions of corruption</th>\n",
       "      <th>gini</th>\n",
       "      <th>income_per_capita</th>\n",
       "    </tr>\n",
       "  </thead>\n",
       "  <tbody>\n",
       "    <tr>\n",
       "      <th>0</th>\n",
       "      <td>Finland</td>\n",
       "      <td>Western Europe</td>\n",
       "      <td>7.842</td>\n",
       "      <td>10.775</td>\n",
       "      <td>0.954</td>\n",
       "      <td>72.000</td>\n",
       "      <td>0.949</td>\n",
       "      <td>-0.098</td>\n",
       "      <td>0.186</td>\n",
       "      <td>27.1</td>\n",
       "      <td>43500.0</td>\n",
       "    </tr>\n",
       "    <tr>\n",
       "      <th>1</th>\n",
       "      <td>Denmark</td>\n",
       "      <td>Western Europe</td>\n",
       "      <td>7.620</td>\n",
       "      <td>10.933</td>\n",
       "      <td>0.954</td>\n",
       "      <td>72.700</td>\n",
       "      <td>0.946</td>\n",
       "      <td>0.030</td>\n",
       "      <td>0.179</td>\n",
       "      <td>28.2</td>\n",
       "      <td>49500.0</td>\n",
       "    </tr>\n",
       "    <tr>\n",
       "      <th>2</th>\n",
       "      <td>Switzerland</td>\n",
       "      <td>Western Europe</td>\n",
       "      <td>7.571</td>\n",
       "      <td>11.117</td>\n",
       "      <td>0.942</td>\n",
       "      <td>74.400</td>\n",
       "      <td>0.919</td>\n",
       "      <td>0.025</td>\n",
       "      <td>0.292</td>\n",
       "      <td>32.3</td>\n",
       "      <td>59300.0</td>\n",
       "    </tr>\n",
       "    <tr>\n",
       "      <th>3</th>\n",
       "      <td>Iceland</td>\n",
       "      <td>Western Europe</td>\n",
       "      <td>7.554</td>\n",
       "      <td>10.878</td>\n",
       "      <td>0.983</td>\n",
       "      <td>73.000</td>\n",
       "      <td>0.955</td>\n",
       "      <td>0.160</td>\n",
       "      <td>0.673</td>\n",
       "      <td>27.8</td>\n",
       "      <td>47800.0</td>\n",
       "    </tr>\n",
       "    <tr>\n",
       "      <th>4</th>\n",
       "      <td>Netherlands</td>\n",
       "      <td>Western Europe</td>\n",
       "      <td>7.464</td>\n",
       "      <td>10.932</td>\n",
       "      <td>0.942</td>\n",
       "      <td>72.400</td>\n",
       "      <td>0.913</td>\n",
       "      <td>0.175</td>\n",
       "      <td>0.338</td>\n",
       "      <td>28.2</td>\n",
       "      <td>51800.0</td>\n",
       "    </tr>\n",
       "    <tr>\n",
       "      <th>...</th>\n",
       "      <td>...</td>\n",
       "      <td>...</td>\n",
       "      <td>...</td>\n",
       "      <td>...</td>\n",
       "      <td>...</td>\n",
       "      <td>...</td>\n",
       "      <td>...</td>\n",
       "      <td>...</td>\n",
       "      <td>...</td>\n",
       "      <td>...</td>\n",
       "      <td>...</td>\n",
       "    </tr>\n",
       "    <tr>\n",
       "      <th>135</th>\n",
       "      <td>Lesotho</td>\n",
       "      <td>Sub-Saharan Africa</td>\n",
       "      <td>3.512</td>\n",
       "      <td>7.926</td>\n",
       "      <td>0.787</td>\n",
       "      <td>48.700</td>\n",
       "      <td>0.715</td>\n",
       "      <td>-0.131</td>\n",
       "      <td>0.915</td>\n",
       "      <td>54.2</td>\n",
       "      <td>2970.0</td>\n",
       "    </tr>\n",
       "    <tr>\n",
       "      <th>136</th>\n",
       "      <td>Botswana</td>\n",
       "      <td>Sub-Saharan Africa</td>\n",
       "      <td>3.467</td>\n",
       "      <td>9.782</td>\n",
       "      <td>0.784</td>\n",
       "      <td>59.269</td>\n",
       "      <td>0.824</td>\n",
       "      <td>-0.246</td>\n",
       "      <td>0.801</td>\n",
       "      <td>60.5</td>\n",
       "      <td>17900.0</td>\n",
       "    </tr>\n",
       "    <tr>\n",
       "      <th>137</th>\n",
       "      <td>Rwanda</td>\n",
       "      <td>Sub-Saharan Africa</td>\n",
       "      <td>3.415</td>\n",
       "      <td>7.676</td>\n",
       "      <td>0.552</td>\n",
       "      <td>61.400</td>\n",
       "      <td>0.897</td>\n",
       "      <td>0.061</td>\n",
       "      <td>0.167</td>\n",
       "      <td>45.1</td>\n",
       "      <td>2360.0</td>\n",
       "    </tr>\n",
       "    <tr>\n",
       "      <th>138</th>\n",
       "      <td>Zimbabwe</td>\n",
       "      <td>Sub-Saharan Africa</td>\n",
       "      <td>3.145</td>\n",
       "      <td>7.943</td>\n",
       "      <td>0.750</td>\n",
       "      <td>56.201</td>\n",
       "      <td>0.677</td>\n",
       "      <td>-0.047</td>\n",
       "      <td>0.821</td>\n",
       "      <td>43.2</td>\n",
       "      <td>2420.0</td>\n",
       "    </tr>\n",
       "    <tr>\n",
       "      <th>139</th>\n",
       "      <td>Afghanistan</td>\n",
       "      <td>South Asia</td>\n",
       "      <td>2.523</td>\n",
       "      <td>7.695</td>\n",
       "      <td>0.463</td>\n",
       "      <td>52.493</td>\n",
       "      <td>0.382</td>\n",
       "      <td>-0.102</td>\n",
       "      <td>0.924</td>\n",
       "      <td>36.8</td>\n",
       "      <td>1850.0</td>\n",
       "    </tr>\n",
       "  </tbody>\n",
       "</table>\n",
       "<p>140 rows × 11 columns</p>\n",
       "</div>"
      ],
      "text/plain": [
       "    Country name  Regional indicator  Ladder score  Logged GDP per capita  \\\n",
       "0        Finland      Western Europe         7.842                 10.775   \n",
       "1        Denmark      Western Europe         7.620                 10.933   \n",
       "2    Switzerland      Western Europe         7.571                 11.117   \n",
       "3        Iceland      Western Europe         7.554                 10.878   \n",
       "4    Netherlands      Western Europe         7.464                 10.932   \n",
       "..           ...                 ...           ...                    ...   \n",
       "135      Lesotho  Sub-Saharan Africa         3.512                  7.926   \n",
       "136     Botswana  Sub-Saharan Africa         3.467                  9.782   \n",
       "137       Rwanda  Sub-Saharan Africa         3.415                  7.676   \n",
       "138     Zimbabwe  Sub-Saharan Africa         3.145                  7.943   \n",
       "139  Afghanistan          South Asia         2.523                  7.695   \n",
       "\n",
       "     Social support  Healthy life expectancy  Freedom to make life choices  \\\n",
       "0             0.954                   72.000                         0.949   \n",
       "1             0.954                   72.700                         0.946   \n",
       "2             0.942                   74.400                         0.919   \n",
       "3             0.983                   73.000                         0.955   \n",
       "4             0.942                   72.400                         0.913   \n",
       "..              ...                      ...                           ...   \n",
       "135           0.787                   48.700                         0.715   \n",
       "136           0.784                   59.269                         0.824   \n",
       "137           0.552                   61.400                         0.897   \n",
       "138           0.750                   56.201                         0.677   \n",
       "139           0.463                   52.493                         0.382   \n",
       "\n",
       "     Generosity  Perceptions of corruption  gini  income_per_capita  \n",
       "0        -0.098                      0.186  27.1            43500.0  \n",
       "1         0.030                      0.179  28.2            49500.0  \n",
       "2         0.025                      0.292  32.3            59300.0  \n",
       "3         0.160                      0.673  27.8            47800.0  \n",
       "4         0.175                      0.338  28.2            51800.0  \n",
       "..          ...                        ...   ...                ...  \n",
       "135      -0.131                      0.915  54.2             2970.0  \n",
       "136      -0.246                      0.801  60.5            17900.0  \n",
       "137       0.061                      0.167  45.1             2360.0  \n",
       "138      -0.047                      0.821  43.2             2420.0  \n",
       "139      -0.102                      0.924  36.8             1850.0  \n",
       "\n",
       "[140 rows x 11 columns]"
      ]
     },
     "execution_count": 786,
     "metadata": {},
     "output_type": "execute_result"
    }
   ],
   "source": [
    "whr2021_clean_v2"
   ]
  },
  {
   "cell_type": "markdown",
   "metadata": {},
   "source": [
    "## 2.2.3 Fertility dataset\n",
    "\n",
    "\n",
    "### 3. Does fertility impact happiness score? \n",
    "\n",
    "description:Total fertility rate. The number of children that would be born to each woman with prevailing age-specific fertility rates.\n",
    "source_url:http://gapm.io/dtfr"
   ]
  },
  {
   "cell_type": "markdown",
   "metadata": {},
   "source": [
    "### 2.2.3.1 Import fertility data and conduct initial analysis"
   ]
  },
  {
   "cell_type": "code",
   "execution_count": 787,
   "metadata": {},
   "outputs": [],
   "source": [
    "fertility = pd.read_csv('children_per_woman_total_fertility.csv')"
   ]
  },
  {
   "cell_type": "code",
   "execution_count": 788,
   "metadata": {},
   "outputs": [
    {
     "data": {
      "text/html": [
       "<div>\n",
       "<style scoped>\n",
       "    .dataframe tbody tr th:only-of-type {\n",
       "        vertical-align: middle;\n",
       "    }\n",
       "\n",
       "    .dataframe tbody tr th {\n",
       "        vertical-align: top;\n",
       "    }\n",
       "\n",
       "    .dataframe thead th {\n",
       "        text-align: right;\n",
       "    }\n",
       "</style>\n",
       "<table border=\"1\" class=\"dataframe\">\n",
       "  <thead>\n",
       "    <tr style=\"text-align: right;\">\n",
       "      <th></th>\n",
       "      <th>country</th>\n",
       "      <th>1799</th>\n",
       "      <th>1800</th>\n",
       "      <th>1801</th>\n",
       "      <th>1802</th>\n",
       "      <th>1803</th>\n",
       "      <th>1804</th>\n",
       "      <th>1805</th>\n",
       "      <th>1806</th>\n",
       "      <th>1807</th>\n",
       "      <th>...</th>\n",
       "      <th>2090</th>\n",
       "      <th>2091</th>\n",
       "      <th>2092</th>\n",
       "      <th>2093</th>\n",
       "      <th>2094</th>\n",
       "      <th>2095</th>\n",
       "      <th>2096</th>\n",
       "      <th>2097</th>\n",
       "      <th>2098</th>\n",
       "      <th>2099</th>\n",
       "    </tr>\n",
       "  </thead>\n",
       "  <tbody>\n",
       "    <tr>\n",
       "      <th>0</th>\n",
       "      <td>Aruba</td>\n",
       "      <td>5.64</td>\n",
       "      <td>5.64</td>\n",
       "      <td>5.64</td>\n",
       "      <td>5.64</td>\n",
       "      <td>5.64</td>\n",
       "      <td>5.64</td>\n",
       "      <td>5.64</td>\n",
       "      <td>5.64</td>\n",
       "      <td>5.64</td>\n",
       "      <td>...</td>\n",
       "      <td>1.82</td>\n",
       "      <td>1.82</td>\n",
       "      <td>1.82</td>\n",
       "      <td>1.82</td>\n",
       "      <td>1.82</td>\n",
       "      <td>1.82</td>\n",
       "      <td>1.82</td>\n",
       "      <td>1.82</td>\n",
       "      <td>1.83</td>\n",
       "      <td>1.83</td>\n",
       "    </tr>\n",
       "    <tr>\n",
       "      <th>1</th>\n",
       "      <td>Afghanistan</td>\n",
       "      <td>7.00</td>\n",
       "      <td>7.00</td>\n",
       "      <td>7.00</td>\n",
       "      <td>7.00</td>\n",
       "      <td>7.00</td>\n",
       "      <td>7.00</td>\n",
       "      <td>7.00</td>\n",
       "      <td>7.00</td>\n",
       "      <td>7.00</td>\n",
       "      <td>...</td>\n",
       "      <td>1.74</td>\n",
       "      <td>1.74</td>\n",
       "      <td>1.74</td>\n",
       "      <td>1.74</td>\n",
       "      <td>1.74</td>\n",
       "      <td>1.74</td>\n",
       "      <td>1.74</td>\n",
       "      <td>1.74</td>\n",
       "      <td>1.74</td>\n",
       "      <td>1.74</td>\n",
       "    </tr>\n",
       "    <tr>\n",
       "      <th>2</th>\n",
       "      <td>Angola</td>\n",
       "      <td>6.93</td>\n",
       "      <td>6.93</td>\n",
       "      <td>6.93</td>\n",
       "      <td>6.93</td>\n",
       "      <td>6.93</td>\n",
       "      <td>6.93</td>\n",
       "      <td>6.93</td>\n",
       "      <td>6.94</td>\n",
       "      <td>6.94</td>\n",
       "      <td>...</td>\n",
       "      <td>2.54</td>\n",
       "      <td>2.52</td>\n",
       "      <td>2.50</td>\n",
       "      <td>2.48</td>\n",
       "      <td>2.47</td>\n",
       "      <td>2.45</td>\n",
       "      <td>2.43</td>\n",
       "      <td>2.42</td>\n",
       "      <td>2.40</td>\n",
       "      <td>2.40</td>\n",
       "    </tr>\n",
       "    <tr>\n",
       "      <th>3</th>\n",
       "      <td>Albania</td>\n",
       "      <td>4.60</td>\n",
       "      <td>4.60</td>\n",
       "      <td>4.60</td>\n",
       "      <td>4.60</td>\n",
       "      <td>4.60</td>\n",
       "      <td>4.60</td>\n",
       "      <td>4.60</td>\n",
       "      <td>4.60</td>\n",
       "      <td>4.60</td>\n",
       "      <td>...</td>\n",
       "      <td>1.78</td>\n",
       "      <td>1.78</td>\n",
       "      <td>1.78</td>\n",
       "      <td>1.79</td>\n",
       "      <td>1.79</td>\n",
       "      <td>1.79</td>\n",
       "      <td>1.79</td>\n",
       "      <td>1.79</td>\n",
       "      <td>1.79</td>\n",
       "      <td>1.79</td>\n",
       "    </tr>\n",
       "    <tr>\n",
       "      <th>4</th>\n",
       "      <td>Netherlands Antilles</td>\n",
       "      <td>5.80</td>\n",
       "      <td>5.80</td>\n",
       "      <td>5.80</td>\n",
       "      <td>5.80</td>\n",
       "      <td>5.80</td>\n",
       "      <td>5.80</td>\n",
       "      <td>5.80</td>\n",
       "      <td>5.80</td>\n",
       "      <td>5.80</td>\n",
       "      <td>...</td>\n",
       "      <td>2.00</td>\n",
       "      <td>2.00</td>\n",
       "      <td>2.01</td>\n",
       "      <td>2.01</td>\n",
       "      <td>2.01</td>\n",
       "      <td>2.01</td>\n",
       "      <td>2.01</td>\n",
       "      <td>2.02</td>\n",
       "      <td>2.02</td>\n",
       "      <td>2.02</td>\n",
       "    </tr>\n",
       "  </tbody>\n",
       "</table>\n",
       "<p>5 rows × 302 columns</p>\n",
       "</div>"
      ],
      "text/plain": [
       "                country  1799  1800  1801  1802  1803  1804  1805  1806  1807  \\\n",
       "0                 Aruba  5.64  5.64  5.64  5.64  5.64  5.64  5.64  5.64  5.64   \n",
       "1           Afghanistan  7.00  7.00  7.00  7.00  7.00  7.00  7.00  7.00  7.00   \n",
       "2                Angola  6.93  6.93  6.93  6.93  6.93  6.93  6.93  6.94  6.94   \n",
       "3               Albania  4.60  4.60  4.60  4.60  4.60  4.60  4.60  4.60  4.60   \n",
       "4  Netherlands Antilles  5.80  5.80  5.80  5.80  5.80  5.80  5.80  5.80  5.80   \n",
       "\n",
       "   ...  2090  2091  2092  2093  2094  2095  2096  2097  2098  2099  \n",
       "0  ...  1.82  1.82  1.82  1.82  1.82  1.82  1.82  1.82  1.83  1.83  \n",
       "1  ...  1.74  1.74  1.74  1.74  1.74  1.74  1.74  1.74  1.74  1.74  \n",
       "2  ...  2.54  2.52  2.50  2.48  2.47  2.45  2.43  2.42  2.40  2.40  \n",
       "3  ...  1.78  1.78  1.78  1.79  1.79  1.79  1.79  1.79  1.79  1.79  \n",
       "4  ...  2.00  2.00  2.01  2.01  2.01  2.01  2.01  2.02  2.02  2.02  \n",
       "\n",
       "[5 rows x 302 columns]"
      ]
     },
     "execution_count": 788,
     "metadata": {},
     "output_type": "execute_result"
    }
   ],
   "source": [
    "fertility.head()"
   ]
  },
  {
   "cell_type": "code",
   "execution_count": 789,
   "metadata": {},
   "outputs": [
    {
     "name": "stdout",
     "output_type": "stream",
     "text": [
      "<class 'pandas.core.frame.DataFrame'>\n",
      "RangeIndex: 202 entries, 0 to 201\n",
      "Columns: 302 entries, country to 2099\n",
      "dtypes: float64(301), object(1)\n",
      "memory usage: 476.7+ KB\n"
     ]
    }
   ],
   "source": [
    "fertility.info()"
   ]
  },
  {
   "cell_type": "code",
   "execution_count": 790,
   "metadata": {},
   "outputs": [
    {
     "data": {
      "text/plain": [
       "count    201.000000\n",
       "mean       2.594179\n",
       "std        1.176156\n",
       "min        1.230000\n",
       "25%        1.740000\n",
       "50%        2.120000\n",
       "75%        3.400000\n",
       "max        6.930000\n",
       "Name: 2020, dtype: float64"
      ]
     },
     "execution_count": 790,
     "metadata": {},
     "output_type": "execute_result"
    }
   ],
   "source": [
    "fertility['2020'].describe()"
   ]
  },
  {
   "cell_type": "code",
   "execution_count": 791,
   "metadata": {},
   "outputs": [
    {
     "data": {
      "text/plain": [
       "True"
      ]
     },
     "execution_count": 791,
     "metadata": {},
     "output_type": "execute_result"
    }
   ],
   "source": [
    "len(fertility.country.unique()) == len(fertility)"
   ]
  },
  {
   "cell_type": "markdown",
   "metadata": {},
   "source": [
    "There are 202 unique countries in this data set. Does not appear to have any missing values"
   ]
  },
  {
   "cell_type": "markdown",
   "metadata": {},
   "source": [
    "### 2.2.3.2 Check country names that need to be fixed and then merge with whr2021_v2 data"
   ]
  },
  {
   "cell_type": "code",
   "execution_count": 792,
   "metadata": {},
   "outputs": [],
   "source": [
    "fertility_filtered = fertility.loc[:, ['country', '2020']]"
   ]
  },
  {
   "cell_type": "code",
   "execution_count": 793,
   "metadata": {},
   "outputs": [],
   "source": [
    "fertility_filtered['country'] = fertility_filtered.country.replace({'Congo, Rep.' : 'Congo (Brazzaville)'})\n",
    "fertility_filtered['country'] = fertility_filtered.country.replace({'Palestine' : 'Palestinian Territories'})"
   ]
  },
  {
   "cell_type": "code",
   "execution_count": 794,
   "metadata": {},
   "outputs": [],
   "source": [
    "whr2021_clean_v3 = pd.merge(whr2021_clean_v2, fertility_filtered, left_on = 'Country name', right_on = 'country', how='left' ).drop(columns='country').rename(columns = {'2020':'fertility'})"
   ]
  },
  {
   "cell_type": "code",
   "execution_count": 795,
   "metadata": {},
   "outputs": [
    {
     "name": "stdout",
     "output_type": "stream",
     "text": [
      "<class 'pandas.core.frame.DataFrame'>\n",
      "Int64Index: 140 entries, 0 to 139\n",
      "Data columns (total 12 columns):\n",
      " #   Column                        Non-Null Count  Dtype  \n",
      "---  ------                        --------------  -----  \n",
      " 0   Country name                  140 non-null    object \n",
      " 1   Regional indicator            140 non-null    object \n",
      " 2   Ladder score                  140 non-null    float64\n",
      " 3   Logged GDP per capita         140 non-null    float64\n",
      " 4   Social support                140 non-null    float64\n",
      " 5   Healthy life expectancy       140 non-null    float64\n",
      " 6   Freedom to make life choices  140 non-null    float64\n",
      " 7   Generosity                    140 non-null    float64\n",
      " 8   Perceptions of corruption     140 non-null    float64\n",
      " 9   gini                          140 non-null    float64\n",
      " 10  income_per_capita             140 non-null    float64\n",
      " 11  fertility                     140 non-null    float64\n",
      "dtypes: float64(10), object(2)\n",
      "memory usage: 14.2+ KB\n"
     ]
    }
   ],
   "source": [
    "whr2021_clean_v3.info()"
   ]
  },
  {
   "cell_type": "code",
   "execution_count": 796,
   "metadata": {},
   "outputs": [
    {
     "data": {
      "text/html": [
       "<div>\n",
       "<style scoped>\n",
       "    .dataframe tbody tr th:only-of-type {\n",
       "        vertical-align: middle;\n",
       "    }\n",
       "\n",
       "    .dataframe tbody tr th {\n",
       "        vertical-align: top;\n",
       "    }\n",
       "\n",
       "    .dataframe thead th {\n",
       "        text-align: right;\n",
       "    }\n",
       "</style>\n",
       "<table border=\"1\" class=\"dataframe\">\n",
       "  <thead>\n",
       "    <tr style=\"text-align: right;\">\n",
       "      <th></th>\n",
       "      <th>Country name</th>\n",
       "      <th>Regional indicator</th>\n",
       "      <th>Ladder score</th>\n",
       "      <th>Logged GDP per capita</th>\n",
       "      <th>Social support</th>\n",
       "      <th>Healthy life expectancy</th>\n",
       "      <th>Freedom to make life choices</th>\n",
       "      <th>Generosity</th>\n",
       "      <th>Perceptions of corruption</th>\n",
       "      <th>gini</th>\n",
       "      <th>income_per_capita</th>\n",
       "      <th>fertility</th>\n",
       "    </tr>\n",
       "  </thead>\n",
       "  <tbody>\n",
       "    <tr>\n",
       "      <th>0</th>\n",
       "      <td>Finland</td>\n",
       "      <td>Western Europe</td>\n",
       "      <td>7.842</td>\n",
       "      <td>10.775</td>\n",
       "      <td>0.954</td>\n",
       "      <td>72.0</td>\n",
       "      <td>0.949</td>\n",
       "      <td>-0.098</td>\n",
       "      <td>0.186</td>\n",
       "      <td>27.1</td>\n",
       "      <td>43500.0</td>\n",
       "      <td>1.79</td>\n",
       "    </tr>\n",
       "    <tr>\n",
       "      <th>1</th>\n",
       "      <td>Denmark</td>\n",
       "      <td>Western Europe</td>\n",
       "      <td>7.620</td>\n",
       "      <td>10.933</td>\n",
       "      <td>0.954</td>\n",
       "      <td>72.7</td>\n",
       "      <td>0.946</td>\n",
       "      <td>0.030</td>\n",
       "      <td>0.179</td>\n",
       "      <td>28.2</td>\n",
       "      <td>49500.0</td>\n",
       "      <td>1.78</td>\n",
       "    </tr>\n",
       "    <tr>\n",
       "      <th>2</th>\n",
       "      <td>Switzerland</td>\n",
       "      <td>Western Europe</td>\n",
       "      <td>7.571</td>\n",
       "      <td>11.117</td>\n",
       "      <td>0.942</td>\n",
       "      <td>74.4</td>\n",
       "      <td>0.919</td>\n",
       "      <td>0.025</td>\n",
       "      <td>0.292</td>\n",
       "      <td>32.3</td>\n",
       "      <td>59300.0</td>\n",
       "      <td>1.56</td>\n",
       "    </tr>\n",
       "    <tr>\n",
       "      <th>3</th>\n",
       "      <td>Iceland</td>\n",
       "      <td>Western Europe</td>\n",
       "      <td>7.554</td>\n",
       "      <td>10.878</td>\n",
       "      <td>0.983</td>\n",
       "      <td>73.0</td>\n",
       "      <td>0.955</td>\n",
       "      <td>0.160</td>\n",
       "      <td>0.673</td>\n",
       "      <td>27.8</td>\n",
       "      <td>47800.0</td>\n",
       "      <td>1.89</td>\n",
       "    </tr>\n",
       "    <tr>\n",
       "      <th>4</th>\n",
       "      <td>Netherlands</td>\n",
       "      <td>Western Europe</td>\n",
       "      <td>7.464</td>\n",
       "      <td>10.932</td>\n",
       "      <td>0.942</td>\n",
       "      <td>72.4</td>\n",
       "      <td>0.913</td>\n",
       "      <td>0.175</td>\n",
       "      <td>0.338</td>\n",
       "      <td>28.2</td>\n",
       "      <td>51800.0</td>\n",
       "      <td>1.76</td>\n",
       "    </tr>\n",
       "  </tbody>\n",
       "</table>\n",
       "</div>"
      ],
      "text/plain": [
       "  Country name Regional indicator  Ladder score  Logged GDP per capita  \\\n",
       "0      Finland     Western Europe         7.842                 10.775   \n",
       "1      Denmark     Western Europe         7.620                 10.933   \n",
       "2  Switzerland     Western Europe         7.571                 11.117   \n",
       "3      Iceland     Western Europe         7.554                 10.878   \n",
       "4  Netherlands     Western Europe         7.464                 10.932   \n",
       "\n",
       "   Social support  Healthy life expectancy  Freedom to make life choices  \\\n",
       "0           0.954                     72.0                         0.949   \n",
       "1           0.954                     72.7                         0.946   \n",
       "2           0.942                     74.4                         0.919   \n",
       "3           0.983                     73.0                         0.955   \n",
       "4           0.942                     72.4                         0.913   \n",
       "\n",
       "   Generosity  Perceptions of corruption  gini  income_per_capita  fertility  \n",
       "0      -0.098                      0.186  27.1            43500.0       1.79  \n",
       "1       0.030                      0.179  28.2            49500.0       1.78  \n",
       "2       0.025                      0.292  32.3            59300.0       1.56  \n",
       "3       0.160                      0.673  27.8            47800.0       1.89  \n",
       "4       0.175                      0.338  28.2            51800.0       1.76  "
      ]
     },
     "execution_count": 796,
     "metadata": {},
     "output_type": "execute_result"
    }
   ],
   "source": [
    "whr2021_clean_v3.head()"
   ]
  },
  {
   "cell_type": "markdown",
   "metadata": {},
   "source": [
    "## 2.2.4 Child Mortality\n",
    "\n",
    "\n",
    "### 4. Does child mortality impact happiness score?\n",
    "\n",
    "description:Death of children under five years of age per 1,000 live births\n",
    "source_url:http://gapm.io/du5mr"
   ]
  },
  {
   "cell_type": "markdown",
   "metadata": {},
   "source": [
    "### 2.2.4.1 Import  child mortality data and conduct initial analysis"
   ]
  },
  {
   "cell_type": "code",
   "execution_count": 797,
   "metadata": {},
   "outputs": [],
   "source": [
    "child_mort = pd.read_csv('child_mortality_0_5_year_olds_dying_per_1000_born.csv')"
   ]
  },
  {
   "cell_type": "code",
   "execution_count": 798,
   "metadata": {},
   "outputs": [
    {
     "name": "stdout",
     "output_type": "stream",
     "text": [
      "<class 'pandas.core.frame.DataFrame'>\n",
      "RangeIndex: 197 entries, 0 to 196\n",
      "Columns: 302 entries, country to 2099\n",
      "dtypes: float64(301), object(1)\n",
      "memory usage: 464.9+ KB\n"
     ]
    }
   ],
   "source": [
    "child_mort.info()"
   ]
  },
  {
   "cell_type": "code",
   "execution_count": 799,
   "metadata": {},
   "outputs": [
    {
     "data": {
      "text/html": [
       "<div>\n",
       "<style scoped>\n",
       "    .dataframe tbody tr th:only-of-type {\n",
       "        vertical-align: middle;\n",
       "    }\n",
       "\n",
       "    .dataframe tbody tr th {\n",
       "        vertical-align: top;\n",
       "    }\n",
       "\n",
       "    .dataframe thead th {\n",
       "        text-align: right;\n",
       "    }\n",
       "</style>\n",
       "<table border=\"1\" class=\"dataframe\">\n",
       "  <thead>\n",
       "    <tr style=\"text-align: right;\">\n",
       "      <th></th>\n",
       "      <th>country</th>\n",
       "      <th>1799</th>\n",
       "      <th>1800</th>\n",
       "      <th>1801</th>\n",
       "      <th>1802</th>\n",
       "      <th>1803</th>\n",
       "      <th>1804</th>\n",
       "      <th>1805</th>\n",
       "      <th>1806</th>\n",
       "      <th>1807</th>\n",
       "      <th>...</th>\n",
       "      <th>2090</th>\n",
       "      <th>2091</th>\n",
       "      <th>2092</th>\n",
       "      <th>2093</th>\n",
       "      <th>2094</th>\n",
       "      <th>2095</th>\n",
       "      <th>2096</th>\n",
       "      <th>2097</th>\n",
       "      <th>2098</th>\n",
       "      <th>2099</th>\n",
       "    </tr>\n",
       "  </thead>\n",
       "  <tbody>\n",
       "    <tr>\n",
       "      <th>0</th>\n",
       "      <td>Afghanistan</td>\n",
       "      <td>469.0</td>\n",
       "      <td>469.0</td>\n",
       "      <td>469.0</td>\n",
       "      <td>469.0</td>\n",
       "      <td>469.0</td>\n",
       "      <td>469.0</td>\n",
       "      <td>470.0</td>\n",
       "      <td>470.0</td>\n",
       "      <td>470.0</td>\n",
       "      <td>...</td>\n",
       "      <td>12.60</td>\n",
       "      <td>12.40</td>\n",
       "      <td>12.20</td>\n",
       "      <td>12.00</td>\n",
       "      <td>11.80</td>\n",
       "      <td>11.60</td>\n",
       "      <td>11.50</td>\n",
       "      <td>11.30</td>\n",
       "      <td>11.10</td>\n",
       "      <td>11.10</td>\n",
       "    </tr>\n",
       "    <tr>\n",
       "      <th>1</th>\n",
       "      <td>Angola</td>\n",
       "      <td>486.0</td>\n",
       "      <td>486.0</td>\n",
       "      <td>486.0</td>\n",
       "      <td>486.0</td>\n",
       "      <td>486.0</td>\n",
       "      <td>486.0</td>\n",
       "      <td>486.0</td>\n",
       "      <td>486.0</td>\n",
       "      <td>486.0</td>\n",
       "      <td>...</td>\n",
       "      <td>17.70</td>\n",
       "      <td>17.50</td>\n",
       "      <td>17.30</td>\n",
       "      <td>17.10</td>\n",
       "      <td>17.00</td>\n",
       "      <td>16.80</td>\n",
       "      <td>16.60</td>\n",
       "      <td>16.40</td>\n",
       "      <td>16.30</td>\n",
       "      <td>16.30</td>\n",
       "    </tr>\n",
       "    <tr>\n",
       "      <th>2</th>\n",
       "      <td>Albania</td>\n",
       "      <td>375.0</td>\n",
       "      <td>375.0</td>\n",
       "      <td>375.0</td>\n",
       "      <td>375.0</td>\n",
       "      <td>375.0</td>\n",
       "      <td>375.0</td>\n",
       "      <td>375.0</td>\n",
       "      <td>375.0</td>\n",
       "      <td>375.0</td>\n",
       "      <td>...</td>\n",
       "      <td>2.32</td>\n",
       "      <td>2.30</td>\n",
       "      <td>2.27</td>\n",
       "      <td>2.24</td>\n",
       "      <td>2.22</td>\n",
       "      <td>2.19</td>\n",
       "      <td>2.16</td>\n",
       "      <td>2.14</td>\n",
       "      <td>2.11</td>\n",
       "      <td>2.11</td>\n",
       "    </tr>\n",
       "    <tr>\n",
       "      <th>3</th>\n",
       "      <td>Andorra</td>\n",
       "      <td>NaN</td>\n",
       "      <td>NaN</td>\n",
       "      <td>NaN</td>\n",
       "      <td>NaN</td>\n",
       "      <td>NaN</td>\n",
       "      <td>NaN</td>\n",
       "      <td>NaN</td>\n",
       "      <td>NaN</td>\n",
       "      <td>NaN</td>\n",
       "      <td>...</td>\n",
       "      <td>0.86</td>\n",
       "      <td>0.84</td>\n",
       "      <td>0.83</td>\n",
       "      <td>0.81</td>\n",
       "      <td>0.80</td>\n",
       "      <td>0.79</td>\n",
       "      <td>0.78</td>\n",
       "      <td>0.77</td>\n",
       "      <td>0.76</td>\n",
       "      <td>0.76</td>\n",
       "    </tr>\n",
       "    <tr>\n",
       "      <th>4</th>\n",
       "      <td>United Arab Emirates</td>\n",
       "      <td>434.0</td>\n",
       "      <td>434.0</td>\n",
       "      <td>434.0</td>\n",
       "      <td>434.0</td>\n",
       "      <td>434.0</td>\n",
       "      <td>434.0</td>\n",
       "      <td>434.0</td>\n",
       "      <td>434.0</td>\n",
       "      <td>434.0</td>\n",
       "      <td>...</td>\n",
       "      <td>2.31</td>\n",
       "      <td>2.29</td>\n",
       "      <td>2.26</td>\n",
       "      <td>2.24</td>\n",
       "      <td>2.22</td>\n",
       "      <td>2.19</td>\n",
       "      <td>2.17</td>\n",
       "      <td>2.15</td>\n",
       "      <td>2.13</td>\n",
       "      <td>2.13</td>\n",
       "    </tr>\n",
       "  </tbody>\n",
       "</table>\n",
       "<p>5 rows × 302 columns</p>\n",
       "</div>"
      ],
      "text/plain": [
       "                country   1799   1800   1801   1802   1803   1804   1805  \\\n",
       "0           Afghanistan  469.0  469.0  469.0  469.0  469.0  469.0  470.0   \n",
       "1                Angola  486.0  486.0  486.0  486.0  486.0  486.0  486.0   \n",
       "2               Albania  375.0  375.0  375.0  375.0  375.0  375.0  375.0   \n",
       "3               Andorra    NaN    NaN    NaN    NaN    NaN    NaN    NaN   \n",
       "4  United Arab Emirates  434.0  434.0  434.0  434.0  434.0  434.0  434.0   \n",
       "\n",
       "    1806   1807  ...   2090   2091   2092   2093   2094   2095   2096   2097  \\\n",
       "0  470.0  470.0  ...  12.60  12.40  12.20  12.00  11.80  11.60  11.50  11.30   \n",
       "1  486.0  486.0  ...  17.70  17.50  17.30  17.10  17.00  16.80  16.60  16.40   \n",
       "2  375.0  375.0  ...   2.32   2.30   2.27   2.24   2.22   2.19   2.16   2.14   \n",
       "3    NaN    NaN  ...   0.86   0.84   0.83   0.81   0.80   0.79   0.78   0.77   \n",
       "4  434.0  434.0  ...   2.31   2.29   2.26   2.24   2.22   2.19   2.17   2.15   \n",
       "\n",
       "    2098   2099  \n",
       "0  11.10  11.10  \n",
       "1  16.30  16.30  \n",
       "2   2.11   2.11  \n",
       "3   0.76   0.76  \n",
       "4   2.13   2.13  \n",
       "\n",
       "[5 rows x 302 columns]"
      ]
     },
     "execution_count": 799,
     "metadata": {},
     "output_type": "execute_result"
    }
   ],
   "source": [
    "child_mort.head()"
   ]
  },
  {
   "cell_type": "code",
   "execution_count": 800,
   "metadata": {},
   "outputs": [
    {
     "data": {
      "text/plain": [
       "count    197.000000\n",
       "mean      25.485635\n",
       "std       26.111475\n",
       "min        1.520000\n",
       "25%        6.330000\n",
       "50%       15.000000\n",
       "75%       37.300000\n",
       "max      114.000000\n",
       "Name: 2020, dtype: float64"
      ]
     },
     "execution_count": 800,
     "metadata": {},
     "output_type": "execute_result"
    }
   ],
   "source": [
    "child_mort['2020'].describe()"
   ]
  },
  {
   "cell_type": "code",
   "execution_count": 801,
   "metadata": {},
   "outputs": [
    {
     "data": {
      "text/plain": [
       "True"
      ]
     },
     "execution_count": 801,
     "metadata": {},
     "output_type": "execute_result"
    }
   ],
   "source": [
    "len(child_mort.country.unique()) == len(child_mort)"
   ]
  },
  {
   "cell_type": "markdown",
   "metadata": {},
   "source": [
    "country values are unique and there does not appear to be any missing values"
   ]
  },
  {
   "cell_type": "markdown",
   "metadata": {},
   "source": [
    "### 2.2.4.2 Check country names that need to be fixed and then merge with whr2021_v3 data"
   ]
  },
  {
   "cell_type": "code",
   "execution_count": 802,
   "metadata": {},
   "outputs": [],
   "source": [
    "child_mort_filtered = child_mort.loc[:, ['country', '2020']]"
   ]
  },
  {
   "cell_type": "code",
   "execution_count": 803,
   "metadata": {},
   "outputs": [],
   "source": [
    "child_mort_filtered['country'] = child_mort_filtered.country.replace({'Congo, Rep.' : 'Congo (Brazzaville)'})\n",
    "child_mort_filtered['country'] = child_mort_filtered.country.replace({'Palestine' : 'Palestinian Territories'})"
   ]
  },
  {
   "cell_type": "code",
   "execution_count": 804,
   "metadata": {},
   "outputs": [],
   "source": [
    "whr2021_clean_v4 = pd.merge(whr2021_clean_v3, child_mort_filtered, left_on = 'Country name', right_on = 'country', how='left' ).drop(columns='country').rename(columns = {'2020':'child_mortality'})"
   ]
  },
  {
   "cell_type": "code",
   "execution_count": 805,
   "metadata": {},
   "outputs": [
    {
     "name": "stdout",
     "output_type": "stream",
     "text": [
      "<class 'pandas.core.frame.DataFrame'>\n",
      "Int64Index: 140 entries, 0 to 139\n",
      "Data columns (total 13 columns):\n",
      " #   Column                        Non-Null Count  Dtype  \n",
      "---  ------                        --------------  -----  \n",
      " 0   Country name                  140 non-null    object \n",
      " 1   Regional indicator            140 non-null    object \n",
      " 2   Ladder score                  140 non-null    float64\n",
      " 3   Logged GDP per capita         140 non-null    float64\n",
      " 4   Social support                140 non-null    float64\n",
      " 5   Healthy life expectancy       140 non-null    float64\n",
      " 6   Freedom to make life choices  140 non-null    float64\n",
      " 7   Generosity                    140 non-null    float64\n",
      " 8   Perceptions of corruption     140 non-null    float64\n",
      " 9   gini                          140 non-null    float64\n",
      " 10  income_per_capita             140 non-null    float64\n",
      " 11  fertility                     140 non-null    float64\n",
      " 12  child_mortality               140 non-null    float64\n",
      "dtypes: float64(11), object(2)\n",
      "memory usage: 15.3+ KB\n"
     ]
    }
   ],
   "source": [
    "whr2021_clean_v4.info()"
   ]
  },
  {
   "cell_type": "code",
   "execution_count": 806,
   "metadata": {},
   "outputs": [
    {
     "data": {
      "text/html": [
       "<div>\n",
       "<style scoped>\n",
       "    .dataframe tbody tr th:only-of-type {\n",
       "        vertical-align: middle;\n",
       "    }\n",
       "\n",
       "    .dataframe tbody tr th {\n",
       "        vertical-align: top;\n",
       "    }\n",
       "\n",
       "    .dataframe thead th {\n",
       "        text-align: right;\n",
       "    }\n",
       "</style>\n",
       "<table border=\"1\" class=\"dataframe\">\n",
       "  <thead>\n",
       "    <tr style=\"text-align: right;\">\n",
       "      <th></th>\n",
       "      <th>Country name</th>\n",
       "      <th>Regional indicator</th>\n",
       "      <th>Ladder score</th>\n",
       "      <th>Logged GDP per capita</th>\n",
       "      <th>Social support</th>\n",
       "      <th>Healthy life expectancy</th>\n",
       "      <th>Freedom to make life choices</th>\n",
       "      <th>Generosity</th>\n",
       "      <th>Perceptions of corruption</th>\n",
       "      <th>gini</th>\n",
       "      <th>income_per_capita</th>\n",
       "      <th>fertility</th>\n",
       "      <th>child_mortality</th>\n",
       "    </tr>\n",
       "  </thead>\n",
       "  <tbody>\n",
       "    <tr>\n",
       "      <th>0</th>\n",
       "      <td>Finland</td>\n",
       "      <td>Western Europe</td>\n",
       "      <td>7.842</td>\n",
       "      <td>10.775</td>\n",
       "      <td>0.954</td>\n",
       "      <td>72.0</td>\n",
       "      <td>0.949</td>\n",
       "      <td>-0.098</td>\n",
       "      <td>0.186</td>\n",
       "      <td>27.1</td>\n",
       "      <td>43500.0</td>\n",
       "      <td>1.79</td>\n",
       "      <td>1.52</td>\n",
       "    </tr>\n",
       "    <tr>\n",
       "      <th>1</th>\n",
       "      <td>Denmark</td>\n",
       "      <td>Western Europe</td>\n",
       "      <td>7.620</td>\n",
       "      <td>10.933</td>\n",
       "      <td>0.954</td>\n",
       "      <td>72.7</td>\n",
       "      <td>0.946</td>\n",
       "      <td>0.030</td>\n",
       "      <td>0.179</td>\n",
       "      <td>28.2</td>\n",
       "      <td>49500.0</td>\n",
       "      <td>1.78</td>\n",
       "      <td>3.85</td>\n",
       "    </tr>\n",
       "    <tr>\n",
       "      <th>2</th>\n",
       "      <td>Switzerland</td>\n",
       "      <td>Western Europe</td>\n",
       "      <td>7.571</td>\n",
       "      <td>11.117</td>\n",
       "      <td>0.942</td>\n",
       "      <td>74.4</td>\n",
       "      <td>0.919</td>\n",
       "      <td>0.025</td>\n",
       "      <td>0.292</td>\n",
       "      <td>32.3</td>\n",
       "      <td>59300.0</td>\n",
       "      <td>1.56</td>\n",
       "      <td>3.81</td>\n",
       "    </tr>\n",
       "    <tr>\n",
       "      <th>3</th>\n",
       "      <td>Iceland</td>\n",
       "      <td>Western Europe</td>\n",
       "      <td>7.554</td>\n",
       "      <td>10.878</td>\n",
       "      <td>0.983</td>\n",
       "      <td>73.0</td>\n",
       "      <td>0.955</td>\n",
       "      <td>0.160</td>\n",
       "      <td>0.673</td>\n",
       "      <td>27.8</td>\n",
       "      <td>47800.0</td>\n",
       "      <td>1.89</td>\n",
       "      <td>1.85</td>\n",
       "    </tr>\n",
       "    <tr>\n",
       "      <th>4</th>\n",
       "      <td>Netherlands</td>\n",
       "      <td>Western Europe</td>\n",
       "      <td>7.464</td>\n",
       "      <td>10.932</td>\n",
       "      <td>0.942</td>\n",
       "      <td>72.4</td>\n",
       "      <td>0.913</td>\n",
       "      <td>0.175</td>\n",
       "      <td>0.338</td>\n",
       "      <td>28.2</td>\n",
       "      <td>51800.0</td>\n",
       "      <td>1.76</td>\n",
       "      <td>3.42</td>\n",
       "    </tr>\n",
       "  </tbody>\n",
       "</table>\n",
       "</div>"
      ],
      "text/plain": [
       "  Country name Regional indicator  Ladder score  Logged GDP per capita  \\\n",
       "0      Finland     Western Europe         7.842                 10.775   \n",
       "1      Denmark     Western Europe         7.620                 10.933   \n",
       "2  Switzerland     Western Europe         7.571                 11.117   \n",
       "3      Iceland     Western Europe         7.554                 10.878   \n",
       "4  Netherlands     Western Europe         7.464                 10.932   \n",
       "\n",
       "   Social support  Healthy life expectancy  Freedom to make life choices  \\\n",
       "0           0.954                     72.0                         0.949   \n",
       "1           0.954                     72.7                         0.946   \n",
       "2           0.942                     74.4                         0.919   \n",
       "3           0.983                     73.0                         0.955   \n",
       "4           0.942                     72.4                         0.913   \n",
       "\n",
       "   Generosity  Perceptions of corruption  gini  income_per_capita  fertility  \\\n",
       "0      -0.098                      0.186  27.1            43500.0       1.79   \n",
       "1       0.030                      0.179  28.2            49500.0       1.78   \n",
       "2       0.025                      0.292  32.3            59300.0       1.56   \n",
       "3       0.160                      0.673  27.8            47800.0       1.89   \n",
       "4       0.175                      0.338  28.2            51800.0       1.76   \n",
       "\n",
       "   child_mortality  \n",
       "0             1.52  \n",
       "1             3.85  \n",
       "2             3.81  \n",
       "3             1.85  \n",
       "4             3.42  "
      ]
     },
     "execution_count": 806,
     "metadata": {},
     "output_type": "execute_result"
    }
   ],
   "source": [
    "whr2021_clean_v4.head()"
   ]
  },
  {
   "cell_type": "markdown",
   "metadata": {},
   "source": [
    "## 2.2.5 labor force participation rate dataset\n",
    "\n",
    "\n",
    "### 5. Does labour force participation impact happiness score?\n",
    "\n",
    "description:For age group 25-54, percentage of all labour to total population.\n",
    "source_url:https://www.ilo.org/ilostat/"
   ]
  },
  {
   "cell_type": "code",
   "execution_count": 807,
   "metadata": {},
   "outputs": [],
   "source": [
    "labor = pd.read_csv('aged_25_54_labour_force_participation_rate_percent.csv')"
   ]
  },
  {
   "cell_type": "code",
   "execution_count": 808,
   "metadata": {},
   "outputs": [
    {
     "data": {
      "text/html": [
       "<div>\n",
       "<style scoped>\n",
       "    .dataframe tbody tr th:only-of-type {\n",
       "        vertical-align: middle;\n",
       "    }\n",
       "\n",
       "    .dataframe tbody tr th {\n",
       "        vertical-align: top;\n",
       "    }\n",
       "\n",
       "    .dataframe thead th {\n",
       "        text-align: right;\n",
       "    }\n",
       "</style>\n",
       "<table border=\"1\" class=\"dataframe\">\n",
       "  <thead>\n",
       "    <tr style=\"text-align: right;\">\n",
       "      <th></th>\n",
       "      <th>country</th>\n",
       "      <th>1989</th>\n",
       "      <th>1990</th>\n",
       "      <th>1991</th>\n",
       "      <th>1992</th>\n",
       "      <th>1993</th>\n",
       "      <th>1994</th>\n",
       "      <th>1995</th>\n",
       "      <th>1996</th>\n",
       "      <th>1997</th>\n",
       "      <th>...</th>\n",
       "      <th>2020</th>\n",
       "      <th>2021</th>\n",
       "      <th>2022</th>\n",
       "      <th>2023</th>\n",
       "      <th>2024</th>\n",
       "      <th>2025</th>\n",
       "      <th>2026</th>\n",
       "      <th>2027</th>\n",
       "      <th>2028</th>\n",
       "      <th>2029</th>\n",
       "    </tr>\n",
       "  </thead>\n",
       "  <tbody>\n",
       "    <tr>\n",
       "      <th>0</th>\n",
       "      <td>Afghanistan</td>\n",
       "      <td>56.6</td>\n",
       "      <td>56.8</td>\n",
       "      <td>57.0</td>\n",
       "      <td>57.2</td>\n",
       "      <td>57.3</td>\n",
       "      <td>57.4</td>\n",
       "      <td>57.3</td>\n",
       "      <td>57.2</td>\n",
       "      <td>57.1</td>\n",
       "      <td>...</td>\n",
       "      <td>60.1</td>\n",
       "      <td>60.0</td>\n",
       "      <td>60.0</td>\n",
       "      <td>60.0</td>\n",
       "      <td>60.0</td>\n",
       "      <td>60.0</td>\n",
       "      <td>60.0</td>\n",
       "      <td>60.0</td>\n",
       "      <td>60.0</td>\n",
       "      <td>59.9</td>\n",
       "    </tr>\n",
       "    <tr>\n",
       "      <th>1</th>\n",
       "      <td>Angola</td>\n",
       "      <td>91.1</td>\n",
       "      <td>91.1</td>\n",
       "      <td>91.2</td>\n",
       "      <td>91.3</td>\n",
       "      <td>91.3</td>\n",
       "      <td>91.3</td>\n",
       "      <td>91.3</td>\n",
       "      <td>91.3</td>\n",
       "      <td>91.4</td>\n",
       "      <td>...</td>\n",
       "      <td>91.4</td>\n",
       "      <td>91.4</td>\n",
       "      <td>91.4</td>\n",
       "      <td>91.4</td>\n",
       "      <td>91.4</td>\n",
       "      <td>91.4</td>\n",
       "      <td>91.4</td>\n",
       "      <td>91.4</td>\n",
       "      <td>91.4</td>\n",
       "      <td>91.4</td>\n",
       "    </tr>\n",
       "    <tr>\n",
       "      <th>2</th>\n",
       "      <td>Albania</td>\n",
       "      <td>77.9</td>\n",
       "      <td>78.3</td>\n",
       "      <td>78.3</td>\n",
       "      <td>78.1</td>\n",
       "      <td>77.8</td>\n",
       "      <td>77.5</td>\n",
       "      <td>77.5</td>\n",
       "      <td>77.9</td>\n",
       "      <td>78.0</td>\n",
       "      <td>...</td>\n",
       "      <td>80.2</td>\n",
       "      <td>80.2</td>\n",
       "      <td>80.1</td>\n",
       "      <td>80.1</td>\n",
       "      <td>80.0</td>\n",
       "      <td>80.0</td>\n",
       "      <td>80.0</td>\n",
       "      <td>80.1</td>\n",
       "      <td>80.1</td>\n",
       "      <td>80.1</td>\n",
       "    </tr>\n",
       "    <tr>\n",
       "      <th>3</th>\n",
       "      <td>United Arab Emirates</td>\n",
       "      <td>83.6</td>\n",
       "      <td>83.7</td>\n",
       "      <td>83.8</td>\n",
       "      <td>84.0</td>\n",
       "      <td>84.1</td>\n",
       "      <td>84.3</td>\n",
       "      <td>84.4</td>\n",
       "      <td>84.6</td>\n",
       "      <td>84.8</td>\n",
       "      <td>...</td>\n",
       "      <td>85.5</td>\n",
       "      <td>85.1</td>\n",
       "      <td>84.9</td>\n",
       "      <td>84.7</td>\n",
       "      <td>84.5</td>\n",
       "      <td>84.2</td>\n",
       "      <td>84.0</td>\n",
       "      <td>83.8</td>\n",
       "      <td>83.7</td>\n",
       "      <td>83.6</td>\n",
       "    </tr>\n",
       "    <tr>\n",
       "      <th>4</th>\n",
       "      <td>Argentina</td>\n",
       "      <td>77.8</td>\n",
       "      <td>78.2</td>\n",
       "      <td>78.7</td>\n",
       "      <td>79.1</td>\n",
       "      <td>79.4</td>\n",
       "      <td>79.6</td>\n",
       "      <td>79.9</td>\n",
       "      <td>80.3</td>\n",
       "      <td>80.5</td>\n",
       "      <td>...</td>\n",
       "      <td>80.6</td>\n",
       "      <td>80.6</td>\n",
       "      <td>80.6</td>\n",
       "      <td>80.6</td>\n",
       "      <td>80.6</td>\n",
       "      <td>80.6</td>\n",
       "      <td>80.5</td>\n",
       "      <td>80.5</td>\n",
       "      <td>80.5</td>\n",
       "      <td>80.5</td>\n",
       "    </tr>\n",
       "  </tbody>\n",
       "</table>\n",
       "<p>5 rows × 42 columns</p>\n",
       "</div>"
      ],
      "text/plain": [
       "                country  1989  1990  1991  1992  1993  1994  1995  1996  1997  \\\n",
       "0           Afghanistan  56.6  56.8  57.0  57.2  57.3  57.4  57.3  57.2  57.1   \n",
       "1                Angola  91.1  91.1  91.2  91.3  91.3  91.3  91.3  91.3  91.4   \n",
       "2               Albania  77.9  78.3  78.3  78.1  77.8  77.5  77.5  77.9  78.0   \n",
       "3  United Arab Emirates  83.6  83.7  83.8  84.0  84.1  84.3  84.4  84.6  84.8   \n",
       "4             Argentina  77.8  78.2  78.7  79.1  79.4  79.6  79.9  80.3  80.5   \n",
       "\n",
       "   ...  2020  2021  2022  2023  2024  2025  2026  2027  2028  2029  \n",
       "0  ...  60.1  60.0  60.0  60.0  60.0  60.0  60.0  60.0  60.0  59.9  \n",
       "1  ...  91.4  91.4  91.4  91.4  91.4  91.4  91.4  91.4  91.4  91.4  \n",
       "2  ...  80.2  80.2  80.1  80.1  80.0  80.0  80.0  80.1  80.1  80.1  \n",
       "3  ...  85.5  85.1  84.9  84.7  84.5  84.2  84.0  83.8  83.7  83.6  \n",
       "4  ...  80.6  80.6  80.6  80.6  80.6  80.6  80.5  80.5  80.5  80.5  \n",
       "\n",
       "[5 rows x 42 columns]"
      ]
     },
     "execution_count": 808,
     "metadata": {},
     "output_type": "execute_result"
    }
   ],
   "source": [
    "labor.head()"
   ]
  },
  {
   "cell_type": "code",
   "execution_count": 809,
   "metadata": {},
   "outputs": [
    {
     "name": "stdout",
     "output_type": "stream",
     "text": [
      "<class 'pandas.core.frame.DataFrame'>\n",
      "RangeIndex: 189 entries, 0 to 188\n",
      "Data columns (total 42 columns):\n",
      " #   Column   Non-Null Count  Dtype  \n",
      "---  ------   --------------  -----  \n",
      " 0   country  189 non-null    object \n",
      " 1   1989     189 non-null    float64\n",
      " 2   1990     189 non-null    float64\n",
      " 3   1991     189 non-null    float64\n",
      " 4   1992     189 non-null    float64\n",
      " 5   1993     189 non-null    float64\n",
      " 6   1994     189 non-null    float64\n",
      " 7   1995     189 non-null    float64\n",
      " 8   1996     189 non-null    float64\n",
      " 9   1997     189 non-null    float64\n",
      " 10  1998     189 non-null    float64\n",
      " 11  1999     189 non-null    float64\n",
      " 12  2000     189 non-null    float64\n",
      " 13  2001     189 non-null    float64\n",
      " 14  2002     189 non-null    float64\n",
      " 15  2003     189 non-null    float64\n",
      " 16  2004     189 non-null    float64\n",
      " 17  2005     189 non-null    float64\n",
      " 18  2006     189 non-null    float64\n",
      " 19  2007     189 non-null    float64\n",
      " 20  2008     189 non-null    float64\n",
      " 21  2009     189 non-null    float64\n",
      " 22  2010     189 non-null    float64\n",
      " 23  2011     189 non-null    float64\n",
      " 24  2012     189 non-null    float64\n",
      " 25  2013     189 non-null    float64\n",
      " 26  2014     189 non-null    float64\n",
      " 27  2015     189 non-null    float64\n",
      " 28  2016     189 non-null    float64\n",
      " 29  2017     189 non-null    float64\n",
      " 30  2018     189 non-null    float64\n",
      " 31  2019     189 non-null    float64\n",
      " 32  2020     189 non-null    float64\n",
      " 33  2021     189 non-null    float64\n",
      " 34  2022     189 non-null    float64\n",
      " 35  2023     189 non-null    float64\n",
      " 36  2024     189 non-null    float64\n",
      " 37  2025     189 non-null    float64\n",
      " 38  2026     189 non-null    float64\n",
      " 39  2027     189 non-null    float64\n",
      " 40  2028     189 non-null    float64\n",
      " 41  2029     189 non-null    float64\n",
      "dtypes: float64(41), object(1)\n",
      "memory usage: 62.1+ KB\n"
     ]
    }
   ],
   "source": [
    "labor.info()"
   ]
  },
  {
   "cell_type": "code",
   "execution_count": 810,
   "metadata": {},
   "outputs": [
    {
     "data": {
      "text/plain": [
       "count    189.000000\n",
       "mean      80.311111\n",
       "std       10.335460\n",
       "min       41.400000\n",
       "25%       76.000000\n",
       "50%       82.700000\n",
       "75%       87.600000\n",
       "max       95.800000\n",
       "Name: 2020, dtype: float64"
      ]
     },
     "execution_count": 810,
     "metadata": {},
     "output_type": "execute_result"
    }
   ],
   "source": [
    "labor['2020'].describe()"
   ]
  },
  {
   "cell_type": "code",
   "execution_count": 811,
   "metadata": {},
   "outputs": [
    {
     "data": {
      "text/plain": [
       "True"
      ]
     },
     "execution_count": 811,
     "metadata": {},
     "output_type": "execute_result"
    }
   ],
   "source": [
    "len(labor.country.unique()) == len(labor)"
   ]
  },
  {
   "cell_type": "markdown",
   "metadata": {},
   "source": [
    "country values are unqiue and there does not appear to be any missing values"
   ]
  },
  {
   "cell_type": "markdown",
   "metadata": {},
   "source": [
    "### 2.2.5.2 Check country names that need to be fixed and then merge with whr2021_v4 data"
   ]
  },
  {
   "cell_type": "code",
   "execution_count": 812,
   "metadata": {},
   "outputs": [],
   "source": [
    "labor_filtered = labor[['country', '2020']]"
   ]
  },
  {
   "cell_type": "code",
   "execution_count": 813,
   "metadata": {},
   "outputs": [
    {
     "name": "stderr",
     "output_type": "stream",
     "text": [
      "/Users/davidlam/opt/anaconda3/lib/python3.7/site-packages/pandas/core/frame.py:3607: SettingWithCopyWarning: \n",
      "A value is trying to be set on a copy of a slice from a DataFrame.\n",
      "Try using .loc[row_indexer,col_indexer] = value instead\n",
      "\n",
      "See the caveats in the documentation: https://pandas.pydata.org/pandas-docs/stable/user_guide/indexing.html#returning-a-view-versus-a-copy\n",
      "  self._set_item(key, value)\n"
     ]
    }
   ],
   "source": [
    "labor_filtered['country'] = labor_filtered.country.replace({'Congo, Rep.' : 'Congo (Brazzaville)', 'Palestine' : 'Palestinian Territories'})"
   ]
  },
  {
   "cell_type": "code",
   "execution_count": 814,
   "metadata": {},
   "outputs": [],
   "source": [
    "whr2021_clean_v5 = pd.merge(whr2021_clean_v4, labor_filtered, left_on = 'Country name', right_on = 'country', how='left' ).drop(columns='country').rename(columns = {'2020':'labor_ppt_25-54'})"
   ]
  },
  {
   "cell_type": "code",
   "execution_count": 815,
   "metadata": {},
   "outputs": [
    {
     "name": "stdout",
     "output_type": "stream",
     "text": [
      "<class 'pandas.core.frame.DataFrame'>\n",
      "Int64Index: 140 entries, 0 to 139\n",
      "Data columns (total 14 columns):\n",
      " #   Column                        Non-Null Count  Dtype  \n",
      "---  ------                        --------------  -----  \n",
      " 0   Country name                  140 non-null    object \n",
      " 1   Regional indicator            140 non-null    object \n",
      " 2   Ladder score                  140 non-null    float64\n",
      " 3   Logged GDP per capita         140 non-null    float64\n",
      " 4   Social support                140 non-null    float64\n",
      " 5   Healthy life expectancy       140 non-null    float64\n",
      " 6   Freedom to make life choices  140 non-null    float64\n",
      " 7   Generosity                    140 non-null    float64\n",
      " 8   Perceptions of corruption     140 non-null    float64\n",
      " 9   gini                          140 non-null    float64\n",
      " 10  income_per_capita             140 non-null    float64\n",
      " 11  fertility                     140 non-null    float64\n",
      " 12  child_mortality               140 non-null    float64\n",
      " 13  labor_ppt_25-54               140 non-null    float64\n",
      "dtypes: float64(12), object(2)\n",
      "memory usage: 16.4+ KB\n"
     ]
    }
   ],
   "source": [
    "whr2021_clean_v5.info()"
   ]
  },
  {
   "cell_type": "code",
   "execution_count": 816,
   "metadata": {
    "scrolled": true
   },
   "outputs": [
    {
     "data": {
      "text/html": [
       "<div>\n",
       "<style scoped>\n",
       "    .dataframe tbody tr th:only-of-type {\n",
       "        vertical-align: middle;\n",
       "    }\n",
       "\n",
       "    .dataframe tbody tr th {\n",
       "        vertical-align: top;\n",
       "    }\n",
       "\n",
       "    .dataframe thead th {\n",
       "        text-align: right;\n",
       "    }\n",
       "</style>\n",
       "<table border=\"1\" class=\"dataframe\">\n",
       "  <thead>\n",
       "    <tr style=\"text-align: right;\">\n",
       "      <th></th>\n",
       "      <th>Country name</th>\n",
       "      <th>Regional indicator</th>\n",
       "      <th>Ladder score</th>\n",
       "      <th>Logged GDP per capita</th>\n",
       "      <th>Social support</th>\n",
       "      <th>Healthy life expectancy</th>\n",
       "      <th>Freedom to make life choices</th>\n",
       "      <th>Generosity</th>\n",
       "      <th>Perceptions of corruption</th>\n",
       "      <th>gini</th>\n",
       "      <th>income_per_capita</th>\n",
       "      <th>fertility</th>\n",
       "      <th>child_mortality</th>\n",
       "      <th>labor_ppt_25-54</th>\n",
       "    </tr>\n",
       "  </thead>\n",
       "  <tbody>\n",
       "    <tr>\n",
       "      <th>0</th>\n",
       "      <td>Finland</td>\n",
       "      <td>Western Europe</td>\n",
       "      <td>7.842</td>\n",
       "      <td>10.775</td>\n",
       "      <td>0.954</td>\n",
       "      <td>72.0</td>\n",
       "      <td>0.949</td>\n",
       "      <td>-0.098</td>\n",
       "      <td>0.186</td>\n",
       "      <td>27.1</td>\n",
       "      <td>43500.0</td>\n",
       "      <td>1.79</td>\n",
       "      <td>1.52</td>\n",
       "      <td>86.2</td>\n",
       "    </tr>\n",
       "    <tr>\n",
       "      <th>1</th>\n",
       "      <td>Denmark</td>\n",
       "      <td>Western Europe</td>\n",
       "      <td>7.620</td>\n",
       "      <td>10.933</td>\n",
       "      <td>0.954</td>\n",
       "      <td>72.7</td>\n",
       "      <td>0.946</td>\n",
       "      <td>0.030</td>\n",
       "      <td>0.179</td>\n",
       "      <td>28.2</td>\n",
       "      <td>49500.0</td>\n",
       "      <td>1.78</td>\n",
       "      <td>3.85</td>\n",
       "      <td>87.2</td>\n",
       "    </tr>\n",
       "    <tr>\n",
       "      <th>2</th>\n",
       "      <td>Switzerland</td>\n",
       "      <td>Western Europe</td>\n",
       "      <td>7.571</td>\n",
       "      <td>11.117</td>\n",
       "      <td>0.942</td>\n",
       "      <td>74.4</td>\n",
       "      <td>0.919</td>\n",
       "      <td>0.025</td>\n",
       "      <td>0.292</td>\n",
       "      <td>32.3</td>\n",
       "      <td>59300.0</td>\n",
       "      <td>1.56</td>\n",
       "      <td>3.81</td>\n",
       "      <td>90.9</td>\n",
       "    </tr>\n",
       "    <tr>\n",
       "      <th>3</th>\n",
       "      <td>Iceland</td>\n",
       "      <td>Western Europe</td>\n",
       "      <td>7.554</td>\n",
       "      <td>10.878</td>\n",
       "      <td>0.983</td>\n",
       "      <td>73.0</td>\n",
       "      <td>0.955</td>\n",
       "      <td>0.160</td>\n",
       "      <td>0.673</td>\n",
       "      <td>27.8</td>\n",
       "      <td>47800.0</td>\n",
       "      <td>1.89</td>\n",
       "      <td>1.85</td>\n",
       "      <td>90.9</td>\n",
       "    </tr>\n",
       "    <tr>\n",
       "      <th>4</th>\n",
       "      <td>Netherlands</td>\n",
       "      <td>Western Europe</td>\n",
       "      <td>7.464</td>\n",
       "      <td>10.932</td>\n",
       "      <td>0.942</td>\n",
       "      <td>72.4</td>\n",
       "      <td>0.913</td>\n",
       "      <td>0.175</td>\n",
       "      <td>0.338</td>\n",
       "      <td>28.2</td>\n",
       "      <td>51800.0</td>\n",
       "      <td>1.76</td>\n",
       "      <td>3.42</td>\n",
       "      <td>87.8</td>\n",
       "    </tr>\n",
       "  </tbody>\n",
       "</table>\n",
       "</div>"
      ],
      "text/plain": [
       "  Country name Regional indicator  Ladder score  Logged GDP per capita  \\\n",
       "0      Finland     Western Europe         7.842                 10.775   \n",
       "1      Denmark     Western Europe         7.620                 10.933   \n",
       "2  Switzerland     Western Europe         7.571                 11.117   \n",
       "3      Iceland     Western Europe         7.554                 10.878   \n",
       "4  Netherlands     Western Europe         7.464                 10.932   \n",
       "\n",
       "   Social support  Healthy life expectancy  Freedom to make life choices  \\\n",
       "0           0.954                     72.0                         0.949   \n",
       "1           0.954                     72.7                         0.946   \n",
       "2           0.942                     74.4                         0.919   \n",
       "3           0.983                     73.0                         0.955   \n",
       "4           0.942                     72.4                         0.913   \n",
       "\n",
       "   Generosity  Perceptions of corruption  gini  income_per_capita  fertility  \\\n",
       "0      -0.098                      0.186  27.1            43500.0       1.79   \n",
       "1       0.030                      0.179  28.2            49500.0       1.78   \n",
       "2       0.025                      0.292  32.3            59300.0       1.56   \n",
       "3       0.160                      0.673  27.8            47800.0       1.89   \n",
       "4       0.175                      0.338  28.2            51800.0       1.76   \n",
       "\n",
       "   child_mortality  labor_ppt_25-54  \n",
       "0             1.52             86.2  \n",
       "1             3.85             87.2  \n",
       "2             3.81             90.9  \n",
       "3             1.85             90.9  \n",
       "4             3.42             87.8  "
      ]
     },
     "execution_count": 816,
     "metadata": {},
     "output_type": "execute_result"
    }
   ],
   "source": [
    "whr2021_clean_v5.head()"
   ]
  },
  {
   "cell_type": "code",
   "execution_count": 817,
   "metadata": {},
   "outputs": [
    {
     "data": {
      "text/html": [
       "<div>\n",
       "<style scoped>\n",
       "    .dataframe tbody tr th:only-of-type {\n",
       "        vertical-align: middle;\n",
       "    }\n",
       "\n",
       "    .dataframe tbody tr th {\n",
       "        vertical-align: top;\n",
       "    }\n",
       "\n",
       "    .dataframe thead th {\n",
       "        text-align: right;\n",
       "    }\n",
       "</style>\n",
       "<table border=\"1\" class=\"dataframe\">\n",
       "  <thead>\n",
       "    <tr style=\"text-align: right;\">\n",
       "      <th></th>\n",
       "      <th>Ladder score</th>\n",
       "      <th>Logged GDP per capita</th>\n",
       "      <th>Social support</th>\n",
       "      <th>Healthy life expectancy</th>\n",
       "      <th>Freedom to make life choices</th>\n",
       "      <th>Generosity</th>\n",
       "      <th>Perceptions of corruption</th>\n",
       "      <th>gini</th>\n",
       "      <th>income_per_capita</th>\n",
       "      <th>fertility</th>\n",
       "      <th>child_mortality</th>\n",
       "      <th>labor_ppt_25-54</th>\n",
       "    </tr>\n",
       "  </thead>\n",
       "  <tbody>\n",
       "    <tr>\n",
       "      <th>count</th>\n",
       "      <td>140.000000</td>\n",
       "      <td>140.000000</td>\n",
       "      <td>140.000000</td>\n",
       "      <td>140.00000</td>\n",
       "      <td>140.000000</td>\n",
       "      <td>140.000000</td>\n",
       "      <td>140.000000</td>\n",
       "      <td>140.000000</td>\n",
       "      <td>140.000000</td>\n",
       "      <td>140.000000</td>\n",
       "      <td>140.000000</td>\n",
       "      <td>140.000000</td>\n",
       "    </tr>\n",
       "    <tr>\n",
       "      <th>mean</th>\n",
       "      <td>5.526464</td>\n",
       "      <td>9.415457</td>\n",
       "      <td>0.814650</td>\n",
       "      <td>65.04485</td>\n",
       "      <td>0.791314</td>\n",
       "      <td>-0.017414</td>\n",
       "      <td>0.726743</td>\n",
       "      <td>38.032857</td>\n",
       "      <td>20392.242857</td>\n",
       "      <td>2.537286</td>\n",
       "      <td>23.774929</td>\n",
       "      <td>80.698571</td>\n",
       "    </tr>\n",
       "    <tr>\n",
       "      <th>std</th>\n",
       "      <td>1.094085</td>\n",
       "      <td>1.169013</td>\n",
       "      <td>0.116501</td>\n",
       "      <td>6.59677</td>\n",
       "      <td>0.114759</td>\n",
       "      <td>0.151638</td>\n",
       "      <td>0.180458</td>\n",
       "      <td>7.673063</td>\n",
       "      <td>19374.211059</td>\n",
       "      <td>1.181295</td>\n",
       "      <td>25.405694</td>\n",
       "      <td>10.099968</td>\n",
       "    </tr>\n",
       "    <tr>\n",
       "      <th>min</th>\n",
       "      <td>2.523000</td>\n",
       "      <td>6.635000</td>\n",
       "      <td>0.463000</td>\n",
       "      <td>48.47800</td>\n",
       "      <td>0.382000</td>\n",
       "      <td>-0.288000</td>\n",
       "      <td>0.082000</td>\n",
       "      <td>25.000000</td>\n",
       "      <td>613.000000</td>\n",
       "      <td>1.230000</td>\n",
       "      <td>1.520000</td>\n",
       "      <td>47.400000</td>\n",
       "    </tr>\n",
       "    <tr>\n",
       "      <th>25%</th>\n",
       "      <td>4.833000</td>\n",
       "      <td>8.521000</td>\n",
       "      <td>0.749000</td>\n",
       "      <td>59.92200</td>\n",
       "      <td>0.717750</td>\n",
       "      <td>-0.131500</td>\n",
       "      <td>0.671500</td>\n",
       "      <td>32.550000</td>\n",
       "      <td>4707.500000</td>\n",
       "      <td>1.685000</td>\n",
       "      <td>4.965000</td>\n",
       "      <td>76.375000</td>\n",
       "    </tr>\n",
       "    <tr>\n",
       "      <th>50%</th>\n",
       "      <td>5.505500</td>\n",
       "      <td>9.573000</td>\n",
       "      <td>0.832000</td>\n",
       "      <td>66.65150</td>\n",
       "      <td>0.806500</td>\n",
       "      <td>-0.039500</td>\n",
       "      <td>0.784000</td>\n",
       "      <td>36.600000</td>\n",
       "      <td>14200.000000</td>\n",
       "      <td>1.990000</td>\n",
       "      <td>13.100000</td>\n",
       "      <td>82.900000</td>\n",
       "    </tr>\n",
       "    <tr>\n",
       "      <th>75%</th>\n",
       "      <td>6.231000</td>\n",
       "      <td>10.391750</td>\n",
       "      <td>0.906500</td>\n",
       "      <td>69.60775</td>\n",
       "      <td>0.877500</td>\n",
       "      <td>0.077500</td>\n",
       "      <td>0.844250</td>\n",
       "      <td>42.725000</td>\n",
       "      <td>31625.000000</td>\n",
       "      <td>3.140000</td>\n",
       "      <td>35.875000</td>\n",
       "      <td>87.925000</td>\n",
       "    </tr>\n",
       "    <tr>\n",
       "      <th>max</th>\n",
       "      <td>7.842000</td>\n",
       "      <td>11.647000</td>\n",
       "      <td>0.983000</td>\n",
       "      <td>76.95300</td>\n",
       "      <td>0.970000</td>\n",
       "      <td>0.542000</td>\n",
       "      <td>0.939000</td>\n",
       "      <td>63.000000</td>\n",
       "      <td>95800.000000</td>\n",
       "      <td>6.930000</td>\n",
       "      <td>112.000000</td>\n",
       "      <td>95.800000</td>\n",
       "    </tr>\n",
       "  </tbody>\n",
       "</table>\n",
       "</div>"
      ],
      "text/plain": [
       "       Ladder score  Logged GDP per capita  Social support  \\\n",
       "count    140.000000             140.000000      140.000000   \n",
       "mean       5.526464               9.415457        0.814650   \n",
       "std        1.094085               1.169013        0.116501   \n",
       "min        2.523000               6.635000        0.463000   \n",
       "25%        4.833000               8.521000        0.749000   \n",
       "50%        5.505500               9.573000        0.832000   \n",
       "75%        6.231000              10.391750        0.906500   \n",
       "max        7.842000              11.647000        0.983000   \n",
       "\n",
       "       Healthy life expectancy  Freedom to make life choices  Generosity  \\\n",
       "count                140.00000                    140.000000  140.000000   \n",
       "mean                  65.04485                      0.791314   -0.017414   \n",
       "std                    6.59677                      0.114759    0.151638   \n",
       "min                   48.47800                      0.382000   -0.288000   \n",
       "25%                   59.92200                      0.717750   -0.131500   \n",
       "50%                   66.65150                      0.806500   -0.039500   \n",
       "75%                   69.60775                      0.877500    0.077500   \n",
       "max                   76.95300                      0.970000    0.542000   \n",
       "\n",
       "       Perceptions of corruption        gini  income_per_capita   fertility  \\\n",
       "count                 140.000000  140.000000         140.000000  140.000000   \n",
       "mean                    0.726743   38.032857       20392.242857    2.537286   \n",
       "std                     0.180458    7.673063       19374.211059    1.181295   \n",
       "min                     0.082000   25.000000         613.000000    1.230000   \n",
       "25%                     0.671500   32.550000        4707.500000    1.685000   \n",
       "50%                     0.784000   36.600000       14200.000000    1.990000   \n",
       "75%                     0.844250   42.725000       31625.000000    3.140000   \n",
       "max                     0.939000   63.000000       95800.000000    6.930000   \n",
       "\n",
       "       child_mortality  labor_ppt_25-54  \n",
       "count       140.000000       140.000000  \n",
       "mean         23.774929        80.698571  \n",
       "std          25.405694        10.099968  \n",
       "min           1.520000        47.400000  \n",
       "25%           4.965000        76.375000  \n",
       "50%          13.100000        82.900000  \n",
       "75%          35.875000        87.925000  \n",
       "max         112.000000        95.800000  "
      ]
     },
     "execution_count": 817,
     "metadata": {},
     "output_type": "execute_result"
    }
   ],
   "source": [
    "whr2021_clean_v5.describe()"
   ]
  },
  {
   "cell_type": "markdown",
   "metadata": {},
   "source": [
    "# 2.3 Export final wrangled data to csv"
   ]
  },
  {
   "cell_type": "code",
   "execution_count": 818,
   "metadata": {},
   "outputs": [],
   "source": [
    "whr2021_clean_v5.to_csv(os.getcwd()+'/whr2021_clean_v5.csv',index=False)"
   ]
  },
  {
   "cell_type": "code",
   "execution_count": null,
   "metadata": {},
   "outputs": [],
   "source": []
  }
 ],
 "metadata": {
  "kernelspec": {
   "display_name": "Python 3",
   "language": "python",
   "name": "python3"
  },
  "language_info": {
   "codemirror_mode": {
    "name": "ipython",
    "version": 3
   },
   "file_extension": ".py",
   "mimetype": "text/x-python",
   "name": "python",
   "nbconvert_exporter": "python",
   "pygments_lexer": "ipython3",
   "version": "3.7.6"
  }
 },
 "nbformat": 4,
 "nbformat_minor": 4
}
