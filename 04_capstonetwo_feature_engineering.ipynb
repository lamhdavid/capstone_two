{
 "cells": [
  {
   "cell_type": "markdown",
   "metadata": {},
   "source": [
    "# 4. Feature Engineering <a id='4_feature_engineering'></a>"
   ]
  },
  {
   "cell_type": "markdown",
   "metadata": {},
   "source": [
    "## 4.1 Contents<a id='4.1_Contents'></a>\n",
    "\n",
    "* [4. Feature Engineering](#4_feature_engineering)\n",
    "    * [4.1 Contents](#4.1_Contents)\n",
    "    * [4.2 Introduction](#4.2_Introduction)\n",
    "    * [4.3 Imports](#4.3_Imports)\n",
    "        * [4.3.1 Import packages](#4.3.1_import_packages)\n",
    "        * [4.3.2 Import data and create pairplot graph to view skew](#4.3.2_import_data)\n",
    "    * [4.4 Create Features](#4.4_create_features)\n",
    "        * [4.4.1 Fix Negative Skew for Social Support](#4.4.1_nskew_social)\n",
    "        * [4.4.2 Fix Negative Skew for Healthy Life Expectancy](#4.4.2_nskew_health)\n",
    "        * [4.4.3 Fix Negative Skew for Freedom to Make Life Choices](#4.4.3_nskew_freedom)\n",
    "        * [4.4.4 Fix Negative Skew for Perception of Corruption](#4.4.4_nskew_corruption)\n",
    "        * [4.4.5 Fix Negative Skew for Labor Participation](#4.4.5_nskew_laborppt)\n",
    "        * [4.4.6 Fix Positive Skew for Generosity](#4.4.6_pskew_generosity)\n",
    "        * [4.4.7 Fix Positive Skew for Gini](#4.4.7_pskew_gini)\n",
    "        * [4.4.8 Fix Positive Skew for Income per Capita](#4.4.8_pskew_income)\n",
    "        * [4.4.9 Fix Positive Skew for Fertility](#4.4.9_pskew_fertility)\n",
    "        * [4.4.10 Fix Positive Skew for Child Mortality](#4.4.10_pskew_childmort)\n",
    "        * [4.4.11 Standardize Features](#4.4.11_standardize)\n",
    "        * [4.4.12 Create Dummy variables for Regional Indicator](#4.4.12_dummies)\n",
    "    * [4.5 Split Data into a Training and Test set](#4.5_split)\n",
    "    * [4.6 Export Final Dataset](#4.6_export)\n",
    "    "
   ]
  },
  {
   "cell_type": "markdown",
   "metadata": {},
   "source": [
    "## 4.2 Introduction  <a id='4.2_Introduction'></a>"
   ]
  },
  {
   "cell_type": "markdown",
   "metadata": {},
   "source": [
    "Now that we have finished with EDA, we need to continue with preprocessing and Training Data Development\n",
    "\n",
    "**Goal:** Create a cleaned development dataset you can use to complete the modeling step of your project.\n",
    "\n",
    "**Steps:**\n",
    "  \n",
    "1. Create dummy or indicator features for categorical variables - We may want to apply this to the region column.\n",
    "2. Addres skew in data, **Social Support, Healthy life expectancy, Freedom to make life choices, Perceptions of corruption and labor_ppt_25-54 all appear negatively skewed while Generosity, gini, income_per_capita, fertility, child_mortality appear to be positively skewed based on EDA we did earlier.** \n",
    "3. Standardize the magnitude of numeric features using a scaler - We will want to standardize values as we likely will be using linear regression and perhaps some distance based classification models. \n",
    "4. Split into testing and training datasets"
   ]
  },
  {
   "cell_type": "markdown",
   "metadata": {},
   "source": [
    "## 4.3. Imports <a id=4.3_Imports></a>"
   ]
  },
  {
   "cell_type": "markdown",
   "metadata": {},
   "source": [
    "### 4.3.1 Import packages <a id='4.3.1_import_packages'></a>"
   ]
  },
  {
   "cell_type": "code",
   "execution_count": 8,
   "metadata": {},
   "outputs": [],
   "source": [
    "import pandas as pd\n",
    "import numpy as np\n",
    "import matplotlib.pyplot as plt\n",
    "import seaborn as sns\n",
    "import os\n",
    "from sklearn.preprocessing import StandardScaler\n",
    "from sklearn.model_selection import train_test_split\n",
    "from sklearn.preprocessing import PowerTransformer"
   ]
  },
  {
   "cell_type": "markdown",
   "metadata": {},
   "source": [
    "### 4.3.2 Import data and create pairplot graph to view skew<a id='4.3.2_import_data'></a>"
   ]
  },
  {
   "cell_type": "code",
   "execution_count": 9,
   "metadata": {
    "scrolled": true
   },
   "outputs": [
    {
     "data": {
      "text/html": [
       "<div>\n",
       "<style scoped>\n",
       "    .dataframe tbody tr th:only-of-type {\n",
       "        vertical-align: middle;\n",
       "    }\n",
       "\n",
       "    .dataframe tbody tr th {\n",
       "        vertical-align: top;\n",
       "    }\n",
       "\n",
       "    .dataframe thead th {\n",
       "        text-align: right;\n",
       "    }\n",
       "</style>\n",
       "<table border=\"1\" class=\"dataframe\">\n",
       "  <thead>\n",
       "    <tr style=\"text-align: right;\">\n",
       "      <th></th>\n",
       "      <th>Country name</th>\n",
       "      <th>Regional indicator</th>\n",
       "      <th>Ladder score</th>\n",
       "      <th>Logged GDP per capita</th>\n",
       "      <th>Social support</th>\n",
       "      <th>Healthy life expectancy</th>\n",
       "      <th>Freedom to make life choices</th>\n",
       "      <th>Generosity</th>\n",
       "      <th>Perceptions of corruption</th>\n",
       "      <th>gini</th>\n",
       "      <th>income_per_capita</th>\n",
       "      <th>fertility</th>\n",
       "      <th>child_mortality</th>\n",
       "      <th>labor_ppt_25-54</th>\n",
       "    </tr>\n",
       "  </thead>\n",
       "  <tbody>\n",
       "    <tr>\n",
       "      <th>0</th>\n",
       "      <td>Finland</td>\n",
       "      <td>Western Europe</td>\n",
       "      <td>7.842</td>\n",
       "      <td>10.775</td>\n",
       "      <td>0.954</td>\n",
       "      <td>72.0</td>\n",
       "      <td>0.949</td>\n",
       "      <td>-0.098</td>\n",
       "      <td>0.186</td>\n",
       "      <td>27.1</td>\n",
       "      <td>43500.0</td>\n",
       "      <td>1.79</td>\n",
       "      <td>1.52</td>\n",
       "      <td>86.2</td>\n",
       "    </tr>\n",
       "    <tr>\n",
       "      <th>1</th>\n",
       "      <td>Denmark</td>\n",
       "      <td>Western Europe</td>\n",
       "      <td>7.620</td>\n",
       "      <td>10.933</td>\n",
       "      <td>0.954</td>\n",
       "      <td>72.7</td>\n",
       "      <td>0.946</td>\n",
       "      <td>0.030</td>\n",
       "      <td>0.179</td>\n",
       "      <td>28.2</td>\n",
       "      <td>49500.0</td>\n",
       "      <td>1.78</td>\n",
       "      <td>3.85</td>\n",
       "      <td>87.2</td>\n",
       "    </tr>\n",
       "    <tr>\n",
       "      <th>2</th>\n",
       "      <td>Switzerland</td>\n",
       "      <td>Western Europe</td>\n",
       "      <td>7.571</td>\n",
       "      <td>11.117</td>\n",
       "      <td>0.942</td>\n",
       "      <td>74.4</td>\n",
       "      <td>0.919</td>\n",
       "      <td>0.025</td>\n",
       "      <td>0.292</td>\n",
       "      <td>32.3</td>\n",
       "      <td>59300.0</td>\n",
       "      <td>1.56</td>\n",
       "      <td>3.81</td>\n",
       "      <td>90.9</td>\n",
       "    </tr>\n",
       "    <tr>\n",
       "      <th>3</th>\n",
       "      <td>Iceland</td>\n",
       "      <td>Western Europe</td>\n",
       "      <td>7.554</td>\n",
       "      <td>10.878</td>\n",
       "      <td>0.983</td>\n",
       "      <td>73.0</td>\n",
       "      <td>0.955</td>\n",
       "      <td>0.160</td>\n",
       "      <td>0.673</td>\n",
       "      <td>27.8</td>\n",
       "      <td>47800.0</td>\n",
       "      <td>1.89</td>\n",
       "      <td>1.85</td>\n",
       "      <td>90.9</td>\n",
       "    </tr>\n",
       "    <tr>\n",
       "      <th>4</th>\n",
       "      <td>Netherlands</td>\n",
       "      <td>Western Europe</td>\n",
       "      <td>7.464</td>\n",
       "      <td>10.932</td>\n",
       "      <td>0.942</td>\n",
       "      <td>72.4</td>\n",
       "      <td>0.913</td>\n",
       "      <td>0.175</td>\n",
       "      <td>0.338</td>\n",
       "      <td>28.2</td>\n",
       "      <td>51800.0</td>\n",
       "      <td>1.76</td>\n",
       "      <td>3.42</td>\n",
       "      <td>87.8</td>\n",
       "    </tr>\n",
       "  </tbody>\n",
       "</table>\n",
       "</div>"
      ],
      "text/plain": [
       "  Country name Regional indicator  Ladder score  Logged GDP per capita  \\\n",
       "0      Finland     Western Europe         7.842                 10.775   \n",
       "1      Denmark     Western Europe         7.620                 10.933   \n",
       "2  Switzerland     Western Europe         7.571                 11.117   \n",
       "3      Iceland     Western Europe         7.554                 10.878   \n",
       "4  Netherlands     Western Europe         7.464                 10.932   \n",
       "\n",
       "   Social support  Healthy life expectancy  Freedom to make life choices  \\\n",
       "0           0.954                     72.0                         0.949   \n",
       "1           0.954                     72.7                         0.946   \n",
       "2           0.942                     74.4                         0.919   \n",
       "3           0.983                     73.0                         0.955   \n",
       "4           0.942                     72.4                         0.913   \n",
       "\n",
       "   Generosity  Perceptions of corruption  gini  income_per_capita  fertility  \\\n",
       "0      -0.098                      0.186  27.1            43500.0       1.79   \n",
       "1       0.030                      0.179  28.2            49500.0       1.78   \n",
       "2       0.025                      0.292  32.3            59300.0       1.56   \n",
       "3       0.160                      0.673  27.8            47800.0       1.89   \n",
       "4       0.175                      0.338  28.2            51800.0       1.76   \n",
       "\n",
       "   child_mortality  labor_ppt_25-54  \n",
       "0             1.52             86.2  \n",
       "1             3.85             87.2  \n",
       "2             3.81             90.9  \n",
       "3             1.85             90.9  \n",
       "4             3.42             87.8  "
      ]
     },
     "execution_count": 9,
     "metadata": {},
     "output_type": "execute_result"
    }
   ],
   "source": [
    "# import data wrangled dataset from previous step.\n",
    "\n",
    "df = pd.read_csv('whr2021_clean_v5.csv')\n",
    "df.head()"
   ]
  },
  {
   "cell_type": "code",
   "execution_count": 75,
   "metadata": {},
   "outputs": [
    {
     "name": "stdout",
     "output_type": "stream",
     "text": [
      "<class 'pandas.core.frame.DataFrame'>\n",
      "RangeIndex: 140 entries, 0 to 139\n",
      "Data columns (total 14 columns):\n",
      " #   Column                        Non-Null Count  Dtype  \n",
      "---  ------                        --------------  -----  \n",
      " 0   Country name                  140 non-null    object \n",
      " 1   Regional indicator            140 non-null    object \n",
      " 2   Ladder score                  140 non-null    float64\n",
      " 3   Logged GDP per capita         140 non-null    float64\n",
      " 4   Social support                140 non-null    float64\n",
      " 5   Healthy life expectancy       140 non-null    float64\n",
      " 6   Freedom to make life choices  140 non-null    float64\n",
      " 7   Generosity                    140 non-null    float64\n",
      " 8   Perceptions of corruption     140 non-null    float64\n",
      " 9   gini                          140 non-null    float64\n",
      " 10  income_per_capita             140 non-null    float64\n",
      " 11  fertility                     140 non-null    float64\n",
      " 12  child_mortality               140 non-null    float64\n",
      " 13  labor_ppt_25-54               140 non-null    float64\n",
      "dtypes: float64(12), object(2)\n",
      "memory usage: 15.4+ KB\n"
     ]
    }
   ],
   "source": [
    "df.info()"
   ]
  },
  {
   "cell_type": "code",
   "execution_count": 10,
   "metadata": {},
   "outputs": [
    {
     "data": {
      "text/plain": [
       "array([[<AxesSubplot:title={'center':'Ladder score'}>,\n",
       "        <AxesSubplot:title={'center':'Logged GDP per capita'}>,\n",
       "        <AxesSubplot:title={'center':'Social support'}>],\n",
       "       [<AxesSubplot:title={'center':'Healthy life expectancy'}>,\n",
       "        <AxesSubplot:title={'center':'Freedom to make life choices'}>,\n",
       "        <AxesSubplot:title={'center':'Generosity'}>],\n",
       "       [<AxesSubplot:title={'center':'Perceptions of corruption'}>,\n",
       "        <AxesSubplot:title={'center':'gini'}>,\n",
       "        <AxesSubplot:title={'center':'income_per_capita'}>],\n",
       "       [<AxesSubplot:title={'center':'fertility'}>,\n",
       "        <AxesSubplot:title={'center':'child_mortality'}>,\n",
       "        <AxesSubplot:title={'center':'labor_ppt_25-54'}>]], dtype=object)"
      ]
     },
     "execution_count": 10,
     "metadata": {},
     "output_type": "execute_result"
    },
    {
     "data": {
      "image/png": "[encoded data removed]",
      "text/plain": [
       "<Figure size 1080x720 with 12 Axes>"
      ]
     },
     "metadata": {
      "needs_background": "light"
     },
     "output_type": "display_data"
    }
   ],
   "source": [
    "df.hist(figsize=(15,10), bins=20, histtype='step')"
   ]
  },
  {
   "cell_type": "markdown",
   "metadata": {},
   "source": [
    "## 4.4 Create Features <a id=4.4_create_features></a>"
   ]
  },
  {
   "cell_type": "markdown",
   "metadata": {},
   "source": [
    "### 4.4.1 Fix Negative Skew for Social Support <a id='4.4.1_nskew_social'><a/>"
   ]
  },
  {
   "cell_type": "markdown",
   "metadata": {},
   "source": [
    "I would first like to see if PowerTransformer can handle negatively skewed data."
   ]
  },
  {
   "cell_type": "code",
   "execution_count": 39,
   "metadata": {},
   "outputs": [
    {
     "data": {
      "text/plain": [
       "(array([ 8., 10., 14., 15., 20., 18., 16., 16., 21.,  2.]),\n",
       " array([-2.07251336, -1.66822585, -1.26393834, -0.85965083, -0.45536332,\n",
       "        -0.05107581,  0.3532117 ,  0.75749921,  1.16178672,  1.56607423,\n",
       "         1.97036174]),\n",
       " <BarContainer object of 10 artists>)"
      ]
     },
     "execution_count": 39,
     "metadata": {},
     "output_type": "execute_result"
    },
    {
     "data": {
      "image/png": "[encoded data removed]",
      "text/plain": [
       "<Figure size 432x288 with 1 Axes>"
      ]
     },
     "metadata": {
      "needs_background": "light"
     },
     "output_type": "display_data"
    }
   ],
   "source": [
    "powertransformer = PowerTransformer(standardize=True)\n",
    "\n",
    "negative_skew_test = powertransformer.fit_transform(df[['Social support']])\n",
    "plt.hist(negative_skew_test)\n"
   ]
  },
  {
   "cell_type": "code",
   "execution_count": 37,
   "metadata": {
    "scrolled": true
   },
   "outputs": [
    {
     "data": {
      "text/plain": [
       "array([[<AxesSubplot:title={'center':'Social support'}>,\n",
       "        <AxesSubplot:title={'center':'norm Social support'}>]],\n",
       "      dtype=object)"
      ]
     },
     "execution_count": 37,
     "metadata": {},
     "output_type": "execute_result"
    },
    {
     "data": {
      "image/png": "[encoded data removed]",
      "text/plain": [
       "<Figure size 432x288 with 2 Axes>"
      ]
     },
     "metadata": {
      "needs_background": "light"
     },
     "output_type": "display_data"
    }
   ],
   "source": [
    "social_support_df = pd.DataFrame(negative_skew_test, columns=['norm Social support'])\n",
    "\n",
    "pandas_df = df[['Social support']]\n",
    "\n",
    "test_df = pd.concat([pandas_df, social_support_df], axis=1)\n",
    "test_df.hist()"
   ]
  },
  {
   "cell_type": "markdown",
   "metadata": {},
   "source": [
    "Based on the graph between the raw Social Support data and normalized version, it appears we removed some skew. Now we need to test to see if we can do multiple features at once."
   ]
  },
  {
   "cell_type": "markdown",
   "metadata": {},
   "source": [
    "### 4.4.2 Fix Negative Skew for Healthy Life Expectancy <a id='4.4.2_nskew_health'><a/>"
   ]
  },
  {
   "cell_type": "code",
   "execution_count": 54,
   "metadata": {},
   "outputs": [
    {
     "data": {
      "text/plain": [
       "array([[<AxesSubplot:title={'center':'Social support'}>,\n",
       "        <AxesSubplot:title={'center':'Healthy life expectancy'}>]],\n",
       "      dtype=object)"
      ]
     },
     "execution_count": 54,
     "metadata": {},
     "output_type": "execute_result"
    },
    {
     "data": {
      "image/png": "[encoded data removed]",
      "text/plain": [
       "<Figure size 432x288 with 2 Axes>"
      ]
     },
     "metadata": {
      "needs_background": "light"
     },
     "output_type": "display_data"
    }
   ],
   "source": [
    "df_skew_test = df.loc[:, ['Social support', 'Healthy life expectancy']]\n",
    "\n",
    "powertransformer = PowerTransformer()\n",
    "\n",
    "norm_test = powertransformer.fit_transform(df_skew_test)\n",
    "\n",
    "df_norm_test = pd.DataFrame(norm_test, columns=df_skew_test.columns)\n",
    "df_norm_test.hist()"
   ]
  },
  {
   "cell_type": "markdown",
   "metadata": {},
   "source": [
    "Looks like we can use PowerTransform on the entire data set that we want to de-skew"
   ]
  },
  {
   "cell_type": "markdown",
   "metadata": {},
   "source": [
    "### 4.4.3 Fix Negative Skew for Freedom to Make Life Choices <a id='4.4.3_nskew_freedom'><a/>"
   ]
  },
  {
   "cell_type": "markdown",
   "metadata": {},
   "source": [
    "### 4.4.4 Fix Negative Skew for Perception of Corruption <a id='4.4.4_nskew_corruption'><a/>"
   ]
  },
  {
   "cell_type": "markdown",
   "metadata": {},
   "source": [
    "### 4.4.5 Fix Negative Skew for Labor Participation <a id='4.4.5_nskew_laborppt'><a/>"
   ]
  },
  {
   "cell_type": "markdown",
   "metadata": {},
   "source": [
    "### 4.4.6 Fix Positive Skew for Generosity <a id='4.4.6_pskew_generosity'><a/>"
   ]
  },
  {
   "cell_type": "markdown",
   "metadata": {},
   "source": [
    "### 4.4.7 Fix Positive Skew for Gini <a id='4.4.7_pskew_gini'><a/>"
   ]
  },
  {
   "cell_type": "markdown",
   "metadata": {},
   "source": [
    "### 4.4.8 Fix Positive Skew for Income Per Capita <a id='4.4.8_pskew_income'><a/>"
   ]
  },
  {
   "cell_type": "markdown",
   "metadata": {},
   "source": [
    "### 4.4.9 Fix Positive Skew for Fertility <a id='4.4.8_pskew_fertility'><a/>"
   ]
  },
  {
   "cell_type": "markdown",
   "metadata": {},
   "source": [
    "### 4.4.10 Fix Positive Skew for Child Mort <a id='4.4.10_pskew_childmort'><a/>"
   ]
  },
  {
   "cell_type": "code",
   "execution_count": 71,
   "metadata": {},
   "outputs": [
    {
     "name": "stdout",
     "output_type": "stream",
     "text": [
      "<class 'pandas.core.frame.DataFrame'>\n",
      "RangeIndex: 140 entries, 0 to 139\n",
      "Data columns (total 11 columns):\n",
      " #   Column                        Non-Null Count  Dtype  \n",
      "---  ------                        --------------  -----  \n",
      " 0   Logged GDP per capita         140 non-null    float64\n",
      " 1   Social support                140 non-null    float64\n",
      " 2   Healthy life expectancy       140 non-null    float64\n",
      " 3   Freedom to make life choices  140 non-null    float64\n",
      " 4   Generosity                    140 non-null    float64\n",
      " 5   Perceptions of corruption     140 non-null    float64\n",
      " 6   gini                          140 non-null    float64\n",
      " 7   income_per_capita             140 non-null    float64\n",
      " 8   fertility                     140 non-null    float64\n",
      " 9   child_mortality               140 non-null    float64\n",
      " 10  labor_ppt_25-54               140 non-null    float64\n",
      "dtypes: float64(11)\n",
      "memory usage: 12.2 KB\n"
     ]
    }
   ],
   "source": [
    "# select columns we want to fix skew by excluding the categorical variables and Ladder score since it is normal\n",
    "\n",
    "df_skewed = df.drop(['Country name', 'Regional indicator', 'Ladder score'], axis=1)\n",
    "\n",
    "df_skewed.info()"
   ]
  },
  {
   "cell_type": "code",
   "execution_count": 72,
   "metadata": {
    "scrolled": false
   },
   "outputs": [
    {
     "data": {
      "text/plain": [
       "array([[<AxesSubplot:title={'center':'norm_Logged GDP per capita'}>,\n",
       "        <AxesSubplot:title={'center':'norm_Social support'}>,\n",
       "        <AxesSubplot:title={'center':'norm_Healthy life expectancy'}>],\n",
       "       [<AxesSubplot:title={'center':'norm_Freedom to make life choices'}>,\n",
       "        <AxesSubplot:title={'center':'norm_Generosity'}>,\n",
       "        <AxesSubplot:title={'center':'norm_Perceptions of corruption'}>],\n",
       "       [<AxesSubplot:title={'center':'norm_gini'}>,\n",
       "        <AxesSubplot:title={'center':'norm_income_per_capita'}>,\n",
       "        <AxesSubplot:title={'center':'norm_fertility'}>],\n",
       "       [<AxesSubplot:title={'center':'norm_child_mortality'}>,\n",
       "        <AxesSubplot:title={'center':'norm_labor_ppt_25-54'}>,\n",
       "        <AxesSubplot:>]], dtype=object)"
      ]
     },
     "execution_count": 72,
     "metadata": {},
     "output_type": "execute_result"
    },
    {
     "data": {
      "image/png": "[encoded data removed]",
      "text/plain": [
       "<Figure size 1080x720 with 12 Axes>"
      ]
     },
     "metadata": {
      "needs_background": "light"
     },
     "output_type": "display_data"
    }
   ],
   "source": [
    "# Instantiate PowerTransformer and appky to skewed dataset\n",
    "\n",
    "powertransformer = PowerTransformer()\n",
    "df_unskewed = powertransformer.fit_transform(df_skewed)\n",
    "\n",
    "# create list of updated column names\n",
    "col_names = df_skewed.columns\n",
    "updated_cnames = ['norm_' + i for i in col_names]\n",
    "\n",
    "# create new df and plot histogram of all variables to see if there still is skew\n",
    "\n",
    "df_unskewed = pd.DataFrame(df_unskewed, columns=updated_cnames)\n",
    "df_unskewed.hist(figsize=(15,10), bins=20,histtype='step')"
   ]
  },
  {
   "cell_type": "code",
   "execution_count": 73,
   "metadata": {},
   "outputs": [
    {
     "data": {
      "text/html": [
       "<div>\n",
       "<style scoped>\n",
       "    .dataframe tbody tr th:only-of-type {\n",
       "        vertical-align: middle;\n",
       "    }\n",
       "\n",
       "    .dataframe tbody tr th {\n",
       "        vertical-align: top;\n",
       "    }\n",
       "\n",
       "    .dataframe thead th {\n",
       "        text-align: right;\n",
       "    }\n",
       "</style>\n",
       "<table border=\"1\" class=\"dataframe\">\n",
       "  <thead>\n",
       "    <tr style=\"text-align: right;\">\n",
       "      <th></th>\n",
       "      <th>norm_Logged GDP per capita</th>\n",
       "      <th>norm_Social support</th>\n",
       "      <th>norm_Healthy life expectancy</th>\n",
       "      <th>norm_Freedom to make life choices</th>\n",
       "      <th>norm_Generosity</th>\n",
       "      <th>norm_Perceptions of corruption</th>\n",
       "      <th>norm_gini</th>\n",
       "      <th>norm_income_per_capita</th>\n",
       "      <th>norm_fertility</th>\n",
       "      <th>norm_child_mortality</th>\n",
       "      <th>norm_labor_ppt_25-54</th>\n",
       "    </tr>\n",
       "  </thead>\n",
       "  <tbody>\n",
       "    <tr>\n",
       "      <th>0</th>\n",
       "      <td>1.226944</td>\n",
       "      <td>1.502062</td>\n",
       "      <td>1.128520</td>\n",
       "      <td>1.660708</td>\n",
       "      <td>-0.465277</td>\n",
       "      <td>-1.994367</td>\n",
       "      <td>-1.745908</td>\n",
       "      <td>1.187030</td>\n",
       "      <td>-0.585790</td>\n",
       "      <td>-1.818155</td>\n",
       "      <td>0.485035</td>\n",
       "    </tr>\n",
       "    <tr>\n",
       "      <th>1</th>\n",
       "      <td>1.394624</td>\n",
       "      <td>1.502062</td>\n",
       "      <td>1.271619</td>\n",
       "      <td>1.619109</td>\n",
       "      <td>0.491002</td>\n",
       "      <td>-1.999730</td>\n",
       "      <td>-1.505408</td>\n",
       "      <td>1.334289</td>\n",
       "      <td>-0.604059</td>\n",
       "      <td>-1.087653</td>\n",
       "      <td>0.631112</td>\n",
       "    </tr>\n",
       "    <tr>\n",
       "      <th>2</th>\n",
       "      <td>1.594036</td>\n",
       "      <td>1.320956</td>\n",
       "      <td>1.633058</td>\n",
       "      <td>1.258141</td>\n",
       "      <td>0.458837</td>\n",
       "      <td>-1.886295</td>\n",
       "      <td>-0.721361</td>\n",
       "      <td>1.546273</td>\n",
       "      <td>-1.054440</td>\n",
       "      <td>-1.096598</td>\n",
       "      <td>1.223485</td>\n",
       "    </tr>\n",
       "    <tr>\n",
       "      <th>3</th>\n",
       "      <td>1.335883</td>\n",
       "      <td>1.970362</td>\n",
       "      <td>1.333961</td>\n",
       "      <td>1.744819</td>\n",
       "      <td>1.210970</td>\n",
       "      <td>-0.678778</td>\n",
       "      <td>-1.591190</td>\n",
       "      <td>1.294106</td>\n",
       "      <td>-0.412187</td>\n",
       "      <td>-1.677188</td>\n",
       "      <td>1.223485</td>\n",
       "    </tr>\n",
       "    <tr>\n",
       "      <th>4</th>\n",
       "      <td>1.393552</td>\n",
       "      <td>1.320956</td>\n",
       "      <td>1.209887</td>\n",
       "      <td>1.181130</td>\n",
       "      <td>1.281711</td>\n",
       "      <td>-1.820015</td>\n",
       "      <td>-1.505408</td>\n",
       "      <td>1.386909</td>\n",
       "      <td>-0.641122</td>\n",
       "      <td>-1.188360</td>\n",
       "      <td>0.721541</td>\n",
       "    </tr>\n",
       "    <tr>\n",
       "      <th>...</th>\n",
       "      <td>...</td>\n",
       "      <td>...</td>\n",
       "      <td>...</td>\n",
       "      <td>...</td>\n",
       "      <td>...</td>\n",
       "      <td>...</td>\n",
       "      <td>...</td>\n",
       "      <td>...</td>\n",
       "      <td>...</td>\n",
       "      <td>...</td>\n",
       "      <td>...</td>\n",
       "    </tr>\n",
       "    <tr>\n",
       "      <th>135</th>\n",
       "      <td>-1.257183</td>\n",
       "      <td>-0.461257</td>\n",
       "      <td>-2.028874</td>\n",
       "      <td>-0.797280</td>\n",
       "      <td>-0.760441</td>\n",
       "      <td>1.569940</td>\n",
       "      <td>1.800345</td>\n",
       "      <td>-1.183403</td>\n",
       "      <td>0.699770</td>\n",
       "      <td>1.486730</td>\n",
       "      <td>0.042290</td>\n",
       "    </tr>\n",
       "    <tr>\n",
       "      <th>136</th>\n",
       "      <td>0.246982</td>\n",
       "      <td>-0.487102</td>\n",
       "      <td>-0.946056</td>\n",
       "      <td>0.165191</td>\n",
       "      <td>-1.964502</td>\n",
       "      <td>0.288201</td>\n",
       "      <td>2.251254</td>\n",
       "      <td>0.266674</td>\n",
       "      <td>0.395130</td>\n",
       "      <td>0.849260</td>\n",
       "      <td>0.767552</td>\n",
       "    </tr>\n",
       "    <tr>\n",
       "      <th>137</th>\n",
       "      <td>-1.428715</td>\n",
       "      <td>-1.813232</td>\n",
       "      <td>-0.663217</td>\n",
       "      <td>0.981283</td>\n",
       "      <td>0.682238</td>\n",
       "      <td>-2.008494</td>\n",
       "      <td>0.983866</td>\n",
       "      <td>-1.335933</td>\n",
       "      <td>1.112245</td>\n",
       "      <td>0.755348</td>\n",
       "      <td>2.023265</td>\n",
       "    </tr>\n",
       "    <tr>\n",
       "      <th>138</th>\n",
       "      <td>-1.245259</td>\n",
       "      <td>-0.761167</td>\n",
       "      <td>-1.312898</td>\n",
       "      <td>-1.071062</td>\n",
       "      <td>-0.049698</td>\n",
       "      <td>0.480493</td>\n",
       "      <td>0.780673</td>\n",
       "      <td>-1.319597</td>\n",
       "      <td>1.043754</td>\n",
       "      <td>1.029923</td>\n",
       "      <td>1.292651</td>\n",
       "    </tr>\n",
       "    <tr>\n",
       "      <th>139</th>\n",
       "      <td>-1.415929</td>\n",
       "      <td>-2.072513</td>\n",
       "      <td>-1.697093</td>\n",
       "      <td>-2.409099</td>\n",
       "      <td>-0.499929</td>\n",
       "      <td>1.692145</td>\n",
       "      <td>-0.018855</td>\n",
       "      <td>-1.490399</td>\n",
       "      <td>1.281469</td>\n",
       "      <td>1.272830</td>\n",
       "      <td>-1.746147</td>\n",
       "    </tr>\n",
       "  </tbody>\n",
       "</table>\n",
       "<p>140 rows × 11 columns</p>\n",
       "</div>"
      ],
      "text/plain": [
       "     norm_Logged GDP per capita  norm_Social support  \\\n",
       "0                      1.226944             1.502062   \n",
       "1                      1.394624             1.502062   \n",
       "2                      1.594036             1.320956   \n",
       "3                      1.335883             1.970362   \n",
       "4                      1.393552             1.320956   \n",
       "..                          ...                  ...   \n",
       "135                   -1.257183            -0.461257   \n",
       "136                    0.246982            -0.487102   \n",
       "137                   -1.428715            -1.813232   \n",
       "138                   -1.245259            -0.761167   \n",
       "139                   -1.415929            -2.072513   \n",
       "\n",
       "     norm_Healthy life expectancy  norm_Freedom to make life choices  \\\n",
       "0                        1.128520                           1.660708   \n",
       "1                        1.271619                           1.619109   \n",
       "2                        1.633058                           1.258141   \n",
       "3                        1.333961                           1.744819   \n",
       "4                        1.209887                           1.181130   \n",
       "..                            ...                                ...   \n",
       "135                     -2.028874                          -0.797280   \n",
       "136                     -0.946056                           0.165191   \n",
       "137                     -0.663217                           0.981283   \n",
       "138                     -1.312898                          -1.071062   \n",
       "139                     -1.697093                          -2.409099   \n",
       "\n",
       "     norm_Generosity  norm_Perceptions of corruption  norm_gini  \\\n",
       "0          -0.465277                       -1.994367  -1.745908   \n",
       "1           0.491002                       -1.999730  -1.505408   \n",
       "2           0.458837                       -1.886295  -0.721361   \n",
       "3           1.210970                       -0.678778  -1.591190   \n",
       "4           1.281711                       -1.820015  -1.505408   \n",
       "..               ...                             ...        ...   \n",
       "135        -0.760441                        1.569940   1.800345   \n",
       "136        -1.964502                        0.288201   2.251254   \n",
       "137         0.682238                       -2.008494   0.983866   \n",
       "138        -0.049698                        0.480493   0.780673   \n",
       "139        -0.499929                        1.692145  -0.018855   \n",
       "\n",
       "     norm_income_per_capita  norm_fertility  norm_child_mortality  \\\n",
       "0                  1.187030       -0.585790             -1.818155   \n",
       "1                  1.334289       -0.604059             -1.087653   \n",
       "2                  1.546273       -1.054440             -1.096598   \n",
       "3                  1.294106       -0.412187             -1.677188   \n",
       "4                  1.386909       -0.641122             -1.188360   \n",
       "..                      ...             ...                   ...   \n",
       "135               -1.183403        0.699770              1.486730   \n",
       "136                0.266674        0.395130              0.849260   \n",
       "137               -1.335933        1.112245              0.755348   \n",
       "138               -1.319597        1.043754              1.029923   \n",
       "139               -1.490399        1.281469              1.272830   \n",
       "\n",
       "     norm_labor_ppt_25-54  \n",
       "0                0.485035  \n",
       "1                0.631112  \n",
       "2                1.223485  \n",
       "3                1.223485  \n",
       "4                0.721541  \n",
       "..                    ...  \n",
       "135              0.042290  \n",
       "136              0.767552  \n",
       "137              2.023265  \n",
       "138              1.292651  \n",
       "139             -1.746147  \n",
       "\n",
       "[140 rows x 11 columns]"
      ]
     },
     "execution_count": 73,
     "metadata": {},
     "output_type": "execute_result"
    }
   ],
   "source": [
    "df_unskewed"
   ]
  },
  {
   "cell_type": "code",
   "execution_count": 74,
   "metadata": {},
   "outputs": [
    {
     "name": "stdout",
     "output_type": "stream",
     "text": [
      "<class 'pandas.core.frame.DataFrame'>\n",
      "RangeIndex: 140 entries, 0 to 139\n",
      "Data columns (total 14 columns):\n",
      " #   Column                             Non-Null Count  Dtype  \n",
      "---  ------                             --------------  -----  \n",
      " 0   Country name                       140 non-null    object \n",
      " 1   Regional indicator                 140 non-null    object \n",
      " 2   Ladder score                       140 non-null    float64\n",
      " 3   norm_Logged GDP per capita         140 non-null    float64\n",
      " 4   norm_Social support                140 non-null    float64\n",
      " 5   norm_Healthy life expectancy       140 non-null    float64\n",
      " 6   norm_Freedom to make life choices  140 non-null    float64\n",
      " 7   norm_Generosity                    140 non-null    float64\n",
      " 8   norm_Perceptions of corruption     140 non-null    float64\n",
      " 9   norm_gini                          140 non-null    float64\n",
      " 10  norm_income_per_capita             140 non-null    float64\n",
      " 11  norm_fertility                     140 non-null    float64\n",
      " 12  norm_child_mortality               140 non-null    float64\n",
      " 13  norm_labor_ppt_25-54               140 non-null    float64\n",
      "dtypes: float64(12), object(2)\n",
      "memory usage: 15.4+ KB\n"
     ]
    }
   ],
   "source": [
    "# merge unskewed data back with the three variables that was dropped off\n",
    "\n",
    "df_unskewed = pd.concat([df[['Country name', 'Regional indicator', 'Ladder score']], df_unskewed], axis=1)\n",
    "df_unskewed.info()"
   ]
  },
  {
   "cell_type": "markdown",
   "metadata": {},
   "source": [
    "### 4.4.11 Standardize Features <a id='4.4.11_standardize'><a/>"
   ]
  },
  {
   "cell_type": "markdown",
   "metadata": {},
   "source": [
    "Since PowerTransformer normalizes features with mean 0, we don't need to apply StandardScaler on the data set"
   ]
  },
  {
   "cell_type": "markdown",
   "metadata": {},
   "source": [
    "### 4.4.12 Create Dummy variables for Regional Indicator <a id='4.4.12_dummies'><a/>"
   ]
  },
  {
   "cell_type": "code",
   "execution_count": 76,
   "metadata": {},
   "outputs": [
    {
     "data": {
      "text/plain": [
       "Sub-Saharan Africa                    34\n",
       "Western Europe                        20\n",
       "Latin America and Caribbean           20\n",
       "Middle East and North Africa          17\n",
       "Central and Eastern Europe            15\n",
       "Commonwealth of Independent States    11\n",
       "Southeast Asia                         8\n",
       "South Asia                             7\n",
       "North America and ANZ                  4\n",
       "East Asia                              4\n",
       "Name: Regional indicator, dtype: int64"
      ]
     },
     "execution_count": 76,
     "metadata": {},
     "output_type": "execute_result"
    }
   ],
   "source": [
    "df_unskewed['Regional indicator'].value_counts()"
   ]
  },
  {
   "cell_type": "code",
   "execution_count": 90,
   "metadata": {},
   "outputs": [
    {
     "data": {
      "text/plain": [
       "Sub-Saharan Africa                    34\n",
       "Developed Western Countries           24\n",
       "Latin America and Caribbean           20\n",
       "Asia                                  19\n",
       "Middle East and North Africa          17\n",
       "Central and Eastern Europe            15\n",
       "Commonwealth of Independent States    11\n",
       "Name: Regional indicator, dtype: int64"
      ]
     },
     "execution_count": 90,
     "metadata": {},
     "output_type": "execute_result"
    }
   ],
   "source": [
    "# Map values to group Asian countries and to put North America with Western Europe as Developed Western Countries\n",
    "\n",
    "mapping = {'Southeast Asia': 'Asia', 'South Asia': 'Asia', 'East Asia':'Asia', 'Western Europe': 'Developed Western Countries', 'North America and ANZ':'Developed Western Countries'}\n",
    "df_unskewed.replace({'Regional indicator': mapping}, inplace=True)\n",
    "df_unskewed['Regional indicator'].value_counts()"
   ]
  },
  {
   "cell_type": "code",
   "execution_count": 92,
   "metadata": {},
   "outputs": [
    {
     "data": {
      "text/html": [
       "<div>\n",
       "<style scoped>\n",
       "    .dataframe tbody tr th:only-of-type {\n",
       "        vertical-align: middle;\n",
       "    }\n",
       "\n",
       "    .dataframe tbody tr th {\n",
       "        vertical-align: top;\n",
       "    }\n",
       "\n",
       "    .dataframe thead th {\n",
       "        text-align: right;\n",
       "    }\n",
       "</style>\n",
       "<table border=\"1\" class=\"dataframe\">\n",
       "  <thead>\n",
       "    <tr style=\"text-align: right;\">\n",
       "      <th></th>\n",
       "      <th>Asia</th>\n",
       "      <th>Central and Eastern Europe</th>\n",
       "      <th>Commonwealth of Independent States</th>\n",
       "      <th>Latin America and Caribbean</th>\n",
       "      <th>Middle East and North Africa</th>\n",
       "      <th>Sub-Saharan Africa</th>\n",
       "    </tr>\n",
       "  </thead>\n",
       "  <tbody>\n",
       "    <tr>\n",
       "      <th>0</th>\n",
       "      <td>0</td>\n",
       "      <td>0</td>\n",
       "      <td>0</td>\n",
       "      <td>0</td>\n",
       "      <td>0</td>\n",
       "      <td>0</td>\n",
       "    </tr>\n",
       "    <tr>\n",
       "      <th>1</th>\n",
       "      <td>0</td>\n",
       "      <td>0</td>\n",
       "      <td>0</td>\n",
       "      <td>0</td>\n",
       "      <td>0</td>\n",
       "      <td>0</td>\n",
       "    </tr>\n",
       "    <tr>\n",
       "      <th>2</th>\n",
       "      <td>0</td>\n",
       "      <td>0</td>\n",
       "      <td>0</td>\n",
       "      <td>0</td>\n",
       "      <td>0</td>\n",
       "      <td>0</td>\n",
       "    </tr>\n",
       "    <tr>\n",
       "      <th>3</th>\n",
       "      <td>0</td>\n",
       "      <td>0</td>\n",
       "      <td>0</td>\n",
       "      <td>0</td>\n",
       "      <td>0</td>\n",
       "      <td>0</td>\n",
       "    </tr>\n",
       "    <tr>\n",
       "      <th>4</th>\n",
       "      <td>0</td>\n",
       "      <td>0</td>\n",
       "      <td>0</td>\n",
       "      <td>0</td>\n",
       "      <td>0</td>\n",
       "      <td>0</td>\n",
       "    </tr>\n",
       "    <tr>\n",
       "      <th>...</th>\n",
       "      <td>...</td>\n",
       "      <td>...</td>\n",
       "      <td>...</td>\n",
       "      <td>...</td>\n",
       "      <td>...</td>\n",
       "      <td>...</td>\n",
       "    </tr>\n",
       "    <tr>\n",
       "      <th>135</th>\n",
       "      <td>0</td>\n",
       "      <td>0</td>\n",
       "      <td>0</td>\n",
       "      <td>0</td>\n",
       "      <td>0</td>\n",
       "      <td>1</td>\n",
       "    </tr>\n",
       "    <tr>\n",
       "      <th>136</th>\n",
       "      <td>0</td>\n",
       "      <td>0</td>\n",
       "      <td>0</td>\n",
       "      <td>0</td>\n",
       "      <td>0</td>\n",
       "      <td>1</td>\n",
       "    </tr>\n",
       "    <tr>\n",
       "      <th>137</th>\n",
       "      <td>0</td>\n",
       "      <td>0</td>\n",
       "      <td>0</td>\n",
       "      <td>0</td>\n",
       "      <td>0</td>\n",
       "      <td>1</td>\n",
       "    </tr>\n",
       "    <tr>\n",
       "      <th>138</th>\n",
       "      <td>0</td>\n",
       "      <td>0</td>\n",
       "      <td>0</td>\n",
       "      <td>0</td>\n",
       "      <td>0</td>\n",
       "      <td>1</td>\n",
       "    </tr>\n",
       "    <tr>\n",
       "      <th>139</th>\n",
       "      <td>1</td>\n",
       "      <td>0</td>\n",
       "      <td>0</td>\n",
       "      <td>0</td>\n",
       "      <td>0</td>\n",
       "      <td>0</td>\n",
       "    </tr>\n",
       "  </tbody>\n",
       "</table>\n",
       "<p>140 rows × 6 columns</p>\n",
       "</div>"
      ],
      "text/plain": [
       "     Asia  Central and Eastern Europe  Commonwealth of Independent States  \\\n",
       "0       0                           0                                   0   \n",
       "1       0                           0                                   0   \n",
       "2       0                           0                                   0   \n",
       "3       0                           0                                   0   \n",
       "4       0                           0                                   0   \n",
       "..    ...                         ...                                 ...   \n",
       "135     0                           0                                   0   \n",
       "136     0                           0                                   0   \n",
       "137     0                           0                                   0   \n",
       "138     0                           0                                   0   \n",
       "139     1                           0                                   0   \n",
       "\n",
       "     Latin America and Caribbean  Middle East and North Africa  \\\n",
       "0                              0                             0   \n",
       "1                              0                             0   \n",
       "2                              0                             0   \n",
       "3                              0                             0   \n",
       "4                              0                             0   \n",
       "..                           ...                           ...   \n",
       "135                            0                             0   \n",
       "136                            0                             0   \n",
       "137                            0                             0   \n",
       "138                            0                             0   \n",
       "139                            0                             0   \n",
       "\n",
       "     Sub-Saharan Africa  \n",
       "0                     0  \n",
       "1                     0  \n",
       "2                     0  \n",
       "3                     0  \n",
       "4                     0  \n",
       "..                  ...  \n",
       "135                   1  \n",
       "136                   1  \n",
       "137                   1  \n",
       "138                   1  \n",
       "139                   0  \n",
       "\n",
       "[140 rows x 6 columns]"
      ]
     },
     "execution_count": 92,
     "metadata": {},
     "output_type": "execute_result"
    }
   ],
   "source": [
    "# create dummy variables for Regional indicator\n",
    "\n",
    "dummy_df = pd.get_dummies(df_unskewed['Regional indicator'])\n",
    "\n",
    "# Drop Developed Western Countries so that the intercept of a regression will represent this category\n",
    "\n",
    "dummy_df = dummy_df.drop('Developed Western Countries', axis=1)\n",
    "dummy_df"
   ]
  },
  {
   "cell_type": "code",
   "execution_count": 93,
   "metadata": {
    "scrolled": true
   },
   "outputs": [
    {
     "name": "stdout",
     "output_type": "stream",
     "text": [
      "<class 'pandas.core.frame.DataFrame'>\n",
      "RangeIndex: 140 entries, 0 to 139\n",
      "Data columns (total 19 columns):\n",
      " #   Column                              Non-Null Count  Dtype  \n",
      "---  ------                              --------------  -----  \n",
      " 0   Country name                        140 non-null    object \n",
      " 1   Ladder score                        140 non-null    float64\n",
      " 2   norm_Logged GDP per capita          140 non-null    float64\n",
      " 3   norm_Social support                 140 non-null    float64\n",
      " 4   norm_Healthy life expectancy        140 non-null    float64\n",
      " 5   norm_Freedom to make life choices   140 non-null    float64\n",
      " 6   norm_Generosity                     140 non-null    float64\n",
      " 7   norm_Perceptions of corruption      140 non-null    float64\n",
      " 8   norm_gini                           140 non-null    float64\n",
      " 9   norm_income_per_capita              140 non-null    float64\n",
      " 10  norm_fertility                      140 non-null    float64\n",
      " 11  norm_child_mortality                140 non-null    float64\n",
      " 12  norm_labor_ppt_25-54                140 non-null    float64\n",
      " 13  Asia                                140 non-null    uint8  \n",
      " 14  Central and Eastern Europe          140 non-null    uint8  \n",
      " 15  Commonwealth of Independent States  140 non-null    uint8  \n",
      " 16  Latin America and Caribbean         140 non-null    uint8  \n",
      " 17  Middle East and North Africa        140 non-null    uint8  \n",
      " 18  Sub-Saharan Africa                  140 non-null    uint8  \n",
      "dtypes: float64(12), object(1), uint8(6)\n",
      "memory usage: 15.2+ KB\n"
     ]
    }
   ],
   "source": [
    "# Merge dummy variables with unskewed data\n",
    "\n",
    "df_final = pd.concat([df_unskewed, dummy_df], axis=1)\n",
    "df_final = df_final.drop('Regional indicator', axis=1)\n",
    "df_final.info()"
   ]
  },
  {
   "cell_type": "markdown",
   "metadata": {},
   "source": [
    "## 4.5 Split data into a training and test set  <a id='4.5_split'></a>"
   ]
  },
  {
   "cell_type": "code",
   "execution_count": 97,
   "metadata": {},
   "outputs": [
    {
     "data": {
      "text/plain": [
       "0      7.842\n",
       "1      7.620\n",
       "2      7.571\n",
       "3      7.554\n",
       "4      7.464\n",
       "       ...  \n",
       "135    3.512\n",
       "136    3.467\n",
       "137    3.415\n",
       "138    3.145\n",
       "139    2.523\n",
       "Name: Ladder score, Length: 140, dtype: float64"
      ]
     },
     "execution_count": 97,
     "metadata": {},
     "output_type": "execute_result"
    }
   ],
   "source": [
    "X = df_final.drop('Ladder score', axis=1)\n",
    "y = df_final['Ladder score']\n"
   ]
  },
  {
   "cell_type": "code",
   "execution_count": 98,
   "metadata": {},
   "outputs": [],
   "source": [
    "X_train, X_test, y_train, y_test = train_test_split(X, y, test_size=0.25,random_state = 97)"
   ]
  },
  {
   "cell_type": "markdown",
   "metadata": {},
   "source": [
    "## 4.6 Export Final Dataset  <a id='4.6_export'></a>"
   ]
  },
  {
   "cell_type": "code",
   "execution_count": 85,
   "metadata": {},
   "outputs": [],
   "source": [
    "# Export entire dataset\n",
    "\n",
    "df_final.to_csv(os.getcwd()+'/whr2021_final.csv',index=False)"
   ]
  },
  {
   "cell_type": "markdown",
   "metadata": {},
   "source": [
    "Instead of exporting the train and test data sets I will resplit using the same random state for the modelling section"
   ]
  },
  {
   "cell_type": "code",
   "execution_count": null,
   "metadata": {},
   "outputs": [],
   "source": []
  }
 ],
 "metadata": {
  "kernelspec": {
   "display_name": "Python 3",
   "language": "python",
   "name": "python3"
  },
  "language_info": {
   "codemirror_mode": {
    "name": "ipython",
    "version": 3
   },
   "file_extension": ".py",
   "mimetype": "text/x-python",
   "name": "python",
   "nbconvert_exporter": "python",
   "pygments_lexer": "ipython3",
   "version": "3.7.6"
  }
 },
 "nbformat": 4,
 "nbformat_minor": 4
}
