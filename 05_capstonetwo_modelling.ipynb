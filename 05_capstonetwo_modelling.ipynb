{
 "cells": [
  {
   "cell_type": "markdown",
   "metadata": {},
   "source": [
    "# 5. Modelling <a id='5_modelling'></a>"
   ]
  },
  {
   "cell_type": "markdown",
   "metadata": {},
   "source": [
    "## 5.1 Contents<a id='5.1_Contents'></a>\n",
    "\n",
    "* [5. Modelling](#5_modelling)\n",
    "    * [5.1 Contents](#5.1_Contents)\n",
    "    * [5.2 Introduction](#5.2_Introduction)\n",
    "    * [5.3 Data Description](#5.3_data_description)\n",
    "    * [5.4 Import](#5.4_import)\n",
    "        * [5.4.1 Package Imports](#5.4.1_packages)\n",
    "        * [5.4.2 Import Data](#5.4.2_data)\n",
    "    * [5.5 Linear Regression](#5.5_linear_regression)\n",
    "        * [5.5.1 Linear Regression with all variables](#5.5.1_lr_all)\n",
    "        * [5.5.2 Linear Regression with significant variables](#5.5.2_lr_sig)\n",
    "        * [5.5.3 Linear Regression with significant variables and regional indicators](#5.5.3_lr_sig2)\n",
    "        * [5.5.4 Linear Regression with all variables and cross validation](#5.5.4_lr_cv)\n",
    "        * [5.5.5 Linear Regression with significant variables and regional indicators and cross validation](#5.5.5_lr_cv)\n",
    "        * [5.5.6 Linear Regression with significant variables and cross validation](#5.5.6_lr_cv)\n",
    "        * [5.5.7 Lasso Linear Regression with all variables and GridSearchCV](#5.5.7_lrlasso_cv)\n",
    "    * [5.6 Conclusions](#5.6_conclusions)    \n",
    "    * [5.7 Resources Used](#5.7_resources)\n",
    "    \n",
    "    "
   ]
  },
  {
   "cell_type": "markdown",
   "metadata": {},
   "source": [
    "## 5.2 Introduction  <a id='5.2_Introduction'></a>"
   ]
  },
  {
   "cell_type": "markdown",
   "metadata": {},
   "source": [
    "**Goal: Build two to three different models and identify the best one.**\n",
    "1. Fit your models with a training dataset\n",
    "2. Review model outcomes — Iterate over additional models as needed\n",
    "3. Identify the final model that you think is the best model for this project\n"
   ]
  },
  {
   "cell_type": "markdown",
   "metadata": {},
   "source": [
    "## 5.3 Data Description  <a id='5.3_data_description'></a>"
   ]
  },
  {
   "cell_type": "markdown",
   "metadata": {},
   "source": [
    "**Ladder score:** Happiness score or subjective well-being (variable name ladder): The survey measure of SWB is from the Feb 26, 2021 release of the Gallup World Poll (GWP) covering years from 2005 to 2020. Unless stated otherwise, it is the na- tional average response to the question of life evaluations. The English wording of the question is “Please imagine a ladder, with steps numbered from 0 at the bottom to 10 at the top. The top of the ladder represents the best possible life for you and the bottom of the ladder represents the worst possible life for you. On which step of the ladder would you say you personally feel you stand at this time?” This measure is also referred to as Cantril life ladder, or just life ladder in our analysis.\n",
    "\n",
    "**Logged GDP per capita:** The statistics of GDP per capita (variable name gdp) in purchasing power parity (PPP) at constant 2017 international dollar prices are from the October 14, 2020 update of the World Development Indicators (WDI). The GDP figures for Taiwan, Syria, Palestine, Venezuela, Djibouti and Ymen are from the Penn World Table 9.1.\n",
    "   * – GDP per capita in 2020 are not yet available as of December 2020. We extend the GDP-per-capita time series from 2019 to 2020 using country- specific forecasts of real GDP growth in 2020 first from the OECD Eco- nomic Outlook No 108 (December 2020) and then, if missing, forecasts from World Bank’s Global Economic Prospects (Last Updated: 06/08/2020). The GDP growth forecasts are adjusted for population growth with the subtraction of 2018-19 population growth as the projected 2019-20 growth.\n",
    "\n",
    "**Social support:** Socialsupport(orhavingsomeonetocountonintimesoftrouble)isthenational average of the binary responses (either 0 or 1) to the GWP question “If you were in trouble, do you have relatives or friends you can count on to help you whenever you need them, or not?”\n",
    "\n",
    "**Healthy life expectancy:** Healthy Life Expectancy (HLE). Healthy life expectancies at birth are based on the data extracted from the World Health Organization’s (WHO) Global Health Observatory data repository (Last updated: 2020-09-28). The data at the source are available for the years 2000, 2005, 2010, 2015 and 2016. To match this report’s sample period (2005-2020), interpolation and extrapolation are used.\n",
    "\n",
    "**Freedom to make life choices:** Freedom to make life choices is the national average of responses to the GWP question “Are you satisfied or dissatisfied with your freedom to choose what you do with your life?”\n",
    "\n",
    "**Generosity:** Generosity is the residual of regressing national average of response to the GWP question “Have you donated money to a charity in the past month?” on GDP per capita.\n",
    "\n",
    "**Perceptions of corruption:** Corruption Perception: The measure is the national average of the survey re- sponses to two questions in the GWP: “Is corruption widespread throughout the government or not” and “Is corruption widespread within businesses or not?” The overall perception is just the average of the two 0-or-1 responses. In case the perception of government corruption is missing, we use the perception of business corruption as the overall perception. The corruption perception at the national level is just the average response of the overall perception at the individual level.\n",
    "\n",
    "\n",
    "**gini:** description:Gini shows income inequality in a society. A higher number means more inequality.\n",
    "source_url:http://gapm.io/ddgini\n",
    "\n",
    "**income_per_capita:** description:Gross domestic product per person adjusted for differences in purchasing power (in international dollars, fixed 2011 prices, PPP based on 2011 ICP).\n",
    "source:Gapminder based on World Bank, A. Maddison, M. Lindgren, IMF & more.\n",
    "source_url:http://gapm.io/dgdppc\n",
    "\n",
    "**fertility:** description:Total fertility rate. The number of children that would be born to each woman with prevailing age-specific fertility rates.\n",
    "source_url:http://gapm.io/dtfr\n",
    "\n",
    "**child_mortality:** description:Death of children under five years of age per 1,000 live births\n",
    "source_url:http://gapm.io/du5mr\n",
    "\n",
    "**labor_ppt_25-54:** description:For age group 25-54, percentage of all labour to total population.\n",
    "source_url:https://www.ilo.org/ilostat/\n",
    "\n",
    "\n"
   ]
  },
  {
   "cell_type": "markdown",
   "metadata": {},
   "source": [
    "## 5.4 Import <a id='5.4_import'></a>"
   ]
  },
  {
   "cell_type": "markdown",
   "metadata": {},
   "source": [
    "### 5.4.1 Import packages <a id='5.4.1_packages'></a>"
   ]
  },
  {
   "cell_type": "code",
   "execution_count": 147,
   "metadata": {},
   "outputs": [],
   "source": [
    "import pandas as pd\n",
    "import numpy as np\n",
    "import matplotlib.pyplot as plt\n",
    "import seaborn as sns\n",
    "import os\n",
    "import statsmodels.api as sm \n",
    "from statsmodels.graphics.api import abline_plot \n",
    "from sklearn.metrics import mean_squared_error, r2_score\n",
    "from sklearn.model_selection import train_test_split\n",
    "from sklearn import linear_model, preprocessing\n",
    "from sklearn.metrics import mean_absolute_error\n",
    "from sklearn.metrics import mean_squared_error\n",
    "from sklearn.model_selection import cross_val_score\n",
    "from sklearn.model_selection import GridSearchCV\n",
    "import sklearn\n"
   ]
  },
  {
   "cell_type": "markdown",
   "metadata": {},
   "source": [
    "### 5.4.2 Import Data <a id='5.4.2_data'></a>"
   ]
  },
  {
   "cell_type": "code",
   "execution_count": 29,
   "metadata": {},
   "outputs": [],
   "source": [
    "df = pd.read_csv('whr2021_final.csv')"
   ]
  },
  {
   "cell_type": "code",
   "execution_count": 30,
   "metadata": {},
   "outputs": [
    {
     "data": {
      "text/html": [
       "<div>\n",
       "<style scoped>\n",
       "    .dataframe tbody tr th:only-of-type {\n",
       "        vertical-align: middle;\n",
       "    }\n",
       "\n",
       "    .dataframe tbody tr th {\n",
       "        vertical-align: top;\n",
       "    }\n",
       "\n",
       "    .dataframe thead th {\n",
       "        text-align: right;\n",
       "    }\n",
       "</style>\n",
       "<table border=\"1\" class=\"dataframe\">\n",
       "  <thead>\n",
       "    <tr style=\"text-align: right;\">\n",
       "      <th></th>\n",
       "      <th>Country name</th>\n",
       "      <th>Ladder score</th>\n",
       "      <th>norm_Logged GDP per capita</th>\n",
       "      <th>norm_Social support</th>\n",
       "      <th>norm_Healthy life expectancy</th>\n",
       "      <th>norm_Freedom to make life choices</th>\n",
       "      <th>norm_Generosity</th>\n",
       "      <th>norm_Perceptions of corruption</th>\n",
       "      <th>norm_gini</th>\n",
       "      <th>norm_income_per_capita</th>\n",
       "      <th>norm_fertility</th>\n",
       "      <th>norm_child_mortality</th>\n",
       "      <th>norm_labor_ppt_25-54</th>\n",
       "      <th>Asia</th>\n",
       "      <th>Central and Eastern Europe</th>\n",
       "      <th>Commonwealth of Independent States</th>\n",
       "      <th>Latin America and Caribbean</th>\n",
       "      <th>Middle East and North Africa</th>\n",
       "      <th>Sub-Saharan Africa</th>\n",
       "    </tr>\n",
       "  </thead>\n",
       "  <tbody>\n",
       "    <tr>\n",
       "      <th>0</th>\n",
       "      <td>Finland</td>\n",
       "      <td>7.842</td>\n",
       "      <td>1.226944</td>\n",
       "      <td>1.502062</td>\n",
       "      <td>1.128520</td>\n",
       "      <td>1.660708</td>\n",
       "      <td>-0.465277</td>\n",
       "      <td>-1.994367</td>\n",
       "      <td>-1.745908</td>\n",
       "      <td>1.187030</td>\n",
       "      <td>-0.585790</td>\n",
       "      <td>-1.818155</td>\n",
       "      <td>0.485035</td>\n",
       "      <td>0</td>\n",
       "      <td>0</td>\n",
       "      <td>0</td>\n",
       "      <td>0</td>\n",
       "      <td>0</td>\n",
       "      <td>0</td>\n",
       "    </tr>\n",
       "    <tr>\n",
       "      <th>1</th>\n",
       "      <td>Denmark</td>\n",
       "      <td>7.620</td>\n",
       "      <td>1.394624</td>\n",
       "      <td>1.502062</td>\n",
       "      <td>1.271619</td>\n",
       "      <td>1.619109</td>\n",
       "      <td>0.491002</td>\n",
       "      <td>-1.999730</td>\n",
       "      <td>-1.505408</td>\n",
       "      <td>1.334289</td>\n",
       "      <td>-0.604059</td>\n",
       "      <td>-1.087653</td>\n",
       "      <td>0.631112</td>\n",
       "      <td>0</td>\n",
       "      <td>0</td>\n",
       "      <td>0</td>\n",
       "      <td>0</td>\n",
       "      <td>0</td>\n",
       "      <td>0</td>\n",
       "    </tr>\n",
       "    <tr>\n",
       "      <th>2</th>\n",
       "      <td>Switzerland</td>\n",
       "      <td>7.571</td>\n",
       "      <td>1.594036</td>\n",
       "      <td>1.320956</td>\n",
       "      <td>1.633058</td>\n",
       "      <td>1.258141</td>\n",
       "      <td>0.458837</td>\n",
       "      <td>-1.886295</td>\n",
       "      <td>-0.721361</td>\n",
       "      <td>1.546273</td>\n",
       "      <td>-1.054440</td>\n",
       "      <td>-1.096598</td>\n",
       "      <td>1.223485</td>\n",
       "      <td>0</td>\n",
       "      <td>0</td>\n",
       "      <td>0</td>\n",
       "      <td>0</td>\n",
       "      <td>0</td>\n",
       "      <td>0</td>\n",
       "    </tr>\n",
       "    <tr>\n",
       "      <th>3</th>\n",
       "      <td>Iceland</td>\n",
       "      <td>7.554</td>\n",
       "      <td>1.335883</td>\n",
       "      <td>1.970362</td>\n",
       "      <td>1.333961</td>\n",
       "      <td>1.744819</td>\n",
       "      <td>1.210970</td>\n",
       "      <td>-0.678778</td>\n",
       "      <td>-1.591190</td>\n",
       "      <td>1.294106</td>\n",
       "      <td>-0.412187</td>\n",
       "      <td>-1.677188</td>\n",
       "      <td>1.223485</td>\n",
       "      <td>0</td>\n",
       "      <td>0</td>\n",
       "      <td>0</td>\n",
       "      <td>0</td>\n",
       "      <td>0</td>\n",
       "      <td>0</td>\n",
       "    </tr>\n",
       "    <tr>\n",
       "      <th>4</th>\n",
       "      <td>Netherlands</td>\n",
       "      <td>7.464</td>\n",
       "      <td>1.393552</td>\n",
       "      <td>1.320956</td>\n",
       "      <td>1.209887</td>\n",
       "      <td>1.181130</td>\n",
       "      <td>1.281711</td>\n",
       "      <td>-1.820015</td>\n",
       "      <td>-1.505408</td>\n",
       "      <td>1.386909</td>\n",
       "      <td>-0.641122</td>\n",
       "      <td>-1.188360</td>\n",
       "      <td>0.721541</td>\n",
       "      <td>0</td>\n",
       "      <td>0</td>\n",
       "      <td>0</td>\n",
       "      <td>0</td>\n",
       "      <td>0</td>\n",
       "      <td>0</td>\n",
       "    </tr>\n",
       "  </tbody>\n",
       "</table>\n",
       "</div>"
      ],
      "text/plain": [
       "  Country name  Ladder score  norm_Logged GDP per capita  norm_Social support  \\\n",
       "0      Finland         7.842                    1.226944             1.502062   \n",
       "1      Denmark         7.620                    1.394624             1.502062   \n",
       "2  Switzerland         7.571                    1.594036             1.320956   \n",
       "3      Iceland         7.554                    1.335883             1.970362   \n",
       "4  Netherlands         7.464                    1.393552             1.320956   \n",
       "\n",
       "   norm_Healthy life expectancy  norm_Freedom to make life choices  \\\n",
       "0                      1.128520                           1.660708   \n",
       "1                      1.271619                           1.619109   \n",
       "2                      1.633058                           1.258141   \n",
       "3                      1.333961                           1.744819   \n",
       "4                      1.209887                           1.181130   \n",
       "\n",
       "   norm_Generosity  norm_Perceptions of corruption  norm_gini  \\\n",
       "0        -0.465277                       -1.994367  -1.745908   \n",
       "1         0.491002                       -1.999730  -1.505408   \n",
       "2         0.458837                       -1.886295  -0.721361   \n",
       "3         1.210970                       -0.678778  -1.591190   \n",
       "4         1.281711                       -1.820015  -1.505408   \n",
       "\n",
       "   norm_income_per_capita  norm_fertility  norm_child_mortality  \\\n",
       "0                1.187030       -0.585790             -1.818155   \n",
       "1                1.334289       -0.604059             -1.087653   \n",
       "2                1.546273       -1.054440             -1.096598   \n",
       "3                1.294106       -0.412187             -1.677188   \n",
       "4                1.386909       -0.641122             -1.188360   \n",
       "\n",
       "   norm_labor_ppt_25-54  Asia  Central and Eastern Europe  \\\n",
       "0              0.485035     0                           0   \n",
       "1              0.631112     0                           0   \n",
       "2              1.223485     0                           0   \n",
       "3              1.223485     0                           0   \n",
       "4              0.721541     0                           0   \n",
       "\n",
       "   Commonwealth of Independent States  Latin America and Caribbean  \\\n",
       "0                                   0                            0   \n",
       "1                                   0                            0   \n",
       "2                                   0                            0   \n",
       "3                                   0                            0   \n",
       "4                                   0                            0   \n",
       "\n",
       "   Middle East and North Africa  Sub-Saharan Africa  \n",
       "0                             0                   0  \n",
       "1                             0                   0  \n",
       "2                             0                   0  \n",
       "3                             0                   0  \n",
       "4                             0                   0  "
      ]
     },
     "execution_count": 30,
     "metadata": {},
     "output_type": "execute_result"
    }
   ],
   "source": [
    "df.head()"
   ]
  },
  {
   "cell_type": "code",
   "execution_count": 31,
   "metadata": {
    "scrolled": false
   },
   "outputs": [
    {
     "name": "stdout",
     "output_type": "stream",
     "text": [
      "<class 'pandas.core.frame.DataFrame'>\n",
      "RangeIndex: 140 entries, 0 to 139\n",
      "Data columns (total 19 columns):\n",
      " #   Column                              Non-Null Count  Dtype  \n",
      "---  ------                              --------------  -----  \n",
      " 0   Country name                        140 non-null    object \n",
      " 1   Ladder score                        140 non-null    float64\n",
      " 2   norm_Logged GDP per capita          140 non-null    float64\n",
      " 3   norm_Social support                 140 non-null    float64\n",
      " 4   norm_Healthy life expectancy        140 non-null    float64\n",
      " 5   norm_Freedom to make life choices   140 non-null    float64\n",
      " 6   norm_Generosity                     140 non-null    float64\n",
      " 7   norm_Perceptions of corruption      140 non-null    float64\n",
      " 8   norm_gini                           140 non-null    float64\n",
      " 9   norm_income_per_capita              140 non-null    float64\n",
      " 10  norm_fertility                      140 non-null    float64\n",
      " 11  norm_child_mortality                140 non-null    float64\n",
      " 12  norm_labor_ppt_25-54                140 non-null    float64\n",
      " 13  Asia                                140 non-null    int64  \n",
      " 14  Central and Eastern Europe          140 non-null    int64  \n",
      " 15  Commonwealth of Independent States  140 non-null    int64  \n",
      " 16  Latin America and Caribbean         140 non-null    int64  \n",
      " 17  Middle East and North Africa        140 non-null    int64  \n",
      " 18  Sub-Saharan Africa                  140 non-null    int64  \n",
      "dtypes: float64(12), int64(6), object(1)\n",
      "memory usage: 20.9+ KB\n"
     ]
    }
   ],
   "source": [
    "df.info()"
   ]
  },
  {
   "cell_type": "code",
   "execution_count": 32,
   "metadata": {},
   "outputs": [],
   "source": [
    "X = df.drop(['Ladder score', 'Country name'], axis=1)\n",
    "y = df['Ladder score']"
   ]
  },
  {
   "cell_type": "code",
   "execution_count": 33,
   "metadata": {},
   "outputs": [
    {
     "data": {
      "text/plain": [
       "((105, 17), (35, 17), (105,), (35,))"
      ]
     },
     "execution_count": 33,
     "metadata": {},
     "output_type": "execute_result"
    }
   ],
   "source": [
    "# Split data into training and test set\n",
    "\n",
    "X_train, X_test, y_train, y_test = train_test_split(X, y, test_size=0.25,random_state = 97)\n",
    "X_train.shape, X_test.shape, y_train.shape, y_test.shape"
   ]
  },
  {
   "cell_type": "markdown",
   "metadata": {},
   "source": [
    "## 5.5 Linear Regression <a id='5.5_linear_regression'></a>"
   ]
  },
  {
   "cell_type": "markdown",
   "metadata": {},
   "source": [
    "### 5.5.1 Linear Regression with all variables <a id='5.5.1_lr_all'></a>"
   ]
  },
  {
   "cell_type": "markdown",
   "metadata": {},
   "source": [
    "Lets start by fitting all data points into a Linear Regression model to start."
   ]
  },
  {
   "cell_type": "code",
   "execution_count": 34,
   "metadata": {},
   "outputs": [
    {
     "data": {
      "text/plain": [
       "0.8420370499983484"
      ]
     },
     "execution_count": 34,
     "metadata": {},
     "output_type": "execute_result"
    }
   ],
   "source": [
    "rModel = linear_model.LinearRegression()\n",
    "train_model = rModel.fit(X_train, y_train)\n",
    "train_model.score(X_train, y_train)"
   ]
  },
  {
   "cell_type": "markdown",
   "metadata": {},
   "source": [
    "R_squared is 0.844 for this model."
   ]
  },
  {
   "cell_type": "code",
   "execution_count": 35,
   "metadata": {},
   "outputs": [
    {
     "data": {
      "text/plain": [
       "<matplotlib.collections.PathCollection at 0x7ffb8a21ac50>"
      ]
     },
     "execution_count": 35,
     "metadata": {},
     "output_type": "execute_result"
    },
    {
     "data": {
      "image/png": "[encoded data removed]",
      "text/plain": [
       "<Figure size 432x288 with 1 Axes>"
      ]
     },
     "metadata": {
      "needs_background": "light"
     },
     "output_type": "display_data"
    }
   ],
   "source": [
    "# Use the model to make predictions about our test data and plot results\n",
    "y_predict_lr = train_model.predict(X_test)\n",
    "\n",
    "plt.scatter(y_test, y_predict_lr)"
   ]
  },
  {
   "cell_type": "code",
   "execution_count": 52,
   "metadata": {
    "scrolled": true
   },
   "outputs": [
    {
     "name": "stdout",
     "output_type": "stream",
     "text": [
      "Mean Absolute Error:  0.4042177048915764\n",
      "Mean Squared Error:  0.30464184688332613\n",
      "Root Mean Squared Error:  0.5519436990158744\n"
     ]
    }
   ],
   "source": [
    "# Print results of the prediction\n",
    "\n",
    "print('Mean Absolute Error: ', mean_absolute_error(y_test,y_predict_lr ))\n",
    "print('Mean Squared Error: ', mean_squared_error(y_test, y_predict_lr))\n",
    "print('Root Mean Squared Error: ', np.sqrt(mean_squared_error(y_test, y_predict_lr)))"
   ]
  },
  {
   "cell_type": "code",
   "execution_count": 94,
   "metadata": {},
   "outputs": [],
   "source": [
    "lr1_all_metrics = [mean_absolute_error(y_test,y_predict_lr ), mean_squared_error(y_test, y_predict_lr), np.sqrt(mean_squared_error(y_test, y_predict_lr))]"
   ]
  },
  {
   "cell_type": "code",
   "execution_count": 100,
   "metadata": {},
   "outputs": [
    {
     "data": {
      "text/html": [
       "<div>\n",
       "<style scoped>\n",
       "    .dataframe tbody tr th:only-of-type {\n",
       "        vertical-align: middle;\n",
       "    }\n",
       "\n",
       "    .dataframe tbody tr th {\n",
       "        vertical-align: top;\n",
       "    }\n",
       "\n",
       "    .dataframe thead th {\n",
       "        text-align: right;\n",
       "    }\n",
       "</style>\n",
       "<table border=\"1\" class=\"dataframe\">\n",
       "  <thead>\n",
       "    <tr style=\"text-align: right;\">\n",
       "      <th></th>\n",
       "      <th>Mean Absolute Error</th>\n",
       "      <th>Mean Squared Error</th>\n",
       "      <th>Root Mean Squared Error</th>\n",
       "    </tr>\n",
       "    <tr>\n",
       "      <th>index</th>\n",
       "      <th></th>\n",
       "      <th></th>\n",
       "      <th></th>\n",
       "    </tr>\n",
       "  </thead>\n",
       "  <tbody>\n",
       "    <tr>\n",
       "      <th>linear regression all vars</th>\n",
       "      <td>0.404218</td>\n",
       "      <td>0.304642</td>\n",
       "      <td>0.551944</td>\n",
       "    </tr>\n",
       "  </tbody>\n",
       "</table>\n",
       "</div>"
      ],
      "text/plain": [
       "                            Mean Absolute Error  Mean Squared Error  \\\n",
       "index                                                                 \n",
       "linear regression all vars             0.404218            0.304642   \n",
       "\n",
       "                            Root Mean Squared Error  \n",
       "index                                                \n",
       "linear regression all vars                 0.551944  "
      ]
     },
     "execution_count": 100,
     "metadata": {},
     "output_type": "execute_result"
    }
   ],
   "source": [
    "df_metrics = pd.DataFrame(lr1_all_metrics).T\n",
    "df_metrics['index'] = 'linear regression all vars'\n",
    "\n",
    "df_metrics.set_index('index', inplace=True)\n",
    "df_metrics.columns = ['Mean Absolute Error', 'Mean Squared Error', 'Root Mean Squared Error']\n",
    "df_metrics"
   ]
  },
  {
   "cell_type": "code",
   "execution_count": 36,
   "metadata": {},
   "outputs": [
    {
     "data": {
      "text/plain": [
       "array([ 1.24728231,  0.22081092,  0.1019702 ,  0.2087213 ,  0.07410764,\n",
       "       -0.05118137, -0.17197221, -0.85281853,  0.15076864, -0.09785776,\n",
       "       -0.05937429, -0.45801104, -0.24527735, -0.5463111 ,  0.27509028,\n",
       "       -0.66453753, -0.28264711])"
      ]
     },
     "execution_count": 36,
     "metadata": {},
     "output_type": "execute_result"
    }
   ],
   "source": [
    "train_model.coef_"
   ]
  },
  {
   "cell_type": "code",
   "execution_count": 37,
   "metadata": {},
   "outputs": [
    {
     "data": {
      "text/html": [
       "<div>\n",
       "<style scoped>\n",
       "    .dataframe tbody tr th:only-of-type {\n",
       "        vertical-align: middle;\n",
       "    }\n",
       "\n",
       "    .dataframe tbody tr th {\n",
       "        vertical-align: top;\n",
       "    }\n",
       "\n",
       "    .dataframe thead th {\n",
       "        text-align: right;\n",
       "    }\n",
       "</style>\n",
       "<table border=\"1\" class=\"dataframe\">\n",
       "  <thead>\n",
       "    <tr style=\"text-align: right;\">\n",
       "      <th></th>\n",
       "      <th>coefficients</th>\n",
       "    </tr>\n",
       "  </thead>\n",
       "  <tbody>\n",
       "    <tr>\n",
       "      <th>norm_Logged GDP per capita</th>\n",
       "      <td>1.247282</td>\n",
       "    </tr>\n",
       "    <tr>\n",
       "      <th>norm_Social support</th>\n",
       "      <td>0.220811</td>\n",
       "    </tr>\n",
       "    <tr>\n",
       "      <th>norm_Healthy life expectancy</th>\n",
       "      <td>0.101970</td>\n",
       "    </tr>\n",
       "    <tr>\n",
       "      <th>norm_Freedom to make life choices</th>\n",
       "      <td>0.208721</td>\n",
       "    </tr>\n",
       "    <tr>\n",
       "      <th>norm_Generosity</th>\n",
       "      <td>0.074108</td>\n",
       "    </tr>\n",
       "    <tr>\n",
       "      <th>norm_Perceptions of corruption</th>\n",
       "      <td>-0.051181</td>\n",
       "    </tr>\n",
       "    <tr>\n",
       "      <th>norm_gini</th>\n",
       "      <td>-0.171972</td>\n",
       "    </tr>\n",
       "    <tr>\n",
       "      <th>norm_income_per_capita</th>\n",
       "      <td>-0.852819</td>\n",
       "    </tr>\n",
       "    <tr>\n",
       "      <th>norm_fertility</th>\n",
       "      <td>0.150769</td>\n",
       "    </tr>\n",
       "    <tr>\n",
       "      <th>norm_child_mortality</th>\n",
       "      <td>-0.097858</td>\n",
       "    </tr>\n",
       "    <tr>\n",
       "      <th>norm_labor_ppt_25-54</th>\n",
       "      <td>-0.059374</td>\n",
       "    </tr>\n",
       "    <tr>\n",
       "      <th>Asia</th>\n",
       "      <td>-0.458011</td>\n",
       "    </tr>\n",
       "    <tr>\n",
       "      <th>Central and Eastern Europe</th>\n",
       "      <td>-0.245277</td>\n",
       "    </tr>\n",
       "    <tr>\n",
       "      <th>Commonwealth of Independent States</th>\n",
       "      <td>-0.546311</td>\n",
       "    </tr>\n",
       "    <tr>\n",
       "      <th>Latin America and Caribbean</th>\n",
       "      <td>0.275090</td>\n",
       "    </tr>\n",
       "    <tr>\n",
       "      <th>Middle East and North Africa</th>\n",
       "      <td>-0.664538</td>\n",
       "    </tr>\n",
       "    <tr>\n",
       "      <th>Sub-Saharan Africa</th>\n",
       "      <td>-0.282647</td>\n",
       "    </tr>\n",
       "  </tbody>\n",
       "</table>\n",
       "</div>"
      ],
      "text/plain": [
       "                                    coefficients\n",
       "norm_Logged GDP per capita              1.247282\n",
       "norm_Social support                     0.220811\n",
       "norm_Healthy life expectancy            0.101970\n",
       "norm_Freedom to make life choices       0.208721\n",
       "norm_Generosity                         0.074108\n",
       "norm_Perceptions of corruption         -0.051181\n",
       "norm_gini                              -0.171972\n",
       "norm_income_per_capita                 -0.852819\n",
       "norm_fertility                          0.150769\n",
       "norm_child_mortality                   -0.097858\n",
       "norm_labor_ppt_25-54                   -0.059374\n",
       "Asia                                   -0.458011\n",
       "Central and Eastern Europe             -0.245277\n",
       "Commonwealth of Independent States     -0.546311\n",
       "Latin America and Caribbean             0.275090\n",
       "Middle East and North Africa           -0.664538\n",
       "Sub-Saharan Africa                     -0.282647"
      ]
     },
     "execution_count": 37,
     "metadata": {},
     "output_type": "execute_result"
    }
   ],
   "source": [
    "coefficients = pd.DataFrame(train_model.coef_.T, index=X.columns, columns=['coefficients'])\n",
    "coefficients"
   ]
  },
  {
   "cell_type": "code",
   "execution_count": 38,
   "metadata": {},
   "outputs": [
    {
     "data": {
      "text/plain": [
       "5.773520652202267"
      ]
     },
     "execution_count": 38,
     "metadata": {},
     "output_type": "execute_result"
    }
   ],
   "source": [
    "train_model.intercept_"
   ]
  },
  {
   "cell_type": "markdown",
   "metadata": {},
   "source": [
    "Look at the cofficients for the Regional Indicator Dummy variables (Asia, Central and Eastern Europe etc...) they are all negaive which means relaive to Western Developed Countries, all other categories result in a drop in ladder score."
   ]
  },
  {
   "cell_type": "code",
   "execution_count": 44,
   "metadata": {},
   "outputs": [
    {
     "data": {
      "text/plain": [
       "((105, 18), (35, 18), (105, 1), (35, 1))"
      ]
     },
     "execution_count": 44,
     "metadata": {},
     "output_type": "execute_result"
    }
   ],
   "source": [
    "# Use OLS to get p-values\n",
    "\n",
    "X_train_sm = sm.add_constant(X_train)\n",
    "X_test_sm = sm.add_constant(X_test)\n",
    "y_train_sm = y_train.values.reshape(-1,1)\n",
    "y_test_sm = y_test.values.reshape(-1,1)\n",
    "\n",
    "X_train_sm.shape, X_test_sm.shape, y_train_sm.shape, y_test_sm.shape"
   ]
  },
  {
   "cell_type": "code",
   "execution_count": 46,
   "metadata": {},
   "outputs": [
    {
     "data": {
      "text/plain": [
       "const                                 5.773521\n",
       "norm_Logged GDP per capita            1.247282\n",
       "norm_Social support                   0.220811\n",
       "norm_Healthy life expectancy          0.101970\n",
       "norm_Freedom to make life choices     0.208721\n",
       "norm_Generosity                       0.074108\n",
       "norm_Perceptions of corruption       -0.051181\n",
       "norm_gini                            -0.171972\n",
       "norm_income_per_capita               -0.852819\n",
       "norm_fertility                        0.150769\n",
       "norm_child_mortality                 -0.097858\n",
       "norm_labor_ppt_25-54                 -0.059374\n",
       "Asia                                 -0.458011\n",
       "Central and Eastern Europe           -0.245277\n",
       "Commonwealth of Independent States   -0.546311\n",
       "Latin America and Caribbean           0.275090\n",
       "Middle East and North Africa         -0.664538\n",
       "Sub-Saharan Africa                   -0.282647\n",
       "dtype: float64"
      ]
     },
     "execution_count": 46,
     "metadata": {},
     "output_type": "execute_result"
    }
   ],
   "source": [
    "ols_model = sm.OLS(y_train_sm, X_train_sm)\n",
    "ols_results = ols_model.fit()\n",
    "ols_results.params"
   ]
  },
  {
   "cell_type": "code",
   "execution_count": 47,
   "metadata": {},
   "outputs": [
    {
     "data": {
      "text/html": [
       "<table class=\"simpletable\">\n",
       "<caption>OLS Regression Results</caption>\n",
       "<tr>\n",
       "  <th>Dep. Variable:</th>            <td>y</td>        <th>  R-squared:         </th> <td>   0.842</td>\n",
       "</tr>\n",
       "<tr>\n",
       "  <th>Model:</th>                   <td>OLS</td>       <th>  Adj. R-squared:    </th> <td>   0.811</td>\n",
       "</tr>\n",
       "<tr>\n",
       "  <th>Method:</th>             <td>Least Squares</td>  <th>  F-statistic:       </th> <td>   27.28</td>\n",
       "</tr>\n",
       "<tr>\n",
       "  <th>Date:</th>             <td>Sun, 08 Aug 2021</td> <th>  Prob (F-statistic):</th> <td>1.08e-27</td>\n",
       "</tr>\n",
       "<tr>\n",
       "  <th>Time:</th>                 <td>11:14:23</td>     <th>  Log-Likelihood:    </th> <td> -56.052</td>\n",
       "</tr>\n",
       "<tr>\n",
       "  <th>No. Observations:</th>      <td>   105</td>      <th>  AIC:               </th> <td>   148.1</td>\n",
       "</tr>\n",
       "<tr>\n",
       "  <th>Df Residuals:</th>          <td>    87</td>      <th>  BIC:               </th> <td>   195.9</td>\n",
       "</tr>\n",
       "<tr>\n",
       "  <th>Df Model:</th>              <td>    17</td>      <th>                     </th>     <td> </td>   \n",
       "</tr>\n",
       "<tr>\n",
       "  <th>Covariance Type:</th>      <td>nonrobust</td>    <th>                     </th>     <td> </td>   \n",
       "</tr>\n",
       "</table>\n",
       "<table class=\"simpletable\">\n",
       "<tr>\n",
       "                   <td></td>                     <th>coef</th>     <th>std err</th>      <th>t</th>      <th>P>|t|</th>  <th>[0.025</th>    <th>0.975]</th>  \n",
       "</tr>\n",
       "<tr>\n",
       "  <th>const</th>                              <td>    5.7735</td> <td>    0.192</td> <td>   30.147</td> <td> 0.000</td> <td>    5.393</td> <td>    6.154</td>\n",
       "</tr>\n",
       "<tr>\n",
       "  <th>norm_Logged GDP per capita</th>         <td>    1.2473</td> <td>    0.522</td> <td>    2.387</td> <td> 0.019</td> <td>    0.209</td> <td>    2.286</td>\n",
       "</tr>\n",
       "<tr>\n",
       "  <th>norm_Social support</th>                <td>    0.2208</td> <td>    0.094</td> <td>    2.344</td> <td> 0.021</td> <td>    0.034</td> <td>    0.408</td>\n",
       "</tr>\n",
       "<tr>\n",
       "  <th>norm_Healthy life expectancy</th>       <td>    0.1020</td> <td>    0.188</td> <td>    0.543</td> <td> 0.589</td> <td>   -0.271</td> <td>    0.475</td>\n",
       "</tr>\n",
       "<tr>\n",
       "  <th>norm_Freedom to make life choices</th>  <td>    0.2087</td> <td>    0.066</td> <td>    3.154</td> <td> 0.002</td> <td>    0.077</td> <td>    0.340</td>\n",
       "</tr>\n",
       "<tr>\n",
       "  <th>norm_Generosity</th>                    <td>    0.0741</td> <td>    0.053</td> <td>    1.389</td> <td> 0.168</td> <td>   -0.032</td> <td>    0.180</td>\n",
       "</tr>\n",
       "<tr>\n",
       "  <th>norm_Perceptions of corruption</th>     <td>   -0.0512</td> <td>    0.063</td> <td>   -0.808</td> <td> 0.421</td> <td>   -0.177</td> <td>    0.075</td>\n",
       "</tr>\n",
       "<tr>\n",
       "  <th>norm_gini</th>                          <td>   -0.1720</td> <td>    0.067</td> <td>   -2.553</td> <td> 0.012</td> <td>   -0.306</td> <td>   -0.038</td>\n",
       "</tr>\n",
       "<tr>\n",
       "  <th>norm_income_per_capita</th>             <td>   -0.8528</td> <td>    0.481</td> <td>   -1.774</td> <td> 0.080</td> <td>   -1.809</td> <td>    0.103</td>\n",
       "</tr>\n",
       "<tr>\n",
       "  <th>norm_fertility</th>                     <td>    0.1508</td> <td>    0.107</td> <td>    1.411</td> <td> 0.162</td> <td>   -0.062</td> <td>    0.363</td>\n",
       "</tr>\n",
       "<tr>\n",
       "  <th>norm_child_mortality</th>               <td>   -0.0979</td> <td>    0.185</td> <td>   -0.528</td> <td> 0.599</td> <td>   -0.466</td> <td>    0.271</td>\n",
       "</tr>\n",
       "<tr>\n",
       "  <th>norm_labor_ppt_25-54</th>               <td>   -0.0594</td> <td>    0.059</td> <td>   -1.015</td> <td> 0.313</td> <td>   -0.176</td> <td>    0.057</td>\n",
       "</tr>\n",
       "<tr>\n",
       "  <th>Asia</th>                               <td>   -0.4580</td> <td>    0.259</td> <td>   -1.767</td> <td> 0.081</td> <td>   -0.973</td> <td>    0.057</td>\n",
       "</tr>\n",
       "<tr>\n",
       "  <th>Central and Eastern Europe</th>         <td>   -0.2453</td> <td>    0.239</td> <td>   -1.027</td> <td> 0.307</td> <td>   -0.720</td> <td>    0.229</td>\n",
       "</tr>\n",
       "<tr>\n",
       "  <th>Commonwealth of Independent States</th> <td>   -0.5463</td> <td>    0.273</td> <td>   -2.001</td> <td> 0.049</td> <td>   -1.089</td> <td>   -0.004</td>\n",
       "</tr>\n",
       "<tr>\n",
       "  <th>Latin America and Caribbean</th>        <td>    0.2751</td> <td>    0.255</td> <td>    1.078</td> <td> 0.284</td> <td>   -0.232</td> <td>    0.782</td>\n",
       "</tr>\n",
       "<tr>\n",
       "  <th>Middle East and North Africa</th>       <td>   -0.6645</td> <td>    0.282</td> <td>   -2.355</td> <td> 0.021</td> <td>   -1.225</td> <td>   -0.104</td>\n",
       "</tr>\n",
       "<tr>\n",
       "  <th>Sub-Saharan Africa</th>                 <td>   -0.2826</td> <td>    0.330</td> <td>   -0.855</td> <td> 0.395</td> <td>   -0.939</td> <td>    0.374</td>\n",
       "</tr>\n",
       "</table>\n",
       "<table class=\"simpletable\">\n",
       "<tr>\n",
       "  <th>Omnibus:</th>       <td>11.596</td> <th>  Durbin-Watson:     </th> <td>   1.932</td>\n",
       "</tr>\n",
       "<tr>\n",
       "  <th>Prob(Omnibus):</th> <td> 0.003</td> <th>  Jarque-Bera (JB):  </th> <td>  11.954</td>\n",
       "</tr>\n",
       "<tr>\n",
       "  <th>Skew:</th>          <td>-0.769</td> <th>  Prob(JB):          </th> <td> 0.00254</td>\n",
       "</tr>\n",
       "<tr>\n",
       "  <th>Kurtosis:</th>      <td> 3.605</td> <th>  Cond. No.          </th> <td>    38.4</td>\n",
       "</tr>\n",
       "</table><br/><br/>Warnings:<br/>[1] Standard Errors assume that the covariance matrix of the errors is correctly specified."
      ],
      "text/plain": [
       "<class 'statsmodels.iolib.summary.Summary'>\n",
       "\"\"\"\n",
       "                            OLS Regression Results                            \n",
       "==============================================================================\n",
       "Dep. Variable:                      y   R-squared:                       0.842\n",
       "Model:                            OLS   Adj. R-squared:                  0.811\n",
       "Method:                 Least Squares   F-statistic:                     27.28\n",
       "Date:                Sun, 08 Aug 2021   Prob (F-statistic):           1.08e-27\n",
       "Time:                        11:14:23   Log-Likelihood:                -56.052\n",
       "No. Observations:                 105   AIC:                             148.1\n",
       "Df Residuals:                      87   BIC:                             195.9\n",
       "Df Model:                          17                                         \n",
       "Covariance Type:            nonrobust                                         \n",
       "======================================================================================================\n",
       "                                         coef    std err          t      P>|t|      [0.025      0.975]\n",
       "------------------------------------------------------------------------------------------------------\n",
       "const                                  5.7735      0.192     30.147      0.000       5.393       6.154\n",
       "norm_Logged GDP per capita             1.2473      0.522      2.387      0.019       0.209       2.286\n",
       "norm_Social support                    0.2208      0.094      2.344      0.021       0.034       0.408\n",
       "norm_Healthy life expectancy           0.1020      0.188      0.543      0.589      -0.271       0.475\n",
       "norm_Freedom to make life choices      0.2087      0.066      3.154      0.002       0.077       0.340\n",
       "norm_Generosity                        0.0741      0.053      1.389      0.168      -0.032       0.180\n",
       "norm_Perceptions of corruption        -0.0512      0.063     -0.808      0.421      -0.177       0.075\n",
       "norm_gini                             -0.1720      0.067     -2.553      0.012      -0.306      -0.038\n",
       "norm_income_per_capita                -0.8528      0.481     -1.774      0.080      -1.809       0.103\n",
       "norm_fertility                         0.1508      0.107      1.411      0.162      -0.062       0.363\n",
       "norm_child_mortality                  -0.0979      0.185     -0.528      0.599      -0.466       0.271\n",
       "norm_labor_ppt_25-54                  -0.0594      0.059     -1.015      0.313      -0.176       0.057\n",
       "Asia                                  -0.4580      0.259     -1.767      0.081      -0.973       0.057\n",
       "Central and Eastern Europe            -0.2453      0.239     -1.027      0.307      -0.720       0.229\n",
       "Commonwealth of Independent States    -0.5463      0.273     -2.001      0.049      -1.089      -0.004\n",
       "Latin America and Caribbean            0.2751      0.255      1.078      0.284      -0.232       0.782\n",
       "Middle East and North Africa          -0.6645      0.282     -2.355      0.021      -1.225      -0.104\n",
       "Sub-Saharan Africa                    -0.2826      0.330     -0.855      0.395      -0.939       0.374\n",
       "==============================================================================\n",
       "Omnibus:                       11.596   Durbin-Watson:                   1.932\n",
       "Prob(Omnibus):                  0.003   Jarque-Bera (JB):               11.954\n",
       "Skew:                          -0.769   Prob(JB):                      0.00254\n",
       "Kurtosis:                       3.605   Cond. No.                         38.4\n",
       "==============================================================================\n",
       "\n",
       "Warnings:\n",
       "[1] Standard Errors assume that the covariance matrix of the errors is correctly specified.\n",
       "\"\"\""
      ]
     },
     "execution_count": 47,
     "metadata": {},
     "output_type": "execute_result"
    }
   ],
   "source": [
    "ols_results.summary()"
   ]
  },
  {
   "cell_type": "markdown",
   "metadata": {},
   "source": [
    "Based on p-values, we see that at a 95% confidence interval, the following variables are statistically significant:\n",
    "\n",
    "1. norm_Logged GDP per capita\n",
    "2. norm_Social Support\n",
    "3. norm_Freedom to make life choices\n",
    "4. norm_income_per_capita\n",
    "5. norm_gini"
   ]
  },
  {
   "cell_type": "markdown",
   "metadata": {},
   "source": [
    "### 5.5.2 Linear Regression with significant variables <a id='5.5.2_lr_sig'></a>"
   ]
  },
  {
   "cell_type": "code",
   "execution_count": 84,
   "metadata": {},
   "outputs": [],
   "source": [
    "# create list of significant variables\n",
    "\n",
    "significant_vars = ['norm_Logged GDP per capita', 'norm_Social support', 'norm_Freedom to make life choices', 'norm_income_per_capita', 'norm_gini']"
   ]
  },
  {
   "cell_type": "code",
   "execution_count": 89,
   "metadata": {},
   "outputs": [
    {
     "data": {
      "text/plain": [
       "((105, 5), (35, 5))"
      ]
     },
     "execution_count": 89,
     "metadata": {},
     "output_type": "execute_result"
    }
   ],
   "source": [
    "# Filter X dataset for only significant variables\n",
    "\n",
    "X_train_sig = X_train.loc[:, significant_vars]\n",
    "X_test_sig = X_test.loc[:, significant_vars]\n",
    "\n",
    "X_train_sig.shape, X_test_sig.shape"
   ]
  },
  {
   "cell_type": "code",
   "execution_count": 90,
   "metadata": {},
   "outputs": [],
   "source": [
    "# Train model with only significant variables\n",
    "\n",
    "rModel_sig = linear_model.LinearRegression()\n",
    "train_model_sig = rModel.fit(X_train_sig, y_train)\n",
    "train_model_sig.score(X_train_sig, y_train)\n",
    "y_predict_sig = train_model.predict(X_test_sig)"
   ]
  },
  {
   "cell_type": "code",
   "execution_count": 91,
   "metadata": {},
   "outputs": [
    {
     "name": "stdout",
     "output_type": "stream",
     "text": [
      "Mean Absolute Error:  0.44527597584273865\n",
      "Mean Squared Error:  0.3486660606752898\n",
      "Root Mean Squared Error:  0.5904795175747334\n"
     ]
    }
   ],
   "source": [
    "# Print results of the prediction\n",
    "\n",
    "print('Mean Absolute Error: ', mean_absolute_error(y_test,y_predict_sig ))\n",
    "print('Mean Squared Error: ', mean_squared_error(y_test, y_predict_sig))\n",
    "print('Root Mean Squared Error: ', np.sqrt(mean_squared_error(y_test, y_predict_sig)))"
   ]
  },
  {
   "cell_type": "code",
   "execution_count": 93,
   "metadata": {},
   "outputs": [],
   "source": [
    "lr2_sig_metrics = [mean_absolute_error(y_test,y_predict_sig ), mean_squared_error(y_test, y_predict_sig), np.sqrt(mean_squared_error(y_test, y_predict_sig))]"
   ]
  },
  {
   "cell_type": "code",
   "execution_count": 95,
   "metadata": {},
   "outputs": [
    {
     "data": {
      "text/html": [
       "<div>\n",
       "<style scoped>\n",
       "    .dataframe tbody tr th:only-of-type {\n",
       "        vertical-align: middle;\n",
       "    }\n",
       "\n",
       "    .dataframe tbody tr th {\n",
       "        vertical-align: top;\n",
       "    }\n",
       "\n",
       "    .dataframe thead th {\n",
       "        text-align: right;\n",
       "    }\n",
       "</style>\n",
       "<table border=\"1\" class=\"dataframe\">\n",
       "  <thead>\n",
       "    <tr style=\"text-align: right;\">\n",
       "      <th></th>\n",
       "      <th>Mean Absolute Error</th>\n",
       "      <th>Mean Squared Error</th>\n",
       "      <th>Root Mean Squared Error</th>\n",
       "    </tr>\n",
       "    <tr>\n",
       "      <th>index</th>\n",
       "      <th></th>\n",
       "      <th></th>\n",
       "      <th></th>\n",
       "    </tr>\n",
       "  </thead>\n",
       "  <tbody>\n",
       "    <tr>\n",
       "      <th>linear regression with five features</th>\n",
       "      <td>0.445276</td>\n",
       "      <td>0.348666</td>\n",
       "      <td>0.59048</td>\n",
       "    </tr>\n",
       "  </tbody>\n",
       "</table>\n",
       "</div>"
      ],
      "text/plain": [
       "                                      Mean Absolute Error  Mean Squared Error  \\\n",
       "index                                                                           \n",
       "linear regression with five features             0.445276            0.348666   \n",
       "\n",
       "                                      Root Mean Squared Error  \n",
       "index                                                          \n",
       "linear regression with five features                  0.59048  "
      ]
     },
     "execution_count": 95,
     "metadata": {},
     "output_type": "execute_result"
    }
   ],
   "source": [
    "df_metrics_sig = pd.DataFrame(lr2_sig_metrics).T\n",
    "df_metrics_sig['index'] = 'linear regression with five features'\n",
    "\n",
    "df_metrics_sig.set_index('index', inplace=True)\n",
    "df_metrics_sig.columns = ['Mean Absolute Error', 'Mean Squared Error', 'Root Mean Squared Error']\n",
    "df_metrics_sig"
   ]
  },
  {
   "cell_type": "code",
   "execution_count": 101,
   "metadata": {},
   "outputs": [
    {
     "data": {
      "text/html": [
       "<div>\n",
       "<style scoped>\n",
       "    .dataframe tbody tr th:only-of-type {\n",
       "        vertical-align: middle;\n",
       "    }\n",
       "\n",
       "    .dataframe tbody tr th {\n",
       "        vertical-align: top;\n",
       "    }\n",
       "\n",
       "    .dataframe thead th {\n",
       "        text-align: right;\n",
       "    }\n",
       "</style>\n",
       "<table border=\"1\" class=\"dataframe\">\n",
       "  <thead>\n",
       "    <tr style=\"text-align: right;\">\n",
       "      <th></th>\n",
       "      <th>Mean Absolute Error</th>\n",
       "      <th>Mean Squared Error</th>\n",
       "      <th>Root Mean Squared Error</th>\n",
       "    </tr>\n",
       "    <tr>\n",
       "      <th>index</th>\n",
       "      <th></th>\n",
       "      <th></th>\n",
       "      <th></th>\n",
       "    </tr>\n",
       "  </thead>\n",
       "  <tbody>\n",
       "    <tr>\n",
       "      <th>linear regression all vars</th>\n",
       "      <td>0.404218</td>\n",
       "      <td>0.304642</td>\n",
       "      <td>0.551944</td>\n",
       "    </tr>\n",
       "    <tr>\n",
       "      <th>linear regression with five features</th>\n",
       "      <td>0.445276</td>\n",
       "      <td>0.348666</td>\n",
       "      <td>0.590480</td>\n",
       "    </tr>\n",
       "  </tbody>\n",
       "</table>\n",
       "</div>"
      ],
      "text/plain": [
       "                                      Mean Absolute Error  Mean Squared Error  \\\n",
       "index                                                                           \n",
       "linear regression all vars                       0.404218            0.304642   \n",
       "linear regression with five features             0.445276            0.348666   \n",
       "\n",
       "                                      Root Mean Squared Error  \n",
       "index                                                          \n",
       "linear regression all vars                           0.551944  \n",
       "linear regression with five features                 0.590480  "
      ]
     },
     "execution_count": 101,
     "metadata": {},
     "output_type": "execute_result"
    }
   ],
   "source": [
    "df_metrics = pd.concat([df_metrics, df_metrics_sig])\n",
    "df_metrics"
   ]
  },
  {
   "cell_type": "markdown",
   "metadata": {},
   "source": [
    "The model underperformed when we only used significant variables. Next, let's try to include the regional indicator variables"
   ]
  },
  {
   "cell_type": "markdown",
   "metadata": {},
   "source": [
    "### 5.5.3 Linear Regression with significant variables and regional indicators <a id='5.5.3_lr_sig2'></a>"
   ]
  },
  {
   "cell_type": "code",
   "execution_count": 109,
   "metadata": {},
   "outputs": [],
   "source": [
    "significant_vars2 = ['norm_Logged GDP per capita', 'norm_Social support', 'norm_Freedom to make life choices', 'norm_income_per_capita', 'norm_gini', 'Asia','Central and Eastern Europe','Commonwealth of Independent States', 'Latin America and Caribbean','Middle East and North Africa','Sub-Saharan Africa']"
   ]
  },
  {
   "cell_type": "code",
   "execution_count": 110,
   "metadata": {},
   "outputs": [
    {
     "data": {
      "text/plain": [
       "((105, 11), (35, 11))"
      ]
     },
     "execution_count": 110,
     "metadata": {},
     "output_type": "execute_result"
    }
   ],
   "source": [
    "# Filter X dataset for only significant variables\n",
    "\n",
    "X_train_sig2 = X_train.loc[:, significant_vars2]\n",
    "X_test_sig2 = X_test.loc[:, significant_vars2]\n",
    "\n",
    "X_train_sig2.shape, X_test_sig2.shape"
   ]
  },
  {
   "cell_type": "code",
   "execution_count": 111,
   "metadata": {},
   "outputs": [],
   "source": [
    "# Train model with only significant variables\n",
    "\n",
    "rModel_sig2 = linear_model.LinearRegression()\n",
    "train_model_sig2 = rModel.fit(X_train_sig2, y_train)\n",
    "train_model_sig2.score(X_train_sig2, y_train)\n",
    "y_predict_sig2 = train_model.predict(X_test_sig2)"
   ]
  },
  {
   "cell_type": "code",
   "execution_count": 112,
   "metadata": {},
   "outputs": [
    {
     "name": "stdout",
     "output_type": "stream",
     "text": [
      "Mean Absolute Error:  0.40376747457433854\n",
      "Mean Squared Error:  0.3233068958774723\n",
      "Root Mean Squared Error:  0.5686008229658768\n"
     ]
    }
   ],
   "source": [
    "# Print results of the prediction\n",
    "\n",
    "print('Mean Absolute Error: ', mean_absolute_error(y_test,y_predict_sig2 ))\n",
    "print('Mean Squared Error: ', mean_squared_error(y_test, y_predict_sig2))\n",
    "print('Root Mean Squared Error: ', np.sqrt(mean_squared_error(y_test, y_predict_sig2)))"
   ]
  },
  {
   "cell_type": "code",
   "execution_count": 114,
   "metadata": {},
   "outputs": [],
   "source": [
    "lr3_sig2_metrics = [mean_absolute_error(y_test,y_predict_sig2 ), mean_squared_error(y_test, y_predict_sig2), np.sqrt(mean_squared_error(y_test, y_predict_sig2))]"
   ]
  },
  {
   "cell_type": "code",
   "execution_count": 116,
   "metadata": {},
   "outputs": [
    {
     "data": {
      "text/html": [
       "<div>\n",
       "<style scoped>\n",
       "    .dataframe tbody tr th:only-of-type {\n",
       "        vertical-align: middle;\n",
       "    }\n",
       "\n",
       "    .dataframe tbody tr th {\n",
       "        vertical-align: top;\n",
       "    }\n",
       "\n",
       "    .dataframe thead th {\n",
       "        text-align: right;\n",
       "    }\n",
       "</style>\n",
       "<table border=\"1\" class=\"dataframe\">\n",
       "  <thead>\n",
       "    <tr style=\"text-align: right;\">\n",
       "      <th></th>\n",
       "      <th>Mean Absolute Error</th>\n",
       "      <th>Mean Squared Error</th>\n",
       "      <th>Root Mean Squared Error</th>\n",
       "    </tr>\n",
       "    <tr>\n",
       "      <th>index</th>\n",
       "      <th></th>\n",
       "      <th></th>\n",
       "      <th></th>\n",
       "    </tr>\n",
       "  </thead>\n",
       "  <tbody>\n",
       "    <tr>\n",
       "      <th>linear regression with five features and regional indicators</th>\n",
       "      <td>0.403767</td>\n",
       "      <td>0.323307</td>\n",
       "      <td>0.568601</td>\n",
       "    </tr>\n",
       "  </tbody>\n",
       "</table>\n",
       "</div>"
      ],
      "text/plain": [
       "                                                    Mean Absolute Error  \\\n",
       "index                                                                     \n",
       "linear regression with five features and region...             0.403767   \n",
       "\n",
       "                                                    Mean Squared Error  \\\n",
       "index                                                                    \n",
       "linear regression with five features and region...            0.323307   \n",
       "\n",
       "                                                    Root Mean Squared Error  \n",
       "index                                                                        \n",
       "linear regression with five features and region...                 0.568601  "
      ]
     },
     "execution_count": 116,
     "metadata": {},
     "output_type": "execute_result"
    }
   ],
   "source": [
    "df_metrics_sig2 = pd.DataFrame(lr3_sig2_metrics).T\n",
    "df_metrics_sig2['index'] = 'linear regression with five features and regional indicators'\n",
    "\n",
    "df_metrics_sig2.set_index('index', inplace=True)\n",
    "df_metrics_sig2.columns = ['Mean Absolute Error', 'Mean Squared Error', 'Root Mean Squared Error']\n",
    "df_metrics_sig2"
   ]
  },
  {
   "cell_type": "code",
   "execution_count": 117,
   "metadata": {
    "scrolled": true
   },
   "outputs": [
    {
     "data": {
      "text/html": [
       "<div>\n",
       "<style scoped>\n",
       "    .dataframe tbody tr th:only-of-type {\n",
       "        vertical-align: middle;\n",
       "    }\n",
       "\n",
       "    .dataframe tbody tr th {\n",
       "        vertical-align: top;\n",
       "    }\n",
       "\n",
       "    .dataframe thead th {\n",
       "        text-align: right;\n",
       "    }\n",
       "</style>\n",
       "<table border=\"1\" class=\"dataframe\">\n",
       "  <thead>\n",
       "    <tr style=\"text-align: right;\">\n",
       "      <th></th>\n",
       "      <th>Mean Absolute Error</th>\n",
       "      <th>Mean Squared Error</th>\n",
       "      <th>Root Mean Squared Error</th>\n",
       "    </tr>\n",
       "    <tr>\n",
       "      <th>index</th>\n",
       "      <th></th>\n",
       "      <th></th>\n",
       "      <th></th>\n",
       "    </tr>\n",
       "  </thead>\n",
       "  <tbody>\n",
       "    <tr>\n",
       "      <th>linear regression all vars</th>\n",
       "      <td>0.404218</td>\n",
       "      <td>0.304642</td>\n",
       "      <td>0.551944</td>\n",
       "    </tr>\n",
       "    <tr>\n",
       "      <th>linear regression with five features</th>\n",
       "      <td>0.445276</td>\n",
       "      <td>0.348666</td>\n",
       "      <td>0.590480</td>\n",
       "    </tr>\n",
       "    <tr>\n",
       "      <th>linear regression with five features and regional indicators</th>\n",
       "      <td>0.403767</td>\n",
       "      <td>0.323307</td>\n",
       "      <td>0.568601</td>\n",
       "    </tr>\n",
       "  </tbody>\n",
       "</table>\n",
       "</div>"
      ],
      "text/plain": [
       "                                                    Mean Absolute Error  \\\n",
       "index                                                                     \n",
       "linear regression all vars                                     0.404218   \n",
       "linear regression with five features                           0.445276   \n",
       "linear regression with five features and region...             0.403767   \n",
       "\n",
       "                                                    Mean Squared Error  \\\n",
       "index                                                                    \n",
       "linear regression all vars                                    0.304642   \n",
       "linear regression with five features                          0.348666   \n",
       "linear regression with five features and region...            0.323307   \n",
       "\n",
       "                                                    Root Mean Squared Error  \n",
       "index                                                                        \n",
       "linear regression all vars                                         0.551944  \n",
       "linear regression with five features                               0.590480  \n",
       "linear regression with five features and region...                 0.568601  "
      ]
     },
     "execution_count": 117,
     "metadata": {},
     "output_type": "execute_result"
    }
   ],
   "source": [
    "df_metrics = pd.concat([df_metrics, df_metrics_sig2])\n",
    "df_metrics"
   ]
  },
  {
   "cell_type": "markdown",
   "metadata": {},
   "source": [
    "The model with all variables appears to have performed the best on test data with a MSE of 0.30 and RMSE of 0.55"
   ]
  },
  {
   "cell_type": "markdown",
   "metadata": {},
   "source": [
    "### 5.5.4 Linear Regression with all variables and cross validation <a id='5.5.4_lr_cv'></a>"
   ]
  },
  {
   "cell_type": "code",
   "execution_count": 135,
   "metadata": {},
   "outputs": [],
   "source": [
    "reg = linear_model.LinearRegression()\n",
    "cv_scores = cross_val_score(reg, X_train, y_train, cv=5, scoring='neg_mean_squared_error')"
   ]
  },
  {
   "cell_type": "code",
   "execution_count": 136,
   "metadata": {},
   "outputs": [
    {
     "name": "stdout",
     "output_type": "stream",
     "text": [
      "Average 5 fold Mean Square Error is:  0.29221992487558446\n"
     ]
    }
   ],
   "source": [
    "print('Average 5 fold Mean Square Error is: ',np.mean(cv_scores * -1))"
   ]
  },
  {
   "cell_type": "markdown",
   "metadata": {},
   "source": [
    "### 5.5.5 Linear Regression with 5 significant variables and regional indicators and cross validation <a id='5.5.5_lr_cv'></a>"
   ]
  },
  {
   "cell_type": "code",
   "execution_count": 142,
   "metadata": {},
   "outputs": [],
   "source": [
    "reg = linear_model.LinearRegression()\n",
    "cv_scores_sig2 = cross_val_score(reg, X_train_sig2, y_train, cv=5, scoring='neg_mean_squared_error')\n"
   ]
  },
  {
   "cell_type": "code",
   "execution_count": 143,
   "metadata": {},
   "outputs": [
    {
     "name": "stdout",
     "output_type": "stream",
     "text": [
      "Average 5 fold Mean Square Error is:  0.2708115503907027\n"
     ]
    }
   ],
   "source": [
    "print('Average 5 fold Mean Square Error is: ',np.mean(cv_scores_sig2 * -1))"
   ]
  },
  {
   "cell_type": "markdown",
   "metadata": {},
   "source": [
    "### 5.5.6 Linear Regression with 5 significant variables and cross validation <a id='5.5.6_lr_cv'></a>"
   ]
  },
  {
   "cell_type": "code",
   "execution_count": 145,
   "metadata": {},
   "outputs": [],
   "source": [
    "reg = linear_model.LinearRegression()\n",
    "cv_scores_sig = cross_val_score(reg, X_train_sig, y_train, cv=5, scoring='neg_mean_squared_error')"
   ]
  },
  {
   "cell_type": "code",
   "execution_count": 146,
   "metadata": {},
   "outputs": [
    {
     "name": "stdout",
     "output_type": "stream",
     "text": [
      "Average 5 fold Mean Square Error is:  0.3129186314111664\n"
     ]
    }
   ],
   "source": [
    "print('Average 5 fold Mean Square Error is: ',np.mean(cv_scores_sig * -1))"
   ]
  },
  {
   "cell_type": "markdown",
   "metadata": {},
   "source": [
    "When we use cross validation, the model with the 5 significant variables and regional indicators had the lowest mean square error."
   ]
  },
  {
   "cell_type": "markdown",
   "metadata": {},
   "source": [
    "### 5.5.7 Lasso Linear Regression with significant variables and GridSearchCV <a id='5.5.7_lrlasso_cv'></a>"
   ]
  },
  {
   "cell_type": "code",
   "execution_count": 162,
   "metadata": {},
   "outputs": [],
   "source": [
    "lasso = linear_model.Lasso(max_iter = 20000)\n",
    "params = {'alpha':(np.logspace(-8,8,50))}"
   ]
  },
  {
   "cell_type": "code",
   "execution_count": 163,
   "metadata": {},
   "outputs": [
    {
     "data": {
      "text/plain": [
       "GridSearchCV(cv=5, error_score=nan,\n",
       "             estimator=Lasso(alpha=1.0, copy_X=True, fit_intercept=True,\n",
       "                             max_iter=20000, normalize=False, positive=False,\n",
       "                             precompute=False, random_state=None,\n",
       "                             selection='cyclic', tol=0.0001, warm_start=False),\n",
       "             iid='deprecated', n_jobs=None,\n",
       "             param_grid={'alpha': array([1.00000000e-08, 2.12095089e-08, 4.49843267e-08, 9.54095476e-08,\n",
       "       2.02358965e-07...\n",
       "       2.81176870e+02, 5.96362332e+02, 1.26485522e+03, 2.68269580e+03,\n",
       "       5.68986603e+03, 1.20679264e+04, 2.55954792e+04, 5.42867544e+04,\n",
       "       1.15139540e+05, 2.44205309e+05, 5.17947468e+05, 1.09854114e+06,\n",
       "       2.32995181e+06, 4.94171336e+06, 1.04811313e+07, 2.22299648e+07,\n",
       "       4.71486636e+07, 1.00000000e+08])},\n",
       "             pre_dispatch='2*n_jobs', refit=True, return_train_score=False,\n",
       "             scoring=None, verbose=0)"
      ]
     },
     "execution_count": 163,
     "metadata": {},
     "output_type": "execute_result"
    }
   ],
   "source": [
    "lasso_model = GridSearchCV(lasso, params, cv=5)\n",
    "lasso_model.fit(X_train_sig2, y_train)"
   ]
  },
  {
   "cell_type": "code",
   "execution_count": 172,
   "metadata": {
    "scrolled": true
   },
   "outputs": [
    {
     "data": {
      "text/plain": [
       "({'alpha': 0.0075431200633546075}, 0.7440994018217512)"
      ]
     },
     "execution_count": 172,
     "metadata": {},
     "output_type": "execute_result"
    }
   ],
   "source": [
    "lasso_model.best_params_, lasso_model.best_score_"
   ]
  },
  {
   "cell_type": "code",
   "execution_count": 166,
   "metadata": {},
   "outputs": [],
   "source": [
    "y_predict_lasso = lasso_model.predict(X_test_sig2)"
   ]
  },
  {
   "cell_type": "code",
   "execution_count": 167,
   "metadata": {},
   "outputs": [
    {
     "name": "stdout",
     "output_type": "stream",
     "text": [
      "Mean Absolute Error:  0.39206358848940287\n",
      "Mean Squared Error:  0.2814140435200973\n",
      "Root Mean Squared Error:  0.530484725058222\n"
     ]
    }
   ],
   "source": [
    "# Print results of the prediction\n",
    "\n",
    "print('Mean Absolute Error: ', mean_absolute_error(y_test,y_predict_lasso ))\n",
    "print('Mean Squared Error: ', mean_squared_error(y_test, y_predict_lasso))\n",
    "print('Root Mean Squared Error: ', np.sqrt(mean_squared_error(y_test, y_predict_lasso)))"
   ]
  },
  {
   "cell_type": "code",
   "execution_count": 168,
   "metadata": {},
   "outputs": [],
   "source": [
    "lr4_lasso_metrics = [mean_absolute_error(y_test,y_predict_lasso ), mean_squared_error(y_test, y_predict_lasso), np.sqrt(mean_squared_error(y_test, y_predict_lasso))]"
   ]
  },
  {
   "cell_type": "code",
   "execution_count": 170,
   "metadata": {
    "scrolled": true
   },
   "outputs": [
    {
     "data": {
      "text/html": [
       "<div>\n",
       "<style scoped>\n",
       "    .dataframe tbody tr th:only-of-type {\n",
       "        vertical-align: middle;\n",
       "    }\n",
       "\n",
       "    .dataframe tbody tr th {\n",
       "        vertical-align: top;\n",
       "    }\n",
       "\n",
       "    .dataframe thead th {\n",
       "        text-align: right;\n",
       "    }\n",
       "</style>\n",
       "<table border=\"1\" class=\"dataframe\">\n",
       "  <thead>\n",
       "    <tr style=\"text-align: right;\">\n",
       "      <th></th>\n",
       "      <th>Mean Absolute Error</th>\n",
       "      <th>Mean Squared Error</th>\n",
       "      <th>Root Mean Squared Error</th>\n",
       "    </tr>\n",
       "    <tr>\n",
       "      <th>index</th>\n",
       "      <th></th>\n",
       "      <th></th>\n",
       "      <th></th>\n",
       "    </tr>\n",
       "  </thead>\n",
       "  <tbody>\n",
       "    <tr>\n",
       "      <th>lasso regression with five features and regional indicators</th>\n",
       "      <td>0.392064</td>\n",
       "      <td>0.281414</td>\n",
       "      <td>0.530485</td>\n",
       "    </tr>\n",
       "  </tbody>\n",
       "</table>\n",
       "</div>"
      ],
      "text/plain": [
       "                                                    Mean Absolute Error  \\\n",
       "index                                                                     \n",
       "lasso regression with five features and regiona...             0.392064   \n",
       "\n",
       "                                                    Mean Squared Error  \\\n",
       "index                                                                    \n",
       "lasso regression with five features and regiona...            0.281414   \n",
       "\n",
       "                                                    Root Mean Squared Error  \n",
       "index                                                                        \n",
       "lasso regression with five features and regiona...                 0.530485  "
      ]
     },
     "execution_count": 170,
     "metadata": {},
     "output_type": "execute_result"
    }
   ],
   "source": [
    "df_metrics_lasso = pd.DataFrame(lr4_lasso_metrics).T\n",
    "df_metrics_lasso['index'] = 'lasso regression with five features and regional indicators'\n",
    "\n",
    "df_metrics_lasso.set_index('index', inplace=True)\n",
    "df_metrics_lasso.columns = ['Mean Absolute Error', 'Mean Squared Error', 'Root Mean Squared Error']\n",
    "df_metrics_lasso"
   ]
  },
  {
   "cell_type": "code",
   "execution_count": 171,
   "metadata": {
    "scrolled": true
   },
   "outputs": [
    {
     "data": {
      "text/html": [
       "<div>\n",
       "<style scoped>\n",
       "    .dataframe tbody tr th:only-of-type {\n",
       "        vertical-align: middle;\n",
       "    }\n",
       "\n",
       "    .dataframe tbody tr th {\n",
       "        vertical-align: top;\n",
       "    }\n",
       "\n",
       "    .dataframe thead th {\n",
       "        text-align: right;\n",
       "    }\n",
       "</style>\n",
       "<table border=\"1\" class=\"dataframe\">\n",
       "  <thead>\n",
       "    <tr style=\"text-align: right;\">\n",
       "      <th></th>\n",
       "      <th>Mean Absolute Error</th>\n",
       "      <th>Mean Squared Error</th>\n",
       "      <th>Root Mean Squared Error</th>\n",
       "    </tr>\n",
       "    <tr>\n",
       "      <th>index</th>\n",
       "      <th></th>\n",
       "      <th></th>\n",
       "      <th></th>\n",
       "    </tr>\n",
       "  </thead>\n",
       "  <tbody>\n",
       "    <tr>\n",
       "      <th>linear regression all vars</th>\n",
       "      <td>0.404218</td>\n",
       "      <td>0.304642</td>\n",
       "      <td>0.551944</td>\n",
       "    </tr>\n",
       "    <tr>\n",
       "      <th>linear regression with five features</th>\n",
       "      <td>0.445276</td>\n",
       "      <td>0.348666</td>\n",
       "      <td>0.590480</td>\n",
       "    </tr>\n",
       "    <tr>\n",
       "      <th>linear regression with five features and regional indicators</th>\n",
       "      <td>0.403767</td>\n",
       "      <td>0.323307</td>\n",
       "      <td>0.568601</td>\n",
       "    </tr>\n",
       "    <tr>\n",
       "      <th>lasso regression with five features and regional indicators</th>\n",
       "      <td>0.392064</td>\n",
       "      <td>0.281414</td>\n",
       "      <td>0.530485</td>\n",
       "    </tr>\n",
       "  </tbody>\n",
       "</table>\n",
       "</div>"
      ],
      "text/plain": [
       "                                                    Mean Absolute Error  \\\n",
       "index                                                                     \n",
       "linear regression all vars                                     0.404218   \n",
       "linear regression with five features                           0.445276   \n",
       "linear regression with five features and region...             0.403767   \n",
       "lasso regression with five features and regiona...             0.392064   \n",
       "\n",
       "                                                    Mean Squared Error  \\\n",
       "index                                                                    \n",
       "linear regression all vars                                    0.304642   \n",
       "linear regression with five features                          0.348666   \n",
       "linear regression with five features and region...            0.323307   \n",
       "lasso regression with five features and regiona...            0.281414   \n",
       "\n",
       "                                                    Root Mean Squared Error  \n",
       "index                                                                        \n",
       "linear regression all vars                                         0.551944  \n",
       "linear regression with five features                               0.590480  \n",
       "linear regression with five features and region...                 0.568601  \n",
       "lasso regression with five features and regiona...                 0.530485  "
      ]
     },
     "execution_count": 171,
     "metadata": {},
     "output_type": "execute_result"
    }
   ],
   "source": [
    "df_metrics = pd.concat([df_metrics, df_metrics_lasso])\n",
    "df_metrics"
   ]
  },
  {
   "cell_type": "markdown",
   "metadata": {},
   "source": [
    "## 5.6 Conclusions <a id='5.6_conclusions'></a>"
   ]
  },
  {
   "cell_type": "markdown",
   "metadata": {},
   "source": [
    "We ran a regular linear regression model with all variables, one with only the 5 significant variables, and one with the 5 significant variables as wellas the regional indicator columns.\n",
    "\n",
    "Of these three models, the one that had the lowest MSE and RMSE was the model with all variables despite having some features that were not statistically significant. From a prediction standpoint we would go with the model with all values however when drawing inference I would only focus on the 5 significant variables.\n",
    "\n",
    "Afterwards, we used a lasso regression and Grid search to find the best alpha value. For a Lasso regression model using the 5 significant variables plus indicator variables, the best alpha was 0.0075, a very small value making this model very similar to Ordinary least squares regression. However Lasso did yield better predictions on the test set than when using any of the Linear Regression models. The Mean Aboslute error, Mean Squared Error and RMSE were all lower than any linear regression model.\n",
    "\n",
    "For the time being the Lasso regression model is the best one for predicting the happiness score for a country."
   ]
  },
  {
   "cell_type": "markdown",
   "metadata": {},
   "source": [
    "## 5.7 Resources Used <a id='5.7_resources'></a>"
   ]
  },
  {
   "cell_type": "markdown",
   "metadata": {},
   "source": [
    "https://www.kdnuggets.com/2019/03/beginners-guide-linear-regression-python-scikit-learn.html\n",
    "\n",
    "https://www.kaggle.com/jnikhilsai/cross-validation-with-linear-regression\n",
    "\n",
    "https://stackoverflow.com/questions/20681864/lasso-on-sklearn-does-not-converge\n"
   ]
  },
  {
   "cell_type": "code",
   "execution_count": null,
   "metadata": {},
   "outputs": [],
   "source": []
  }
 ],
 "metadata": {
  "kernelspec": {
   "display_name": "Python 3",
   "language": "python",
   "name": "python3"
  },
  "language_info": {
   "codemirror_mode": {
    "name": "ipython",
    "version": 3
   },
   "file_extension": ".py",
   "mimetype": "text/x-python",
   "name": "python",
   "nbconvert_exporter": "python",
   "pygments_lexer": "ipython3",
   "version": "3.7.6"
  }
 },
 "nbformat": 4,
 "nbformat_minor": 4
}
